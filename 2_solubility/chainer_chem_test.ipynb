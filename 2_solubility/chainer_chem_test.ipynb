{
 "cells": [
  {
   "cell_type": "code",
   "execution_count": 101,
   "metadata": {},
   "outputs": [],
   "source": [
    "import numpy as  np\n",
    "import pandas as pd\n",
    "import os\n",
    "from sklearn.metrics import mean_squared_error\n",
    "\n",
    "# chainer関連\n",
    "import chainer\n",
    "from chainer import functions as F\n",
    "from chainer.iterators import SerialIterator\n",
    "from chainer.training.extensions import Evaluator\n",
    "from chainer.datasets import split_dataset_random\n",
    "from chainer_chemistry.dataset.parsers import CSVFileParser\n",
    "from chainer_chemistry.dataset.converters import converter_method_dict\n",
    "from chainer_chemistry.dataset.preprocessors import preprocess_method_dict\n",
    "from chainer_chemistry.datasets import NumpyTupleDataset\n",
    "from chainer_chemistry.links.scaler.standard_scaler import StandardScaler\n",
    "from chainer_chemistry.models import Regressor\n",
    "from chainer_chemistry.models.prediction import set_up_predictor\n",
    "from chainer_chemistry.utils import run_train\n",
    "\n",
    "# 作図関連\n",
    "import seaborn as sns\n",
    "from matplotlib import pyplot as plt"
   ]
  },
  {
   "cell_type": "code",
   "execution_count": 102,
   "metadata": {},
   "outputs": [
    {
     "data": {
      "text/plain": [
       "1"
      ]
     },
     "execution_count": 102,
     "metadata": {},
     "output_type": "execute_result"
    }
   ],
   "source": [
    "# 予測値の項目名、数を設定\n",
    "labels = ['measured log(solubility:mol/L)']\n",
    "class_num = len(labels) if isinstance(labels, list) else 1\n",
    "class_num"
   ]
  },
  {
   "cell_type": "code",
   "execution_count": 103,
   "metadata": {},
   "outputs": [
    {
     "data": {
      "text/plain": [
       "'nfp'"
      ]
     },
     "execution_count": 103,
     "metadata": {},
     "output_type": "execute_result"
    }
   ],
   "source": [
    "# 予測方式のリスト\n",
    "method_list = ['nfp', 'ggnn', 'schnet', 'weavenet', 'rsgcn', 'relgcn',\n",
    "                   'relgat', 'mpnn', 'gnnfilm', 'megnet']\n",
    "\n",
    "# 選択する予測方式\n",
    "i = 0\n",
    "method_list[i]"
   ]
  },
  {
   "cell_type": "code",
   "execution_count": 104,
   "metadata": {},
   "outputs": [
    {
     "name": "stderr",
     "output_type": "stream",
     "text": [
      "100%|██████████████████████████████████████████████████████████████████████████████| 915/915 [00:00<00:00, 2376.66it/s]\n"
     ]
    }
   ],
   "source": [
    "# トレーニングデータのCSVファイルの読み込み\n",
    "def postprocess_label(label_list):\n",
    "    return np.asarray(label_list, dtype=np.float32)\n",
    "\n",
    "\n",
    "preprocessor = preprocess_method_dict[method_list[i]]()\n",
    "parser = CSVFileParser(preprocessor, postprocess_label=postprocess_label,\n",
    "                       labels=labels, smiles_col='SMILES')\n",
    "\n",
    "dataset = parser.parse('trainval.csv')['dataset']"
   ]
  },
  {
   "cell_type": "code",
   "execution_count": 105,
   "metadata": {},
   "outputs": [
    {
     "data": {
      "text/plain": [
       "<chainer_chemistry.links.scaler.standard_scaler.StandardScaler at 0x2f23d841948>"
      ]
     },
     "execution_count": 105,
     "metadata": {},
     "output_type": "execute_result"
    }
   ],
   "source": [
    "# 必要な場合は標準化を以下のように行う\n",
    "scaler = StandardScaler()\n",
    "scaler.fit(dataset.get_datasets()[-1])"
   ]
  },
  {
   "cell_type": "code",
   "execution_count": 106,
   "metadata": {},
   "outputs": [],
   "source": [
    "# トレーニングとバリデーションのデータを分割\n",
    "train_data_size = int(len(dataset) * 1)\n",
    "train, _ = split_dataset_random(dataset, train_data_size, seed = 0)# 今回はバリデーションは行わない"
   ]
  },
  {
   "cell_type": "code",
   "execution_count": 107,
   "metadata": {},
   "outputs": [
    {
     "name": "stdout",
     "output_type": "stream",
     "text": [
      "Set up NFP predictor...\n"
     ]
    }
   ],
   "source": [
    "# predictorのセットアップ\n",
    "# n_unitはモデルのレイヤー数\n",
    "predictor = set_up_predictor(\n",
    "    method = method_list[0], n_unit = 16,\n",
    "    conv_layers=6,class_num=class_num, label_scaler=scaler)"
   ]
  },
  {
   "cell_type": "code",
   "execution_count": 108,
   "metadata": {},
   "outputs": [],
   "source": [
    "# 条件の設定、device=-1 Numpy(CPU)で計算、+1でCupy(GPU)で計算\n",
    "def rmse(x0, x1):\n",
    "    return F.sqrt(F.mean_squared_error(x0, x1))\n",
    "\n",
    "device = chainer.get_device(-1)\n",
    "metrics_fun = {'mae': F.mean_absolute_error, 'rmse': rmse}\n",
    "regressor = Regressor(predictor, lossfun=F.mean_squared_error,metrics_fun=metrics_fun, device=device)"
   ]
  },
  {
   "cell_type": "code",
   "execution_count": 109,
   "metadata": {},
   "outputs": [
    {
     "name": "stdout",
     "output_type": "stream",
     "text": [
      "\n",
      "     total [..................................................]  1.75%\n",
      "this epoch [########..........................................] 17.49%\n",
      "        10 iter, 0 epoch / 10 epochs\n",
      "       inf iters/sec. Estimated time to finish: 0:00:00.\n",
      "     total [#.................................................]  3.50%\n",
      "this epoch [#################.................................] 34.97%\n",
      "        20 iter, 0 epoch / 10 epochs\n",
      "    14.303 iters/sec. Estimated time to finish: 0:00:38.585148.\n",
      "     total [##................................................]  5.25%\n",
      "this epoch [##########################........................] 52.46%\n",
      "        30 iter, 0 epoch / 10 epochs\n",
      "    14.223 iters/sec. Estimated time to finish: 0:00:38.099578.\n",
      "     total [###...............................................]  6.99%\n",
      "this epoch [##################################................] 69.95%\n",
      "        40 iter, 0 epoch / 10 epochs\n",
      "    15.057 iters/sec. Estimated time to finish: 0:00:35.323561.\n",
      "     total [####..............................................]  8.74%\n",
      "this epoch [###########################################.......] 87.43%\n",
      "        50 iter, 0 epoch / 10 epochs\n",
      "    15.493 iters/sec. Estimated time to finish: 0:00:33.685526.\n",
      "epoch       main/loss   main/mae    main/rmse   elapsed_time\n",
      "1           76.9798     6.00833     6.50667     3.72985       \n",
      "     total [#####.............................................] 10.49%\n",
      "this epoch [##................................................]  4.92%\n",
      "        60 iter, 1 epoch / 10 epochs\n",
      "    15.397 iters/sec. Estimated time to finish: 0:00:33.245753.\n",
      "     total [######............................................] 12.24%\n",
      "this epoch [###########.......................................] 22.40%\n",
      "        70 iter, 1 epoch / 10 epochs\n",
      "    15.366 iters/sec. Estimated time to finish: 0:00:32.662015.\n",
      "     total [######............................................] 13.99%\n",
      "this epoch [###################...............................] 39.89%\n",
      "        80 iter, 1 epoch / 10 epochs\n",
      "    15.491 iters/sec. Estimated time to finish: 0:00:31.752616.\n",
      "     total [#######...........................................] 15.74%\n",
      "this epoch [############################......................] 57.38%\n",
      "        90 iter, 1 epoch / 10 epochs\n",
      "    15.708 iters/sec. Estimated time to finish: 0:00:30.677492.\n",
      "     total [########..........................................] 17.49%\n",
      "this epoch [#####################################.............] 74.86%\n",
      "       100 iter, 1 epoch / 10 epochs\n",
      "    15.764 iters/sec. Estimated time to finish: 0:00:29.933632.\n",
      "     total [#########.........................................] 19.23%\n",
      "this epoch [##############################################....] 92.35%\n",
      "       110 iter, 1 epoch / 10 epochs\n",
      "    15.678 iters/sec. Estimated time to finish: 0:00:29.459996.\n",
      "2           6.49262     2.04612     2.507       7.30812       \n",
      "     total [##########........................................] 20.98%\n",
      "this epoch [####..............................................]  9.84%\n",
      "       120 iter, 2 epoch / 10 epochs\n",
      "     15.74 iters/sec. Estimated time to finish: 0:00:28.708645.\n",
      "     total [###########.......................................] 22.73%\n",
      "this epoch [#############.....................................] 27.32%\n",
      "       130 iter, 2 epoch / 10 epochs\n",
      "     15.87 iters/sec. Estimated time to finish: 0:00:27.842884.\n",
      "     total [############......................................] 24.48%\n",
      "this epoch [######################............................] 44.81%\n",
      "       140 iter, 2 epoch / 10 epochs\n",
      "    15.764 iters/sec. Estimated time to finish: 0:00:27.395868.\n",
      "     total [#############.....................................] 26.23%\n",
      "this epoch [###############################...................] 62.30%\n",
      "       150 iter, 2 epoch / 10 epochs\n",
      "    15.783 iters/sec. Estimated time to finish: 0:00:26.729512.\n",
      "     total [#############.....................................] 27.98%\n",
      "this epoch [#######################################...........] 79.78%\n",
      "       160 iter, 2 epoch / 10 epochs\n",
      "    15.791 iters/sec. Estimated time to finish: 0:00:26.083400.\n",
      "     total [##############....................................] 29.73%\n",
      "this epoch [################################################..] 97.27%\n",
      "       170 iter, 2 epoch / 10 epochs\n",
      "    15.774 iters/sec. Estimated time to finish: 0:00:25.476395.\n",
      "3           5.02077     1.77957     2.19408     10.8964       \n",
      "     total [###############...................................] 31.48%\n",
      "this epoch [#######...........................................] 14.75%\n",
      "       180 iter, 3 epoch / 10 epochs\n",
      "    15.775 iters/sec. Estimated time to finish: 0:00:24.840967.\n",
      "     total [################..................................] 33.22%\n",
      "this epoch [################..................................] 32.24%\n",
      "       190 iter, 3 epoch / 10 epochs\n",
      "    15.822 iters/sec. Estimated time to finish: 0:00:24.135474.\n",
      "     total [#################.................................] 34.97%\n",
      "this epoch [########################..........................] 49.73%\n",
      "       200 iter, 3 epoch / 10 epochs\n",
      "    15.735 iters/sec. Estimated time to finish: 0:00:23.632972.\n",
      "     total [##################................................] 36.72%\n",
      "this epoch [#################################.................] 67.21%\n",
      "       210 iter, 3 epoch / 10 epochs\n",
      "    15.831 iters/sec. Estimated time to finish: 0:00:22.858584.\n",
      "     total [###################...............................] 38.47%\n",
      "this epoch [##########################################........] 84.70%\n",
      "       220 iter, 3 epoch / 10 epochs\n",
      "    15.874 iters/sec. Estimated time to finish: 0:00:22.166584.\n",
      "4           3.9349      1.55324     1.95136     14.401        \n",
      "     total [####################..............................] 40.22%\n",
      "this epoch [#.................................................]  2.19%\n",
      "       230 iter, 4 epoch / 10 epochs\n",
      "    15.894 iters/sec. Estimated time to finish: 0:00:21.509691.\n",
      "     total [####################..............................] 41.97%\n",
      "this epoch [#########.........................................] 19.67%\n",
      "       240 iter, 4 epoch / 10 epochs\n",
      "    15.912 iters/sec. Estimated time to finish: 0:00:20.856963.\n",
      "     total [#####################.............................] 43.72%\n",
      "this epoch [##################................................] 37.16%\n",
      "       250 iter, 4 epoch / 10 epochs\n",
      "    15.968 iters/sec. Estimated time to finish: 0:00:20.157909.\n",
      "     total [######################............................] 45.46%\n",
      "this epoch [###########################.......................] 54.64%\n",
      "       260 iter, 4 epoch / 10 epochs\n",
      "     16.01 iters/sec. Estimated time to finish: 0:00:19.479670.\n",
      "     total [#######################...........................] 47.21%\n",
      "this epoch [####################################..............] 72.13%\n",
      "       270 iter, 4 epoch / 10 epochs\n",
      "    16.012 iters/sec. Estimated time to finish: 0:00:18.853382.\n",
      "     total [########################..........................] 48.96%\n",
      "this epoch [############################################......] 89.62%\n",
      "       280 iter, 4 epoch / 10 epochs\n",
      "    15.933 iters/sec. Estimated time to finish: 0:00:18.318331.\n",
      "5           3.36746     1.43025     1.7911      17.9504       \n",
      "     total [#########################.........................] 50.71%\n",
      "this epoch [###...............................................]  7.10%\n",
      "       290 iter, 5 epoch / 10 epochs\n",
      "     15.95 iters/sec. Estimated time to finish: 0:00:17.672638.\n",
      "     total [##########################........................] 52.46%\n",
      "this epoch [############......................................] 24.59%\n",
      "       300 iter, 5 epoch / 10 epochs\n",
      "     15.96 iters/sec. Estimated time to finish: 0:00:17.034397.\n",
      "     total [###########################.......................] 54.21%\n",
      "this epoch [#####################.............................] 42.08%\n",
      "       310 iter, 5 epoch / 10 epochs\n",
      "    16.001 iters/sec. Estimated time to finish: 0:00:16.365966.\n",
      "     total [###########################.......................] 55.96%\n",
      "this epoch [#############################.....................] 59.56%\n",
      "       320 iter, 5 epoch / 10 epochs\n",
      "    15.981 iters/sec. Estimated time to finish: 0:00:15.760906.\n",
      "     total [############################......................] 57.70%\n",
      "this epoch [######################################............] 77.05%\n",
      "       330 iter, 5 epoch / 10 epochs\n",
      "    15.981 iters/sec. Estimated time to finish: 0:00:15.135402.\n",
      "     total [#############################.....................] 59.45%\n",
      "this epoch [###############################################...] 94.54%\n",
      "       340 iter, 5 epoch / 10 epochs\n",
      "    16.044 iters/sec. Estimated time to finish: 0:00:14.452191.\n",
      "6           3.10531     1.38902     1.7302      21.5403       \n",
      "     total [##############################....................] 61.20%\n",
      "this epoch [######............................................] 12.02%\n",
      "       350 iter, 6 epoch / 10 epochs\n",
      "    15.982 iters/sec. Estimated time to finish: 0:00:13.882714.\n",
      "     total [###############################...................] 62.95%\n",
      "this epoch [##############....................................] 29.51%\n",
      "       360 iter, 6 epoch / 10 epochs\n",
      "    15.991 iters/sec. Estimated time to finish: 0:00:13.249663.\n",
      "     total [################################..................] 64.70%\n",
      "this epoch [#######################...........................] 46.99%\n",
      "       370 iter, 6 epoch / 10 epochs\n",
      "    16.008 iters/sec. Estimated time to finish: 0:00:12.611032.\n",
      "     total [#################################.................] 66.45%\n",
      "this epoch [################################..................] 64.48%\n",
      "       380 iter, 6 epoch / 10 epochs\n",
      "    15.993 iters/sec. Estimated time to finish: 0:00:11.997487.\n",
      "     total [##################################................] 68.20%\n",
      "this epoch [########################################..........] 81.97%\n",
      "       390 iter, 6 epoch / 10 epochs\n",
      "    15.984 iters/sec. Estimated time to finish: 0:00:11.378395.\n",
      "     total [##################################................] 69.95%\n",
      "this epoch [#################################################.] 99.45%\n",
      "       400 iter, 6 epoch / 10 epochs\n",
      "    15.908 iters/sec. Estimated time to finish: 0:00:10.803998.\n",
      "7           2.83735     1.32436     1.65525     25.2073       \n",
      "     total [###################################...............] 71.69%\n",
      "this epoch [########..........................................] 16.94%\n",
      "       410 iter, 7 epoch / 10 epochs\n",
      "    15.909 iters/sec. Estimated time to finish: 0:00:10.175299.\n",
      "     total [####################################..............] 73.44%\n",
      "this epoch [#################.................................] 34.43%\n",
      "       420 iter, 7 epoch / 10 epochs\n",
      "    15.918 iters/sec. Estimated time to finish: 0:00:09.541324.\n",
      "     total [#####################################.............] 75.19%\n",
      "this epoch [#########################.........................] 51.91%\n",
      "       430 iter, 7 epoch / 10 epochs\n",
      "    15.935 iters/sec. Estimated time to finish: 0:00:08.903297.\n",
      "     total [######################################............] 76.94%\n",
      "this epoch [##################################................] 69.40%\n",
      "       440 iter, 7 epoch / 10 epochs\n",
      "    15.932 iters/sec. Estimated time to finish: 0:00:08.277179.\n",
      "     total [#######################################...........] 78.69%\n",
      "this epoch [###########################################.......] 86.89%\n",
      "       450 iter, 7 epoch / 10 epochs\n",
      "    15.962 iters/sec. Estimated time to finish: 0:00:07.635173.\n",
      "8           2.73051     1.29416     1.61452     28.6988       \n",
      "     total [########################################..........] 80.44%\n",
      "this epoch [##................................................]  4.37%\n",
      "       460 iter, 8 epoch / 10 epochs\n",
      "    15.957 iters/sec. Estimated time to finish: 0:00:07.011087.\n",
      "     total [#########################################.........] 82.19%\n",
      "this epoch [##########........................................] 21.86%\n",
      "       470 iter, 8 epoch / 10 epochs\n",
      "    15.964 iters/sec. Estimated time to finish: 0:00:06.381631.\n",
      "     total [#########################################.........] 83.93%\n",
      "this epoch [###################...............................] 39.34%\n",
      "       480 iter, 8 epoch / 10 epochs\n",
      "    15.976 iters/sec. Estimated time to finish: 0:00:05.750920.\n",
      "     total [##########################################........] 85.68%\n",
      "this epoch [############################......................] 56.83%\n",
      "       490 iter, 8 epoch / 10 epochs\n",
      "    15.929 iters/sec. Estimated time to finish: 0:00:05.139849.\n",
      "     total [###########################################.......] 87.43%\n",
      "this epoch [#####################################.............] 74.32%\n",
      "       500 iter, 8 epoch / 10 epochs\n",
      "    15.897 iters/sec. Estimated time to finish: 0:00:04.521281.\n",
      "     total [############################################......] 89.18%\n",
      "this epoch [#############################################.....] 91.80%\n",
      "       510 iter, 8 epoch / 10 epochs\n",
      "    15.906 iters/sec. Estimated time to finish: 0:00:03.890086.\n",
      "9           2.66869     1.27796     1.59638     32.3423       \n",
      "     total [#############################################.....] 90.93%\n",
      "this epoch [####..............................................]  9.29%\n",
      "       520 iter, 9 epoch / 10 epochs\n",
      "    15.924 iters/sec. Estimated time to finish: 0:00:03.257567.\n",
      "     total [##############################################....] 92.68%\n",
      "this epoch [#############.....................................] 26.78%\n",
      "       530 iter, 9 epoch / 10 epochs\n",
      "    15.932 iters/sec. Estimated time to finish: 0:00:02.628373.\n",
      "     total [###############################################...] 94.43%\n",
      "this epoch [######################............................] 44.26%\n",
      "       540 iter, 9 epoch / 10 epochs\n",
      "    15.907 iters/sec. Estimated time to finish: 0:00:02.003893.\n",
      "     total [################################################..] 96.17%\n",
      "this epoch [##############################....................] 61.75%\n",
      "       550 iter, 9 epoch / 10 epochs\n",
      "    15.931 iters/sec. Estimated time to finish: 0:00:01.373094.\n",
      "     total [################################################..] 97.92%\n",
      "this epoch [#######################################...........] 79.23%\n",
      "       560 iter, 9 epoch / 10 epochs\n",
      "    15.922 iters/sec. Estimated time to finish: 0:00:00.745814.\n",
      "     total [#################################################.] 99.67%\n",
      "this epoch [################################################..] 96.72%\n",
      "       570 iter, 9 epoch / 10 epochs\n",
      "    15.892 iters/sec. Estimated time to finish: 0:00:00.117987.\n",
      "10          2.71836     1.29247     1.59008     35.9886       \n"
     ]
    }
   ],
   "source": [
    "# トレーニングの実施\n",
    "converter_t = converter_method_dict[method_list[i]]\n",
    "run_train(regressor, train, valid=None,\n",
    "          batch_size=16, epoch=10,\n",
    "          out='result', extensions_list=None,\n",
    "          device=device, converter=converter_t,\n",
    "          resume_path=None)"
   ]
  },
  {
   "cell_type": "code",
   "execution_count": 110,
   "metadata": {},
   "outputs": [
    {
     "name": "stderr",
     "output_type": "stream",
     "text": [
      "100%|██████████████████████████████████████████████████████████████████████████████| 229/229 [00:00<00:00, 1861.37it/s]\n"
     ]
    }
   ],
   "source": [
    "# テストデータの読み込み\n",
    "test = parser.parse('test.csv')['dataset']"
   ]
  },
  {
   "cell_type": "code",
   "execution_count": 111,
   "metadata": {},
   "outputs": [],
   "source": [
    "# この辺参考\n",
    "# https://github.com/chainer/chainer-chemistry/issues/362\n",
    "if isinstance(test, NumpyTupleDataset):\n",
    "    converter = converter_method_dict[method_list[i]]\n",
    "\n",
    "    @chainer.dataset.converter()\n",
    "    def extract_inputs(batch, device=None):\n",
    "        return converter(batch, device=device)[:-1]\n",
    "\n",
    "    # Extract the ground-truth labels as numpy array.\n",
    "    original_t = converter(test, device=-1)[-1]\n",
    "else:\n",
    "    converter = test.converter\n",
    "    extract_inputs = converter\n",
    "\n",
    "    # Extract the ground-truth labels as numpy array.\n",
    "    original_t = converter(test, device=-1).y"
   ]
  },
  {
   "cell_type": "code",
   "execution_count": 112,
   "metadata": {},
   "outputs": [],
   "source": [
    "#データの予測\n",
    "y_pred = regressor.predict(test, converter=extract_inputs,postprocess_fn=lambda x:x)"
   ]
  },
  {
   "cell_type": "code",
   "execution_count": 113,
   "metadata": {},
   "outputs": [
    {
     "data": {
      "text/html": [
       "<div>\n",
       "<style scoped>\n",
       "    .dataframe tbody tr th:only-of-type {\n",
       "        vertical-align: middle;\n",
       "    }\n",
       "\n",
       "    .dataframe tbody tr th {\n",
       "        vertical-align: top;\n",
       "    }\n",
       "\n",
       "    .dataframe thead th {\n",
       "        text-align: right;\n",
       "    }\n",
       "</style>\n",
       "<table border=\"1\" class=\"dataframe\">\n",
       "  <thead>\n",
       "    <tr style=\"text-align: right;\">\n",
       "      <th></th>\n",
       "      <th>y_pred_measured log(solubility:mol/L)</th>\n",
       "      <th>t_measured log(solubility:mol/L)</th>\n",
       "    </tr>\n",
       "  </thead>\n",
       "  <tbody>\n",
       "    <tr>\n",
       "      <th>0</th>\n",
       "      <td>-3.279569</td>\n",
       "      <td>-2.460</td>\n",
       "    </tr>\n",
       "    <tr>\n",
       "      <th>1</th>\n",
       "      <td>-4.821130</td>\n",
       "      <td>-2.850</td>\n",
       "    </tr>\n",
       "    <tr>\n",
       "      <th>2</th>\n",
       "      <td>-3.322173</td>\n",
       "      <td>-1.780</td>\n",
       "    </tr>\n",
       "    <tr>\n",
       "      <th>3</th>\n",
       "      <td>-3.050622</td>\n",
       "      <td>-0.410</td>\n",
       "    </tr>\n",
       "    <tr>\n",
       "      <th>4</th>\n",
       "      <td>-4.549259</td>\n",
       "      <td>-4.460</td>\n",
       "    </tr>\n",
       "    <tr>\n",
       "      <th>5</th>\n",
       "      <td>-4.646048</td>\n",
       "      <td>-1.601</td>\n",
       "    </tr>\n",
       "    <tr>\n",
       "      <th>6</th>\n",
       "      <td>-3.278482</td>\n",
       "      <td>-1.030</td>\n",
       "    </tr>\n",
       "    <tr>\n",
       "      <th>7</th>\n",
       "      <td>-3.732220</td>\n",
       "      <td>-3.380</td>\n",
       "    </tr>\n",
       "    <tr>\n",
       "      <th>8</th>\n",
       "      <td>-3.961792</td>\n",
       "      <td>-2.630</td>\n",
       "    </tr>\n",
       "    <tr>\n",
       "      <th>9</th>\n",
       "      <td>-2.755128</td>\n",
       "      <td>-0.820</td>\n",
       "    </tr>\n",
       "  </tbody>\n",
       "</table>\n",
       "</div>"
      ],
      "text/plain": [
       "   y_pred_measured log(solubility:mol/L)  t_measured log(solubility:mol/L)\n",
       "0                              -3.279569                            -2.460\n",
       "1                              -4.821130                            -2.850\n",
       "2                              -3.322173                            -1.780\n",
       "3                              -3.050622                            -0.410\n",
       "4                              -4.549259                            -4.460\n",
       "5                              -4.646048                            -1.601\n",
       "6                              -3.278482                            -1.030\n",
       "7                              -3.732220                            -3.380\n",
       "8                              -3.961792                            -2.630\n",
       "9                              -2.755128                            -0.820"
      ]
     },
     "execution_count": 113,
     "metadata": {},
     "output_type": "execute_result"
    }
   ],
   "source": [
    "# 予測結果のdf作成\n",
    "df_dict = {}\n",
    "for i, l in enumerate(labels):\n",
    "    df_dict.update({'y_pred_{}'.format(l): y_pred[:, i],\n",
    "                    't_{}'.format(l): original_t[:, i], })\n",
    "df = pd.DataFrame(df_dict)\n",
    "\n",
    "# Show a prediction/ground truth table with 5 random examples.\n",
    "df.head(10)"
   ]
  },
  {
   "cell_type": "code",
   "execution_count": 115,
   "metadata": {},
   "outputs": [
    {
     "data": {
      "text/plain": [
       "[(-10, 2), (-10, 2)]"
      ]
     },
     "execution_count": 115,
     "metadata": {},
     "output_type": "execute_result"
    },
    {
     "data": {
      "image/png": "[encoded data removed]",
      "text/plain": [
       "<Figure size 720x720 with 1 Axes>"
      ]
     },
     "metadata": {},
     "output_type": "display_data"
    }
   ],
   "source": [
    "sns.set()\n",
    "fig =plt.figure (figsize = (10,10))\n",
    "ax = sns.scatterplot(x=\"y_pred_measured log(solubility:mol/L)\", y=\"t_measured log(solubility:mol/L)\", data=df)\n",
    "ax.set(xlim=(-10,2), ylim=(-10,2))"
   ]
  },
  {
   "cell_type": "code",
   "execution_count": null,
   "metadata": {},
   "outputs": [],
   "source": [
    "https://deepchem.io/docs/notebooks/solubility.html\n",
    "https://pubs.acs.org/doi/10.1021/ci034243x"
   ]
  }
 ],
 "metadata": {
  "kernelspec": {
   "display_name": "Python 3",
   "language": "python",
   "name": "python3"
  },
  "language_info": {
   "codemirror_mode": {
    "name": "ipython",
    "version": 3
   },
   "file_extension": ".py",
   "mimetype": "text/x-python",
   "name": "python",
   "nbconvert_exporter": "python",
   "pygments_lexer": "ipython3",
   "version": "3.7.5"
  }
 },
 "nbformat": 4,
 "nbformat_minor": 4
}
