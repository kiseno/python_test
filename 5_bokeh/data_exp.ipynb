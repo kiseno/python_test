{
 "cells": [
  {
   "cell_type": "markdown",
   "metadata": {},
   "source": [
    "## インポート"
   ]
  },
  {
   "cell_type": "code",
   "execution_count": 21,
   "metadata": {},
   "outputs": [
    {
     "data": {
      "text/html": [
       "\n",
       "    <div class=\"bk-root\">\n",
       "        <a href=\"https://bokeh.org\" target=\"_blank\" class=\"bk-logo bk-logo-small bk-logo-notebook\"></a>\n",
       "        <span id=\"3068\">Loading BokehJS ...</span>\n",
       "    </div>"
      ]
     },
     "metadata": {},
     "output_type": "display_data"
    },
    {
     "data": {
      "application/javascript": [
       "\n",
       "(function(root) {\n",
       "  function now() {\n",
       "    return new Date();\n",
       "  }\n",
       "\n",
       "  var force = true;\n",
       "\n",
       "  if (typeof root._bokeh_onload_callbacks === \"undefined\" || force === true) {\n",
       "    root._bokeh_onload_callbacks = [];\n",
       "    root._bokeh_is_loading = undefined;\n",
       "  }\n",
       "\n",
       "  var JS_MIME_TYPE = 'application/javascript';\n",
       "  var HTML_MIME_TYPE = 'text/html';\n",
       "  var EXEC_MIME_TYPE = 'application/vnd.bokehjs_exec.v0+json';\n",
       "  var CLASS_NAME = 'output_bokeh rendered_html';\n",
       "\n",
       "  /**\n",
       "   * Render data to the DOM node\n",
       "   */\n",
       "  function render(props, node) {\n",
       "    var script = document.createElement(\"script\");\n",
       "    node.appendChild(script);\n",
       "  }\n",
       "\n",
       "  /**\n",
       "   * Handle when an output is cleared or removed\n",
       "   */\n",
       "  function handleClearOutput(event, handle) {\n",
       "    var cell = handle.cell;\n",
       "\n",
       "    var id = cell.output_area._bokeh_element_id;\n",
       "    var server_id = cell.output_area._bokeh_server_id;\n",
       "    // Clean up Bokeh references\n",
       "    if (id != null && id in Bokeh.index) {\n",
       "      Bokeh.index[id].model.document.clear();\n",
       "      delete Bokeh.index[id];\n",
       "    }\n",
       "\n",
       "    if (server_id !== undefined) {\n",
       "      // Clean up Bokeh references\n",
       "      var cmd = \"from bokeh.io.state import curstate; print(curstate().uuid_to_server['\" + server_id + \"'].get_sessions()[0].document.roots[0]._id)\";\n",
       "      cell.notebook.kernel.execute(cmd, {\n",
       "        iopub: {\n",
       "          output: function(msg) {\n",
       "            var id = msg.content.text.trim();\n",
       "            if (id in Bokeh.index) {\n",
       "              Bokeh.index[id].model.document.clear();\n",
       "              delete Bokeh.index[id];\n",
       "            }\n",
       "          }\n",
       "        }\n",
       "      });\n",
       "      // Destroy server and session\n",
       "      var cmd = \"import bokeh.io.notebook as ion; ion.destroy_server('\" + server_id + \"')\";\n",
       "      cell.notebook.kernel.execute(cmd);\n",
       "    }\n",
       "  }\n",
       "\n",
       "  /**\n",
       "   * Handle when a new output is added\n",
       "   */\n",
       "  function handleAddOutput(event, handle) {\n",
       "    var output_area = handle.output_area;\n",
       "    var output = handle.output;\n",
       "\n",
       "    // limit handleAddOutput to display_data with EXEC_MIME_TYPE content only\n",
       "    if ((output.output_type != \"display_data\") || (!output.data.hasOwnProperty(EXEC_MIME_TYPE))) {\n",
       "      return\n",
       "    }\n",
       "\n",
       "    var toinsert = output_area.element.find(\".\" + CLASS_NAME.split(' ')[0]);\n",
       "\n",
       "    if (output.metadata[EXEC_MIME_TYPE][\"id\"] !== undefined) {\n",
       "      toinsert[toinsert.length - 1].firstChild.textContent = output.data[JS_MIME_TYPE];\n",
       "      // store reference to embed id on output_area\n",
       "      output_area._bokeh_element_id = output.metadata[EXEC_MIME_TYPE][\"id\"];\n",
       "    }\n",
       "    if (output.metadata[EXEC_MIME_TYPE][\"server_id\"] !== undefined) {\n",
       "      var bk_div = document.createElement(\"div\");\n",
       "      bk_div.innerHTML = output.data[HTML_MIME_TYPE];\n",
       "      var script_attrs = bk_div.children[0].attributes;\n",
       "      for (var i = 0; i < script_attrs.length; i++) {\n",
       "        toinsert[toinsert.length - 1].firstChild.setAttribute(script_attrs[i].name, script_attrs[i].value);\n",
       "        toinsert[toinsert.length - 1].firstChild.textContent = bk_div.children[0].textContent\n",
       "      }\n",
       "      // store reference to server id on output_area\n",
       "      output_area._bokeh_server_id = output.metadata[EXEC_MIME_TYPE][\"server_id\"];\n",
       "    }\n",
       "  }\n",
       "\n",
       "  function register_renderer(events, OutputArea) {\n",
       "\n",
       "    function append_mime(data, metadata, element) {\n",
       "      // create a DOM node to render to\n",
       "      var toinsert = this.create_output_subarea(\n",
       "        metadata,\n",
       "        CLASS_NAME,\n",
       "        EXEC_MIME_TYPE\n",
       "      );\n",
       "      this.keyboard_manager.register_events(toinsert);\n",
       "      // Render to node\n",
       "      var props = {data: data, metadata: metadata[EXEC_MIME_TYPE]};\n",
       "      render(props, toinsert[toinsert.length - 1]);\n",
       "      element.append(toinsert);\n",
       "      return toinsert\n",
       "    }\n",
       "\n",
       "    /* Handle when an output is cleared or removed */\n",
       "    events.on('clear_output.CodeCell', handleClearOutput);\n",
       "    events.on('delete.Cell', handleClearOutput);\n",
       "\n",
       "    /* Handle when a new output is added */\n",
       "    events.on('output_added.OutputArea', handleAddOutput);\n",
       "\n",
       "    /**\n",
       "     * Register the mime type and append_mime function with output_area\n",
       "     */\n",
       "    OutputArea.prototype.register_mime_type(EXEC_MIME_TYPE, append_mime, {\n",
       "      /* Is output safe? */\n",
       "      safe: true,\n",
       "      /* Index of renderer in `output_area.display_order` */\n",
       "      index: 0\n",
       "    });\n",
       "  }\n",
       "\n",
       "  // register the mime type if in Jupyter Notebook environment and previously unregistered\n",
       "  if (root.Jupyter !== undefined) {\n",
       "    var events = require('base/js/events');\n",
       "    var OutputArea = require('notebook/js/outputarea').OutputArea;\n",
       "\n",
       "    if (OutputArea.prototype.mime_types().indexOf(EXEC_MIME_TYPE) == -1) {\n",
       "      register_renderer(events, OutputArea);\n",
       "    }\n",
       "  }\n",
       "\n",
       "  \n",
       "  if (typeof (root._bokeh_timeout) === \"undefined\" || force === true) {\n",
       "    root._bokeh_timeout = Date.now() + 5000;\n",
       "    root._bokeh_failed_load = false;\n",
       "  }\n",
       "\n",
       "  var NB_LOAD_WARNING = {'data': {'text/html':\n",
       "     \"<div style='background-color: #fdd'>\\n\"+\n",
       "     \"<p>\\n\"+\n",
       "     \"BokehJS does not appear to have successfully loaded. If loading BokehJS from CDN, this \\n\"+\n",
       "     \"may be due to a slow or bad network connection. Possible fixes:\\n\"+\n",
       "     \"</p>\\n\"+\n",
       "     \"<ul>\\n\"+\n",
       "     \"<li>re-rerun `output_notebook()` to attempt to load from CDN again, or</li>\\n\"+\n",
       "     \"<li>use INLINE resources instead, as so:</li>\\n\"+\n",
       "     \"</ul>\\n\"+\n",
       "     \"<code>\\n\"+\n",
       "     \"from bokeh.resources import INLINE\\n\"+\n",
       "     \"output_notebook(resources=INLINE)\\n\"+\n",
       "     \"</code>\\n\"+\n",
       "     \"</div>\"}};\n",
       "\n",
       "  function display_loaded() {\n",
       "    var el = document.getElementById(\"3068\");\n",
       "    if (el != null) {\n",
       "      el.textContent = \"BokehJS is loading...\";\n",
       "    }\n",
       "    if (root.Bokeh !== undefined) {\n",
       "      if (el != null) {\n",
       "        el.textContent = \"BokehJS \" + root.Bokeh.version + \" successfully loaded.\";\n",
       "      }\n",
       "    } else if (Date.now() < root._bokeh_timeout) {\n",
       "      setTimeout(display_loaded, 100)\n",
       "    }\n",
       "  }\n",
       "\n",
       "\n",
       "  function run_callbacks() {\n",
       "    try {\n",
       "      root._bokeh_onload_callbacks.forEach(function(callback) {\n",
       "        if (callback != null)\n",
       "          callback();\n",
       "      });\n",
       "    } finally {\n",
       "      delete root._bokeh_onload_callbacks\n",
       "    }\n",
       "    console.debug(\"Bokeh: all callbacks have finished\");\n",
       "  }\n",
       "\n",
       "  function load_libs(css_urls, js_urls, callback) {\n",
       "    if (css_urls == null) css_urls = [];\n",
       "    if (js_urls == null) js_urls = [];\n",
       "\n",
       "    root._bokeh_onload_callbacks.push(callback);\n",
       "    if (root._bokeh_is_loading > 0) {\n",
       "      console.debug(\"Bokeh: BokehJS is being loaded, scheduling callback at\", now());\n",
       "      return null;\n",
       "    }\n",
       "    if (js_urls == null || js_urls.length === 0) {\n",
       "      run_callbacks();\n",
       "      return null;\n",
       "    }\n",
       "    console.debug(\"Bokeh: BokehJS not loaded, scheduling load and callback at\", now());\n",
       "    root._bokeh_is_loading = css_urls.length + js_urls.length;\n",
       "\n",
       "    function on_load() {\n",
       "      root._bokeh_is_loading--;\n",
       "      if (root._bokeh_is_loading === 0) {\n",
       "        console.debug(\"Bokeh: all BokehJS libraries/stylesheets loaded\");\n",
       "        run_callbacks()\n",
       "      }\n",
       "    }\n",
       "\n",
       "    function on_error() {\n",
       "      console.error(\"failed to load \" + url);\n",
       "    }\n",
       "\n",
       "    for (var i = 0; i < css_urls.length; i++) {\n",
       "      var url = css_urls[i];\n",
       "      const element = document.createElement(\"link\");\n",
       "      element.onload = on_load;\n",
       "      element.onerror = on_error;\n",
       "      element.rel = \"stylesheet\";\n",
       "      element.type = \"text/css\";\n",
       "      element.href = url;\n",
       "      console.debug(\"Bokeh: injecting link tag for BokehJS stylesheet: \", url);\n",
       "      document.body.appendChild(element);\n",
       "    }\n",
       "\n",
       "    const hashes = {\"https://cdn.bokeh.org/bokeh/release/bokeh-2.0.2.min.js\": \"ufR9RFnRs6lniiaFvtJziE0YeidtAgBRH6ux2oUItHw5WTvE1zuk9uzhUU/FJXDp\", \"https://cdn.bokeh.org/bokeh/release/bokeh-widgets-2.0.2.min.js\": \"8QM/PGWBT+IssZuRcDcjzwIh1mkOmJSoNMmyYDZbCfXJg3Ap1lEvdVgFuSAwhb/J\", \"https://cdn.bokeh.org/bokeh/release/bokeh-tables-2.0.2.min.js\": \"Jm8cH3Rg0P6UeZhVY5cLy1WzKajUT9KImCY+76hEqrcJt59/d8GPvFHjCkYgnSIn\", \"https://cdn.bokeh.org/bokeh/release/bokeh-gl-2.0.2.min.js\": \"Ozhzj+SI7ywm74aOI/UajcWz+C0NjsPunEVyVIrxzYkB+jA+2tUw8x5xJCbVtK5I\"};\n",
       "\n",
       "    for (var i = 0; i < js_urls.length; i++) {\n",
       "      var url = js_urls[i];\n",
       "      var element = document.createElement('script');\n",
       "      element.onload = on_load;\n",
       "      element.onerror = on_error;\n",
       "      element.async = false;\n",
       "      element.src = url;\n",
       "      if (url in hashes) {\n",
       "        element.crossOrigin = \"anonymous\";\n",
       "        element.integrity = \"sha384-\" + hashes[url];\n",
       "      }\n",
       "      console.debug(\"Bokeh: injecting script tag for BokehJS library: \", url);\n",
       "      document.head.appendChild(element);\n",
       "    }\n",
       "  };\n",
       "\n",
       "  function inject_raw_css(css) {\n",
       "    const element = document.createElement(\"style\");\n",
       "    element.appendChild(document.createTextNode(css));\n",
       "    document.body.appendChild(element);\n",
       "  }\n",
       "\n",
       "  \n",
       "  var js_urls = [\"https://cdn.bokeh.org/bokeh/release/bokeh-2.0.2.min.js\", \"https://cdn.bokeh.org/bokeh/release/bokeh-widgets-2.0.2.min.js\", \"https://cdn.bokeh.org/bokeh/release/bokeh-tables-2.0.2.min.js\", \"https://cdn.bokeh.org/bokeh/release/bokeh-gl-2.0.2.min.js\"];\n",
       "  var css_urls = [];\n",
       "  \n",
       "\n",
       "  var inline_js = [\n",
       "    function(Bokeh) {\n",
       "      Bokeh.set_log_level(\"info\");\n",
       "    },\n",
       "    function(Bokeh) {\n",
       "    \n",
       "    \n",
       "    }\n",
       "  ];\n",
       "\n",
       "  function run_inline_js() {\n",
       "    \n",
       "    if (root.Bokeh !== undefined || force === true) {\n",
       "      \n",
       "    for (var i = 0; i < inline_js.length; i++) {\n",
       "      inline_js[i].call(root, root.Bokeh);\n",
       "    }\n",
       "    if (force === true) {\n",
       "        display_loaded();\n",
       "      }} else if (Date.now() < root._bokeh_timeout) {\n",
       "      setTimeout(run_inline_js, 100);\n",
       "    } else if (!root._bokeh_failed_load) {\n",
       "      console.log(\"Bokeh: BokehJS failed to load within specified timeout.\");\n",
       "      root._bokeh_failed_load = true;\n",
       "    } else if (force !== true) {\n",
       "      var cell = $(document.getElementById(\"3068\")).parents('.cell').data().cell;\n",
       "      cell.output_area.append_execute_result(NB_LOAD_WARNING)\n",
       "    }\n",
       "\n",
       "  }\n",
       "\n",
       "  if (root._bokeh_is_loading === 0) {\n",
       "    console.debug(\"Bokeh: BokehJS loaded, going straight to plotting\");\n",
       "    run_inline_js();\n",
       "  } else {\n",
       "    load_libs(css_urls, js_urls, function() {\n",
       "      console.debug(\"Bokeh: BokehJS plotting callback run at\", now());\n",
       "      run_inline_js();\n",
       "    });\n",
       "  }\n",
       "}(window));"
      ],
      "application/vnd.bokehjs_load.v0+json": "\n(function(root) {\n  function now() {\n    return new Date();\n  }\n\n  var force = true;\n\n  if (typeof root._bokeh_onload_callbacks === \"undefined\" || force === true) {\n    root._bokeh_onload_callbacks = [];\n    root._bokeh_is_loading = undefined;\n  }\n\n  \n\n  \n  if (typeof (root._bokeh_timeout) === \"undefined\" || force === true) {\n    root._bokeh_timeout = Date.now() + 5000;\n    root._bokeh_failed_load = false;\n  }\n\n  var NB_LOAD_WARNING = {'data': {'text/html':\n     \"<div style='background-color: #fdd'>\\n\"+\n     \"<p>\\n\"+\n     \"BokehJS does not appear to have successfully loaded. If loading BokehJS from CDN, this \\n\"+\n     \"may be due to a slow or bad network connection. Possible fixes:\\n\"+\n     \"</p>\\n\"+\n     \"<ul>\\n\"+\n     \"<li>re-rerun `output_notebook()` to attempt to load from CDN again, or</li>\\n\"+\n     \"<li>use INLINE resources instead, as so:</li>\\n\"+\n     \"</ul>\\n\"+\n     \"<code>\\n\"+\n     \"from bokeh.resources import INLINE\\n\"+\n     \"output_notebook(resources=INLINE)\\n\"+\n     \"</code>\\n\"+\n     \"</div>\"}};\n\n  function display_loaded() {\n    var el = document.getElementById(\"3068\");\n    if (el != null) {\n      el.textContent = \"BokehJS is loading...\";\n    }\n    if (root.Bokeh !== undefined) {\n      if (el != null) {\n        el.textContent = \"BokehJS \" + root.Bokeh.version + \" successfully loaded.\";\n      }\n    } else if (Date.now() < root._bokeh_timeout) {\n      setTimeout(display_loaded, 100)\n    }\n  }\n\n\n  function run_callbacks() {\n    try {\n      root._bokeh_onload_callbacks.forEach(function(callback) {\n        if (callback != null)\n          callback();\n      });\n    } finally {\n      delete root._bokeh_onload_callbacks\n    }\n    console.debug(\"Bokeh: all callbacks have finished\");\n  }\n\n  function load_libs(css_urls, js_urls, callback) {\n    if (css_urls == null) css_urls = [];\n    if (js_urls == null) js_urls = [];\n\n    root._bokeh_onload_callbacks.push(callback);\n    if (root._bokeh_is_loading > 0) {\n      console.debug(\"Bokeh: BokehJS is being loaded, scheduling callback at\", now());\n      return null;\n    }\n    if (js_urls == null || js_urls.length === 0) {\n      run_callbacks();\n      return null;\n    }\n    console.debug(\"Bokeh: BokehJS not loaded, scheduling load and callback at\", now());\n    root._bokeh_is_loading = css_urls.length + js_urls.length;\n\n    function on_load() {\n      root._bokeh_is_loading--;\n      if (root._bokeh_is_loading === 0) {\n        console.debug(\"Bokeh: all BokehJS libraries/stylesheets loaded\");\n        run_callbacks()\n      }\n    }\n\n    function on_error() {\n      console.error(\"failed to load \" + url);\n    }\n\n    for (var i = 0; i < css_urls.length; i++) {\n      var url = css_urls[i];\n      const element = document.createElement(\"link\");\n      element.onload = on_load;\n      element.onerror = on_error;\n      element.rel = \"stylesheet\";\n      element.type = \"text/css\";\n      element.href = url;\n      console.debug(\"Bokeh: injecting link tag for BokehJS stylesheet: \", url);\n      document.body.appendChild(element);\n    }\n\n    const hashes = {\"https://cdn.bokeh.org/bokeh/release/bokeh-2.0.2.min.js\": \"ufR9RFnRs6lniiaFvtJziE0YeidtAgBRH6ux2oUItHw5WTvE1zuk9uzhUU/FJXDp\", \"https://cdn.bokeh.org/bokeh/release/bokeh-widgets-2.0.2.min.js\": \"8QM/PGWBT+IssZuRcDcjzwIh1mkOmJSoNMmyYDZbCfXJg3Ap1lEvdVgFuSAwhb/J\", \"https://cdn.bokeh.org/bokeh/release/bokeh-tables-2.0.2.min.js\": \"Jm8cH3Rg0P6UeZhVY5cLy1WzKajUT9KImCY+76hEqrcJt59/d8GPvFHjCkYgnSIn\", \"https://cdn.bokeh.org/bokeh/release/bokeh-gl-2.0.2.min.js\": \"Ozhzj+SI7ywm74aOI/UajcWz+C0NjsPunEVyVIrxzYkB+jA+2tUw8x5xJCbVtK5I\"};\n\n    for (var i = 0; i < js_urls.length; i++) {\n      var url = js_urls[i];\n      var element = document.createElement('script');\n      element.onload = on_load;\n      element.onerror = on_error;\n      element.async = false;\n      element.src = url;\n      if (url in hashes) {\n        element.crossOrigin = \"anonymous\";\n        element.integrity = \"sha384-\" + hashes[url];\n      }\n      console.debug(\"Bokeh: injecting script tag for BokehJS library: \", url);\n      document.head.appendChild(element);\n    }\n  };\n\n  function inject_raw_css(css) {\n    const element = document.createElement(\"style\");\n    element.appendChild(document.createTextNode(css));\n    document.body.appendChild(element);\n  }\n\n  \n  var js_urls = [\"https://cdn.bokeh.org/bokeh/release/bokeh-2.0.2.min.js\", \"https://cdn.bokeh.org/bokeh/release/bokeh-widgets-2.0.2.min.js\", \"https://cdn.bokeh.org/bokeh/release/bokeh-tables-2.0.2.min.js\", \"https://cdn.bokeh.org/bokeh/release/bokeh-gl-2.0.2.min.js\"];\n  var css_urls = [];\n  \n\n  var inline_js = [\n    function(Bokeh) {\n      Bokeh.set_log_level(\"info\");\n    },\n    function(Bokeh) {\n    \n    \n    }\n  ];\n\n  function run_inline_js() {\n    \n    if (root.Bokeh !== undefined || force === true) {\n      \n    for (var i = 0; i < inline_js.length; i++) {\n      inline_js[i].call(root, root.Bokeh);\n    }\n    if (force === true) {\n        display_loaded();\n      }} else if (Date.now() < root._bokeh_timeout) {\n      setTimeout(run_inline_js, 100);\n    } else if (!root._bokeh_failed_load) {\n      console.log(\"Bokeh: BokehJS failed to load within specified timeout.\");\n      root._bokeh_failed_load = true;\n    } else if (force !== true) {\n      var cell = $(document.getElementById(\"3068\")).parents('.cell').data().cell;\n      cell.output_area.append_execute_result(NB_LOAD_WARNING)\n    }\n\n  }\n\n  if (root._bokeh_is_loading === 0) {\n    console.debug(\"Bokeh: BokehJS loaded, going straight to plotting\");\n    run_inline_js();\n  } else {\n    load_libs(css_urls, js_urls, function() {\n      console.debug(\"Bokeh: BokehJS plotting callback run at\", now());\n      run_inline_js();\n    });\n  }\n}(window));"
     },
     "metadata": {},
     "output_type": "display_data"
    }
   ],
   "source": [
    "import pandas as pd\n",
    "import xlwings as xw\n",
    "\n",
    "from bokeh.plotting import output_notebook,figure,show\n",
    "from bokeh.models import ColumnDataSource, CDSView, GroupFilter, HoverTool, Range1d, Whisker, Title\n",
    "from bokeh.io import save\n",
    "output_notebook()"
   ]
  },
  {
   "cell_type": "markdown",
   "metadata": {},
   "source": [
    "## データの読み込み"
   ]
  },
  {
   "cell_type": "code",
   "execution_count": 2,
   "metadata": {},
   "outputs": [
    {
     "data": {
      "text/html": [
       "<div>\n",
       "<style scoped>\n",
       "    .dataframe tbody tr th:only-of-type {\n",
       "        vertical-align: middle;\n",
       "    }\n",
       "\n",
       "    .dataframe tbody tr th {\n",
       "        vertical-align: top;\n",
       "    }\n",
       "\n",
       "    .dataframe thead th {\n",
       "        text-align: right;\n",
       "    }\n",
       "</style>\n",
       "<table border=\"1\" class=\"dataframe\">\n",
       "  <thead>\n",
       "    <tr style=\"text-align: right;\">\n",
       "      <th></th>\n",
       "      <th>sample_name</th>\n",
       "      <th>材料A添加量</th>\n",
       "      <th>材料B添加量</th>\n",
       "      <th>材料C添加量</th>\n",
       "      <th>材料A_lot</th>\n",
       "      <th>温度</th>\n",
       "      <th>カテゴリ</th>\n",
       "      <th>引張強度</th>\n",
       "      <th>引張強度_測定誤差上限</th>\n",
       "      <th>引張強度_測定誤差下限</th>\n",
       "    </tr>\n",
       "  </thead>\n",
       "  <tbody>\n",
       "    <tr>\n",
       "      <th>0</th>\n",
       "      <td>サンプル1</td>\n",
       "      <td>75</td>\n",
       "      <td>5</td>\n",
       "      <td>20</td>\n",
       "      <td>1111</td>\n",
       "      <td>20</td>\n",
       "      <td>タイプA</td>\n",
       "      <td>151</td>\n",
       "      <td>158.55</td>\n",
       "      <td>143.45</td>\n",
       "    </tr>\n",
       "    <tr>\n",
       "      <th>1</th>\n",
       "      <td>サンプル2</td>\n",
       "      <td>69</td>\n",
       "      <td>5</td>\n",
       "      <td>26</td>\n",
       "      <td>1111</td>\n",
       "      <td>20</td>\n",
       "      <td>タイプA</td>\n",
       "      <td>175</td>\n",
       "      <td>183.75</td>\n",
       "      <td>166.25</td>\n",
       "    </tr>\n",
       "    <tr>\n",
       "      <th>2</th>\n",
       "      <td>サンプル3</td>\n",
       "      <td>76</td>\n",
       "      <td>5</td>\n",
       "      <td>19</td>\n",
       "      <td>1111</td>\n",
       "      <td>20</td>\n",
       "      <td>タイプA</td>\n",
       "      <td>147</td>\n",
       "      <td>154.35</td>\n",
       "      <td>139.65</td>\n",
       "    </tr>\n",
       "    <tr>\n",
       "      <th>3</th>\n",
       "      <td>サンプル4</td>\n",
       "      <td>58</td>\n",
       "      <td>5</td>\n",
       "      <td>37</td>\n",
       "      <td>1111</td>\n",
       "      <td>20</td>\n",
       "      <td>タイプA</td>\n",
       "      <td>219</td>\n",
       "      <td>229.95</td>\n",
       "      <td>208.05</td>\n",
       "    </tr>\n",
       "    <tr>\n",
       "      <th>4</th>\n",
       "      <td>サンプル5</td>\n",
       "      <td>56</td>\n",
       "      <td>5</td>\n",
       "      <td>39</td>\n",
       "      <td>1111</td>\n",
       "      <td>20</td>\n",
       "      <td>タイプA</td>\n",
       "      <td>227</td>\n",
       "      <td>238.35</td>\n",
       "      <td>215.65</td>\n",
       "    </tr>\n",
       "  </tbody>\n",
       "</table>\n",
       "</div>"
      ],
      "text/plain": [
       "  sample_name  材料A添加量  材料B添加量  材料C添加量  材料A_lot  温度  カテゴリ  引張強度  引張強度_測定誤差上限  \\\n",
       "0       サンプル1      75       5      20     1111  20  タイプA   151       158.55   \n",
       "1       サンプル2      69       5      26     1111  20  タイプA   175       183.75   \n",
       "2       サンプル3      76       5      19     1111  20  タイプA   147       154.35   \n",
       "3       サンプル4      58       5      37     1111  20  タイプA   219       229.95   \n",
       "4       サンプル5      56       5      39     1111  20  タイプA   227       238.35   \n",
       "\n",
       "   引張強度_測定誤差下限  \n",
       "0       143.45  \n",
       "1       166.25  \n",
       "2       139.65  \n",
       "3       208.05  \n",
       "4       215.65  "
      ]
     },
     "execution_count": 2,
     "metadata": {},
     "output_type": "execute_result"
    }
   ],
   "source": [
    "# csvファイルの読み込んでデータフレーム化\n",
    "csv_df = pd.read_csv('exp_data.csv')\n",
    "\n",
    "# 読込んだファイルを表示\n",
    "csv_df.head()"
   ]
  },
  {
   "cell_type": "code",
   "execution_count": 26,
   "metadata": {},
   "outputs": [
    {
     "data": {
      "text/html": [
       "\n",
       "\n",
       "\n",
       "\n",
       "\n",
       "\n",
       "  <div class=\"bk-root\" id=\"1f06cbc4-6a48-4f77-b112-ac66f673eb29\" data-root-id=\"3596\"></div>\n"
      ]
     },
     "metadata": {},
     "output_type": "display_data"
    },
    {
     "data": {
      "application/javascript": [
       "(function(root) {\n",
       "  function embed_document(root) {\n",
       "    \n",
       "  var docs_json = {\"520527ca-229f-45db-8262-14860c125225\":{\"roots\":{\"references\":[{\"attributes\":{\"below\":[{\"id\":\"3607\"}],\"center\":[{\"id\":\"3610\"},{\"id\":\"3614\"},{\"id\":\"3640\"}],\"left\":[{\"id\":\"3611\"}],\"plot_height\":500,\"plot_width\":500,\"renderers\":[{\"id\":\"3632\"}],\"title\":{\"id\":\"3597\"},\"toolbar\":{\"id\":\"3622\"},\"x_range\":{\"id\":\"3599\"},\"x_scale\":{\"id\":\"3603\"},\"y_range\":{\"id\":\"3601\"},\"y_scale\":{\"id\":\"3605\"}},\"id\":\"3596\",\"subtype\":\"Figure\",\"type\":\"Plot\"},{\"attributes\":{\"items\":[{\"id\":\"3641\"}]},\"id\":\"3640\",\"type\":\"Legend\"},{\"attributes\":{},\"id\":\"3636\",\"type\":\"BasicTickFormatter\"},{\"attributes\":{},\"id\":\"3764\",\"type\":\"UnionRenderers\"},{\"attributes\":{},\"id\":\"3601\",\"type\":\"DataRange1d\"},{\"attributes\":{\"formatter\":{\"id\":\"3638\"},\"ticker\":{\"id\":\"3608\"}},\"id\":\"3607\",\"type\":\"LinearAxis\"},{\"attributes\":{\"formatter\":{\"id\":\"3636\"},\"ticker\":{\"id\":\"3612\"}},\"id\":\"3611\",\"type\":\"LinearAxis\"},{\"attributes\":{\"active_drag\":\"auto\",\"active_inspect\":\"auto\",\"active_multi\":null,\"active_scroll\":\"auto\",\"active_tap\":\"auto\",\"tools\":[{\"id\":\"3615\"},{\"id\":\"3616\"},{\"id\":\"3617\"},{\"id\":\"3618\"},{\"id\":\"3619\"},{\"id\":\"3620\"}]},\"id\":\"3622\",\"type\":\"Toolbar\"},{\"attributes\":{},\"id\":\"3612\",\"type\":\"BasicTicker\"},{\"attributes\":{\"text\":\"\\u30c6\\u30b9\\u30c8\\u30c7\\u30fc\\u30bf\\u306e\\u4f5c\\u56f3\"},\"id\":\"3597\",\"type\":\"Title\"},{\"attributes\":{\"source\":{\"id\":\"3595\"}},\"id\":\"3633\",\"type\":\"CDSView\"},{\"attributes\":{\"fill_alpha\":{\"value\":0.1},\"fill_color\":{\"value\":\"#1f77b4\"},\"line_alpha\":{\"value\":0.1},\"line_color\":{\"value\":\"#1f77b4\"},\"x\":{\"field\":\"\\u6750\\u6599A\\u6dfb\\u52a0\\u91cf\"},\"y\":{\"field\":\"\\u5f15\\u5f35\\u5f37\\u5ea6\"}},\"id\":\"3631\",\"type\":\"Circle\"},{\"attributes\":{\"overlay\":{\"id\":\"3621\"}},\"id\":\"3617\",\"type\":\"BoxZoomTool\"},{\"attributes\":{},\"id\":\"3638\",\"type\":\"BasicTickFormatter\"},{\"attributes\":{},\"id\":\"3763\",\"type\":\"Selection\"},{\"attributes\":{\"bottom_units\":\"screen\",\"fill_alpha\":0.5,\"fill_color\":\"lightgrey\",\"left_units\":\"screen\",\"level\":\"overlay\",\"line_alpha\":1.0,\"line_color\":\"black\",\"line_dash\":[4,4],\"line_width\":2,\"render_mode\":\"css\",\"right_units\":\"screen\",\"top_units\":\"screen\"},\"id\":\"3621\",\"type\":\"BoxAnnotation\"},{\"attributes\":{\"axis\":{\"id\":\"3607\"},\"ticker\":null},\"id\":\"3610\",\"type\":\"Grid\"},{\"attributes\":{},\"id\":\"3605\",\"type\":\"LinearScale\"},{\"attributes\":{},\"id\":\"3618\",\"type\":\"SaveTool\"},{\"attributes\":{},\"id\":\"3620\",\"type\":\"HelpTool\"},{\"attributes\":{},\"id\":\"3599\",\"type\":\"DataRange1d\"},{\"attributes\":{\"fill_color\":{\"value\":\"#1f77b4\"},\"line_color\":{\"value\":\"#1f77b4\"},\"x\":{\"field\":\"\\u6750\\u6599A\\u6dfb\\u52a0\\u91cf\"},\"y\":{\"field\":\"\\u5f15\\u5f35\\u5f37\\u5ea6\"}},\"id\":\"3630\",\"type\":\"Circle\"},{\"attributes\":{\"label\":{\"value\":\"\\u30e9\\u30d9\\u30eb\\u540d\"},\"renderers\":[{\"id\":\"3632\"}]},\"id\":\"3641\",\"type\":\"LegendItem\"},{\"attributes\":{},\"id\":\"3616\",\"type\":\"WheelZoomTool\"},{\"attributes\":{\"axis\":{\"id\":\"3611\"},\"dimension\":1,\"ticker\":null},\"id\":\"3614\",\"type\":\"Grid\"},{\"attributes\":{},\"id\":\"3603\",\"type\":\"LinearScale\"},{\"attributes\":{},\"id\":\"3608\",\"type\":\"BasicTicker\"},{\"attributes\":{\"data\":{\"index\":[0,1,2,3,4,5,6,7,8,9,10,11,12,13,14,15,16,17,18,19,20,21,22,23,24,25,26,27,28,29,30,31,32,33,34,35,36,37,38,39,40,41,42,43,44,45,46,47,48,49,50,51,52,53,54,55,56,57,58,59,60,61,62,63,64,65,66,67,68,69,70,71,72,73,74,75,76,77,78,79,80,81,82,83,84,85,86,87,88,89,90,91,92,93,94,95,96,97,98,99],\"sample_name\":[\"\\u30b5\\u30f3\\u30d7\\u30eb1\",\"\\u30b5\\u30f3\\u30d7\\u30eb2\",\"\\u30b5\\u30f3\\u30d7\\u30eb3\",\"\\u30b5\\u30f3\\u30d7\\u30eb4\",\"\\u30b5\\u30f3\\u30d7\\u30eb5\",\"\\u30b5\\u30f3\\u30d7\\u30eb6\",\"\\u30b5\\u30f3\\u30d7\\u30eb7\",\"\\u30b5\\u30f3\\u30d7\\u30eb8\",\"\\u30b5\\u30f3\\u30d7\\u30eb9\",\"\\u30b5\\u30f3\\u30d7\\u30eb10\",\"\\u30b5\\u30f3\\u30d7\\u30eb11\",\"\\u30b5\\u30f3\\u30d7\\u30eb12\",\"\\u30b5\\u30f3\\u30d7\\u30eb13\",\"\\u30b5\\u30f3\\u30d7\\u30eb14\",\"\\u30b5\\u30f3\\u30d7\\u30eb15\",\"\\u30b5\\u30f3\\u30d7\\u30eb16\",\"\\u30b5\\u30f3\\u30d7\\u30eb17\",\"\\u30b5\\u30f3\\u30d7\\u30eb18\",\"\\u30b5\\u30f3\\u30d7\\u30eb19\",\"\\u30b5\\u30f3\\u30d7\\u30eb20\",\"\\u30b5\\u30f3\\u30d7\\u30eb21\",\"\\u30b5\\u30f3\\u30d7\\u30eb22\",\"\\u30b5\\u30f3\\u30d7\\u30eb23\",\"\\u30b5\\u30f3\\u30d7\\u30eb24\",\"\\u30b5\\u30f3\\u30d7\\u30eb25\",\"\\u30b5\\u30f3\\u30d7\\u30eb26\",\"\\u30b5\\u30f3\\u30d7\\u30eb27\",\"\\u30b5\\u30f3\\u30d7\\u30eb28\",\"\\u30b5\\u30f3\\u30d7\\u30eb29\",\"\\u30b5\\u30f3\\u30d7\\u30eb30\",\"\\u30b5\\u30f3\\u30d7\\u30eb31\",\"\\u30b5\\u30f3\\u30d7\\u30eb32\",\"\\u30b5\\u30f3\\u30d7\\u30eb33\",\"\\u30b5\\u30f3\\u30d7\\u30eb34\",\"\\u30b5\\u30f3\\u30d7\\u30eb35\",\"\\u30b5\\u30f3\\u30d7\\u30eb36\",\"\\u30b5\\u30f3\\u30d7\\u30eb37\",\"\\u30b5\\u30f3\\u30d7\\u30eb38\",\"\\u30b5\\u30f3\\u30d7\\u30eb39\",\"\\u30b5\\u30f3\\u30d7\\u30eb40\",\"\\u30b5\\u30f3\\u30d7\\u30eb41\",\"\\u30b5\\u30f3\\u30d7\\u30eb42\",\"\\u30b5\\u30f3\\u30d7\\u30eb43\",\"\\u30b5\\u30f3\\u30d7\\u30eb44\",\"\\u30b5\\u30f3\\u30d7\\u30eb45\",\"\\u30b5\\u30f3\\u30d7\\u30eb46\",\"\\u30b5\\u30f3\\u30d7\\u30eb47\",\"\\u30b5\\u30f3\\u30d7\\u30eb48\",\"\\u30b5\\u30f3\\u30d7\\u30eb49\",\"\\u30b5\\u30f3\\u30d7\\u30eb50\",\"\\u30b5\\u30f3\\u30d7\\u30eb51\",\"\\u30b5\\u30f3\\u30d7\\u30eb52\",\"\\u30b5\\u30f3\\u30d7\\u30eb53\",\"\\u30b5\\u30f3\\u30d7\\u30eb54\",\"\\u30b5\\u30f3\\u30d7\\u30eb55\",\"\\u30b5\\u30f3\\u30d7\\u30eb56\",\"\\u30b5\\u30f3\\u30d7\\u30eb57\",\"\\u30b5\\u30f3\\u30d7\\u30eb58\",\"\\u30b5\\u30f3\\u30d7\\u30eb59\",\"\\u30b5\\u30f3\\u30d7\\u30eb60\",\"\\u30b5\\u30f3\\u30d7\\u30eb61\",\"\\u30b5\\u30f3\\u30d7\\u30eb62\",\"\\u30b5\\u30f3\\u30d7\\u30eb63\",\"\\u30b5\\u30f3\\u30d7\\u30eb64\",\"\\u30b5\\u30f3\\u30d7\\u30eb65\",\"\\u30b5\\u30f3\\u30d7\\u30eb66\",\"\\u30b5\\u30f3\\u30d7\\u30eb67\",\"\\u30b5\\u30f3\\u30d7\\u30eb68\",\"\\u30b5\\u30f3\\u30d7\\u30eb69\",\"\\u30b5\\u30f3\\u30d7\\u30eb70\",\"\\u30b5\\u30f3\\u30d7\\u30eb71\",\"\\u30b5\\u30f3\\u30d7\\u30eb72\",\"\\u30b5\\u30f3\\u30d7\\u30eb73\",\"\\u30b5\\u30f3\\u30d7\\u30eb74\",\"\\u30b5\\u30f3\\u30d7\\u30eb75\",\"\\u30b5\\u30f3\\u30d7\\u30eb76\",\"\\u30b5\\u30f3\\u30d7\\u30eb77\",\"\\u30b5\\u30f3\\u30d7\\u30eb78\",\"\\u30b5\\u30f3\\u30d7\\u30eb79\",\"\\u30b5\\u30f3\\u30d7\\u30eb80\",\"\\u30b5\\u30f3\\u30d7\\u30eb81\",\"\\u30b5\\u30f3\\u30d7\\u30eb82\",\"\\u30b5\\u30f3\\u30d7\\u30eb83\",\"\\u30b5\\u30f3\\u30d7\\u30eb84\",\"\\u30b5\\u30f3\\u30d7\\u30eb85\",\"\\u30b5\\u30f3\\u30d7\\u30eb86\",\"\\u30b5\\u30f3\\u30d7\\u30eb87\",\"\\u30b5\\u30f3\\u30d7\\u30eb88\",\"\\u30b5\\u30f3\\u30d7\\u30eb89\",\"\\u30b5\\u30f3\\u30d7\\u30eb90\",\"\\u30b5\\u30f3\\u30d7\\u30eb91\",\"\\u30b5\\u30f3\\u30d7\\u30eb92\",\"\\u30b5\\u30f3\\u30d7\\u30eb93\",\"\\u30b5\\u30f3\\u30d7\\u30eb94\",\"\\u30b5\\u30f3\\u30d7\\u30eb95\",\"\\u30b5\\u30f3\\u30d7\\u30eb96\",\"\\u30b5\\u30f3\\u30d7\\u30eb97\",\"\\u30b5\\u30f3\\u30d7\\u30eb98\",\"\\u30b5\\u30f3\\u30d7\\u30eb99\",\"\\u30b5\\u30f3\\u30d7\\u30eb100\"],\"\\u30ab\\u30c6\\u30b4\\u30ea\":[\"\\u30bf\\u30a4\\u30d7A\",\"\\u30bf\\u30a4\\u30d7A\",\"\\u30bf\\u30a4\\u30d7A\",\"\\u30bf\\u30a4\\u30d7A\",\"\\u30bf\\u30a4\\u30d7A\",\"\\u30bf\\u30a4\\u30d7A\",\"\\u30bf\\u30a4\\u30d7A\",\"\\u30bf\\u30a4\\u30d7A\",\"\\u30bf\\u30a4\\u30d7A\",\"\\u30bf\\u30a4\\u30d7A\",\"\\u30bf\\u30a4\\u30d7A\",\"\\u30bf\\u30a4\\u30d7A\",\"\\u30bf\\u30a4\\u30d7A\",\"\\u30bf\\u30a4\\u30d7A\",\"\\u30bf\\u30a4\\u30d7A\",\"\\u30bf\\u30a4\\u30d7B\",\"\\u30bf\\u30a4\\u30d7B\",\"\\u30bf\\u30a4\\u30d7B\",\"\\u30bf\\u30a4\\u30d7B\",\"\\u30bf\\u30a4\\u30d7B\",\"\\u30bf\\u30a4\\u30d7B\",\"\\u30bf\\u30a4\\u30d7B\",\"\\u30bf\\u30a4\\u30d7B\",\"\\u30bf\\u30a4\\u30d7B\",\"\\u30bf\\u30a4\\u30d7B\",\"\\u30bf\\u30a4\\u30d7B\",\"\\u30bf\\u30a4\\u30d7B\",\"\\u30bf\\u30a4\\u30d7B\",\"\\u30bf\\u30a4\\u30d7B\",\"\\u30bf\\u30a4\\u30d7B\",\"\\u30bf\\u30a4\\u30d7B\",\"\\u30bf\\u30a4\\u30d7B\",\"\\u30bf\\u30a4\\u30d7B\",\"\\u30bf\\u30a4\\u30d7B\",\"\\u30bf\\u30a4\\u30d7B\",\"\\u30bf\\u30a4\\u30d7B\",\"\\u30bf\\u30a4\\u30d7B\",\"\\u30bf\\u30a4\\u30d7B\",\"\\u30bf\\u30a4\\u30d7C\",\"\\u30bf\\u30a4\\u30d7C\",\"\\u30bf\\u30a4\\u30d7C\",\"\\u30bf\\u30a4\\u30d7C\",\"\\u30bf\\u30a4\\u30d7C\",\"\\u30bf\\u30a4\\u30d7C\",\"\\u30bf\\u30a4\\u30d7C\",\"\\u30bf\\u30a4\\u30d7C\",\"\\u30bf\\u30a4\\u30d7C\",\"\\u30bf\\u30a4\\u30d7C\",\"\\u30bf\\u30a4\\u30d7C\",\"\\u30bf\\u30a4\\u30d7C\",\"\\u30bf\\u30a4\\u30d7C\",\"\\u30bf\\u30a4\\u30d7C\",\"\\u30bf\\u30a4\\u30d7C\",\"\\u30bf\\u30a4\\u30d7C\",\"\\u30bf\\u30a4\\u30d7C\",\"\\u30bf\\u30a4\\u30d7C\",\"\\u30bf\\u30a4\\u30d7C\",\"\\u30bf\\u30a4\\u30d7C\",\"\\u30bf\\u30a4\\u30d7C\",\"\\u30bf\\u30a4\\u30d7C\",\"\\u30bf\\u30a4\\u30d7C\",\"\\u30bf\\u30a4\\u30d7C\",\"\\u30bf\\u30a4\\u30d7C\",\"\\u30bf\\u30a4\\u30d7C\",\"\\u30bf\\u30a4\\u30d7C\",\"\\u30bf\\u30a4\\u30d7C\",\"\\u30bf\\u30a4\\u30d7C\",\"\\u30bf\\u30a4\\u30d7C\",\"\\u30bf\\u30a4\\u30d7C\",\"\\u30bf\\u30a4\\u30d7C\",\"\\u30bf\\u30a4\\u30d7C\",\"\\u30bf\\u30a4\\u30d7C\",\"\\u30bf\\u30a4\\u30d7C\",\"\\u30bf\\u30a4\\u30d7C\",\"\\u30bf\\u30a4\\u30d7C\",\"\\u30bf\\u30a4\\u30d7C\",\"\\u30bf\\u30a4\\u30d7C\",\"\\u30bf\\u30a4\\u30d7C\",\"\\u30bf\\u30a4\\u30d7C\",\"\\u30bf\\u30a4\\u30d7C\",\"\\u30bf\\u30a4\\u30d7C\",\"\\u30bf\\u30a4\\u30d7C\",\"\\u30bf\\u30a4\\u30d7C\",\"\\u30bf\\u30a4\\u30d7C\",\"\\u30bf\\u30a4\\u30d7C\",\"\\u30bf\\u30a4\\u30d7C\",\"\\u30bf\\u30a4\\u30d7C\",\"\\u30bf\\u30a4\\u30d7C\",\"\\u30bf\\u30a4\\u30d7C\",\"\\u30bf\\u30a4\\u30d7C\",\"\\u30bf\\u30a4\\u30d7C\",\"\\u30bf\\u30a4\\u30d7C\",\"\\u30bf\\u30a4\\u30d7C\",\"\\u30bf\\u30a4\\u30d7C\",\"\\u30bf\\u30a4\\u30d7C\",\"\\u30bf\\u30a4\\u30d7C\",\"\\u30bf\\u30a4\\u30d7C\",\"\\u30bf\\u30a4\\u30d7C\",\"\\u30bf\\u30a4\\u30d7C\",\"\\u30bf\\u30a4\\u30d7C\"],\"\\u5f15\\u5f35\\u5f37\\u5ea6\":[151,175,147,219,227,171,187,187,183,115,119,159,101,99,165,145,151,141,163,155,129,153,93,139,93,129,99,69,69,69,69,69,69,69,69,69,69,69,69,69,69,69,69,69,69,69,69,25,25,31,28,28,22,49,37,42,38,32,46,26,32,54,46,54,34,49,39,53,41,36,44,33,38,34,22,45,20,37,43,50,52,41,31,43,47,33,50,26,41,47,44,45,28,23,25,26,41,52,42,51],\"\\u5f15\\u5f35\\u5f37\\u5ea6_\\u6e2c\\u5b9a\\u8aa4\\u5dee\\u4e0a\\u9650\":{\"__ndarray__\":\"mpmZmZnRY0AAAAAAAPhmQDMzMzMzS2NAZmZmZma+bEAzMzMzM8ttQJqZmZmZcWZAMzMzMzOLaEAzMzMzM4toQM3MzMzMBGhAAAAAAAAwXkDNzMzMzDxfQGZmZmZm3mRAMzMzMzODWkDNzMzMzPxZQAAAAAAAqGVAAAAAAAAIY0CamZmZmdFjQJqZmZmZgWJAzczMzMxkZUAAAAAAAFhkQGZmZmZm7mBAzczMzMwUZECamZmZmWlYQGZmZmZmPmJAmpmZmZlpWEBmZmZmZu5gQM3MzMzM/FlAzczMzMwcUkDNzMzMzBxSQM3MzMzMHFJAzczMzMwcUkDNzMzMzBxSQM3MzMzMHFJAzczMzMwcUkDNzMzMzBxSQM3MzMzMHFJAzczMzMwcUkDNzMzMzBxSQM3MzMzMHFJAzczMzMwcUkDNzMzMzBxSQM3MzMzMHFJAzczMzMwcUkDNzMzMzBxSQM3MzMzMHFJAzczMzMwcUkDNzMzMzBxSQAAAAAAAQDpAAAAAAABAOkBmZmZmZkZAQGZmZmZmZj1AZmZmZmZmPUCamZmZmRk3QJqZmZmZuUlAzczMzMxsQ0DNzMzMzAxGQDMzMzMz80NAzczMzMzMQEBmZmZmZiZIQM3MzMzMTDtAzczMzMzMQECamZmZmVlMQGZmZmZmJkhAmpmZmZlZTECamZmZmdlBQJqZmZmZuUlAmpmZmZl5REAzMzMzM9NLQGZmZmZmhkVAZmZmZmbmQkCamZmZmRlHQDMzMzMzU0FAMzMzMzPzQ0CamZmZmdlBQJqZmZmZGTdAAAAAAACgR0AAAAAAAAA1QM3MzMzMbENAMzMzMzOTRkAAAAAAAEBKQM3MzMzMTEtAZmZmZmaGRUBmZmZmZkZAQDMzMzMzk0ZAzczMzMysSEAzMzMzM1NBQAAAAAAAQEpAzczMzMxMO0BmZmZmZoZFQM3MzMzMrEhAmpmZmZkZR0AAAAAAAKBHQGZmZmZmZj1AZmZmZmYmOEAAAAAAAEA6QM3MzMzMTDtAZmZmZmaGRUDNzMzMzExLQM3MzMzMDEZAZmZmZmbGSkA=\",\"dtype\":\"float64\",\"shape\":[100]},\"\\u5f15\\u5f35\\u5f37\\u5ea6_\\u6e2c\\u5b9a\\u8aa4\\u5dee\\u4e0b\\u9650\":{\"__ndarray__\":\"ZmZmZmbuYUAAAAAAAMhkQM3MzMzMdGFAmpmZmZkBakDNzMzMzPRqQGZmZmZmTmRAzczMzMw0ZkDNzMzMzDRmQDMzMzMzu2VAAAAAAABQW0AzMzMzM0NcQJqZmZmZ4WJAzczMzMz8V0AzMzMzM4NXQAAAAAAAmGNAAAAAAAA4YUBmZmZmZu5hQGZmZmZmvmBAMzMzMzNbY0AAAAAAAGhiQDMzMzMzo15AMzMzMzMrYkBmZmZmZhZWQJqZmZmZgWBAZmZmZmYWVkAzMzMzM6NeQDMzMzMzg1dAMzMzMzNjUEAzMzMzM2NQQDMzMzMzY1BAMzMzMzNjUEAzMzMzM2NQQDMzMzMzY1BAMzMzMzNjUEAzMzMzM2NQQDMzMzMzY1BAMzMzMzNjUEAzMzMzM2NQQDMzMzMzY1BAMzMzMzNjUEAzMzMzM2NQQDMzMzMzY1BAMzMzMzNjUEAzMzMzM2NQQDMzMzMzY1BAMzMzMzNjUEAzMzMzM2NQQAAAAAAAwDdAAAAAAADAN0AzMzMzM3M9QJqZmZmZmTpAmpmZmZmZOkBmZmZmZuY0QGZmZmZmRkdAMzMzMzOTQUAzMzMzM/NDQM3MzMzMDEJAZmZmZmZmPkCamZmZmdlFQDMzMzMzszhAZmZmZmZmPkBmZmZmZqZJQJqZmZmZ2UVAZmZmZmamSUBmZmZmZiZAQGZmZmZmRkdAZmZmZmaGQkDNzMzMzCxJQJqZmZmZeUNAmpmZmZkZQUBmZmZmZuZEQJqZmZmZWT9AzczMzMwMQkBmZmZmZiZAQGZmZmZm5jRAAAAAAABgRUAAAAAAAAAzQDMzMzMzk0FAzczMzMxsREAAAAAAAMBHQDMzMzMzs0hAmpmZmZl5Q0AzMzMzM3M9QM3MzMzMbERAMzMzMzNTRkCamZmZmVk/QAAAAAAAwEdAMzMzMzOzOECamZmZmXlDQDMzMzMzU0ZAZmZmZmbmREAAAAAAAGBFQJqZmZmZmTpAmpmZmZnZNUAAAAAAAMA3QDMzMzMzszhAmpmZmZl5Q0AzMzMzM7NIQDMzMzMz80NAmpmZmZk5SEA=\",\"dtype\":\"float64\",\"shape\":[100]},\"\\u6750\\u6599A_lot\":[1111,1111,1111,1111,1111,1111,1111,1111,1111,1111,1111,1111,1111,1111,1111,1111,1111,1111,1111,1111,1111,1111,1111,1111,1111,1111,1111,1111,2222,2222,2222,2222,2222,2222,2222,2222,2222,2222,2222,2222,2222,2222,2222,2222,2222,2222,2222,2222,2222,2222,2222,2222,2222,2222,2222,2222,2222,2222,2222,2222,2222,2222,2222,2222,2222,2222,2222,2222,2222,2222,2222,2222,2222,2222,2222,2222,2222,2222,2222,2222,2222,2222,3333,3333,3333,3333,3333,3333,3333,3333,3333,3333,3333,3333,3333,3333,3333,3333,3333,3333],\"\\u6750\\u6599A\\u6dfb\\u52a0\\u91cf\":[75,69,76,58,56,70,66,66,67,84,74,54,83,84,51,61,58,72,58,59,69,54,81,55,75,54,81,56,59,82,65,83,82,75,64,59,57,71,82,52,61,63,83,56,67,56,61,55,55,61,58,58,52,79,67,72,68,62,76,56,62,84,76,84,64,79,69,83,71,66,74,63,68,64,52,75,50,67,73,80,82,71,61,73,77,63,80,56,71,77,74,75,58,53,55,56,71,82,72,81],\"\\u6750\\u6599B\\u6dfb\\u52a0\\u91cf\":[5,5,5,5,5,5,5,5,5,5,3,3,3,3,3,3,3,3,3,3,3,3,3,3,3,3,3,1,1,1,1,1,1,1,1,1,1,1,1,1,1,1,1,1,1,1,1,0,0,0,0,0,0,0,0,0,0,0,0,0,0,0,0,0,0,0,0,0,0,0,0,0,0,0,0,0,0,0,0,0,0,0,0,0,0,0,0,0,0,0,0,0,0,0,0,0,0,0,0,0],\"\\u6750\\u6599C\\u6dfb\\u52a0\\u91cf\":[20,26,19,37,39,25,29,29,28,11,23,43,14,13,46,36,39,25,39,38,28,43,16,42,22,43,16,43,40,17,34,16,17,24,35,40,42,28,17,47,38,36,16,43,32,43,38,45,45,39,42,42,48,21,33,28,32,38,24,44,38,16,24,16,36,21,31,17,29,34,26,37,32,36,48,25,50,33,27,20,18,29,39,27,23,37,20,44,29,23,26,25,42,47,45,44,29,18,28,19],\"\\u6e29\\u5ea6\":[20,20,20,20,20,20,20,20,20,20,20,20,20,20,20,20,20,5,10,15,20,25,30,35,40,45,25,25,25,25,25,25,25,25,25,25,25,25,25,25,25,25,25,25,25,25,25,25,25,25,25,25,25,25,25,25,25,25,25,25,25,25,25,25,25,25,25,25,25,25,25,25,25,25,25,25,25,25,25,25,25,25,25,25,25,25,25,25,25,25,25,25,25,25,25,25,25,25,25,25]},\"selected\":{\"id\":\"3763\"},\"selection_policy\":{\"id\":\"3764\"}},\"id\":\"3595\",\"type\":\"ColumnDataSource\"},{\"attributes\":{},\"id\":\"3619\",\"type\":\"ResetTool\"},{\"attributes\":{},\"id\":\"3615\",\"type\":\"PanTool\"},{\"attributes\":{\"data_source\":{\"id\":\"3595\"},\"glyph\":{\"id\":\"3630\"},\"hover_glyph\":null,\"muted_glyph\":null,\"nonselection_glyph\":{\"id\":\"3631\"},\"selection_glyph\":null,\"view\":{\"id\":\"3633\"}},\"id\":\"3632\",\"type\":\"GlyphRenderer\"}],\"root_ids\":[\"3596\"]},\"title\":\"Bokeh Application\",\"version\":\"2.0.2\"}};\n",
       "  var render_items = [{\"docid\":\"520527ca-229f-45db-8262-14860c125225\",\"root_ids\":[\"3596\"],\"roots\":{\"3596\":\"1f06cbc4-6a48-4f77-b112-ac66f673eb29\"}}];\n",
       "  root.Bokeh.embed.embed_items_notebook(docs_json, render_items);\n",
       "\n",
       "  }\n",
       "  if (root.Bokeh !== undefined) {\n",
       "    embed_document(root);\n",
       "  } else {\n",
       "    var attempts = 0;\n",
       "    var timer = setInterval(function(root) {\n",
       "      if (root.Bokeh !== undefined) {\n",
       "        clearInterval(timer);\n",
       "        embed_document(root);\n",
       "      } else {\n",
       "        attempts++;\n",
       "        if (attempts > 100) {\n",
       "          clearInterval(timer);\n",
       "          console.log(\"Bokeh: ERROR: Unable to run BokehJS code because BokehJS library is missing\");\n",
       "        }\n",
       "      }\n",
       "    }, 10, root)\n",
       "  }\n",
       "})(window);"
      ],
      "application/vnd.bokehjs_exec.v0+json": ""
     },
     "metadata": {
      "application/vnd.bokehjs_exec.v0+json": {
       "id": "3596"
      }
     },
     "output_type": "display_data"
    }
   ],
   "source": [
    "# データフレームをbokeh読み込み用に変換\n",
    "source = ColumnDataSource(csv_df)\n",
    "# グラフサイズおよびタイトルの設定\n",
    "p = figure(plot_height=500,plot_width=500,title='テストデータの作図')\n",
    "# 散布図\n",
    "p.circle(x='材料A添加量',y='引張強度',source=source,legend_label='ラベル名')\n",
    "\n",
    "show(p)"
   ]
  },
  {
   "cell_type": "code",
   "execution_count": 4,
   "metadata": {},
   "outputs": [
    {
     "data": {
      "text/html": [
       "\n",
       "\n",
       "\n",
       "\n",
       "\n",
       "\n",
       "  <div class=\"bk-root\" id=\"4257c7fd-ca0e-4a18-8f4e-0e3b70d0549e\" data-root-id=\"1106\"></div>\n"
      ]
     },
     "metadata": {},
     "output_type": "display_data"
    },
    {
     "data": {
      "application/javascript": [
       "(function(root) {\n",
       "  function embed_document(root) {\n",
       "    \n",
       "  var docs_json = {\"7273eb56-9ec9-4392-b5a6-ea2a7b78f0a0\":{\"roots\":{\"references\":[{\"attributes\":{\"below\":[{\"id\":\"1117\"}],\"center\":[{\"id\":\"1120\"},{\"id\":\"1124\"},{\"id\":\"1150\"}],\"left\":[{\"id\":\"1121\"}],\"plot_height\":500,\"plot_width\":500,\"renderers\":[{\"id\":\"1142\"}],\"title\":{\"id\":\"1107\"},\"toolbar\":{\"id\":\"1132\"},\"x_range\":{\"id\":\"1109\"},\"x_scale\":{\"id\":\"1113\"},\"y_range\":{\"id\":\"1111\"},\"y_scale\":{\"id\":\"1115\"}},\"id\":\"1106\",\"subtype\":\"Figure\",\"type\":\"Plot\"},{\"attributes\":{\"label\":{\"value\":\"\\u30e9\\u30d9\\u30eb\\u540d\"},\"renderers\":[{\"id\":\"1142\"}]},\"id\":\"1151\",\"type\":\"LegendItem\"},{\"attributes\":{\"line_alpha\":0.1,\"line_color\":\"#1f77b4\",\"x\":{\"field\":\"\\u6750\\u6599B\\u6dfb\\u52a0\\u91cf\"},\"y\":{\"field\":\"\\u5f15\\u5f35\\u5f37\\u5ea6\"}},\"id\":\"1141\",\"type\":\"Line\"},{\"attributes\":{},\"id\":\"1128\",\"type\":\"SaveTool\"},{\"attributes\":{\"axis\":{\"id\":\"1117\"},\"ticker\":null},\"id\":\"1120\",\"type\":\"Grid\"},{\"attributes\":{},\"id\":\"1118\",\"type\":\"BasicTicker\"},{\"attributes\":{},\"id\":\"1166\",\"type\":\"UnionRenderers\"},{\"attributes\":{\"formatter\":{\"id\":\"1148\"},\"ticker\":{\"id\":\"1118\"}},\"id\":\"1117\",\"type\":\"LinearAxis\"},{\"attributes\":{\"overlay\":{\"id\":\"1131\"}},\"id\":\"1127\",\"type\":\"BoxZoomTool\"},{\"attributes\":{\"active_drag\":\"auto\",\"active_inspect\":\"auto\",\"active_multi\":null,\"active_scroll\":\"auto\",\"active_tap\":\"auto\",\"tools\":[{\"id\":\"1125\"},{\"id\":\"1126\"},{\"id\":\"1127\"},{\"id\":\"1128\"},{\"id\":\"1129\"},{\"id\":\"1130\"}]},\"id\":\"1132\",\"type\":\"Toolbar\"},{\"attributes\":{\"line_color\":\"#1f77b4\",\"x\":{\"field\":\"\\u6750\\u6599B\\u6dfb\\u52a0\\u91cf\"},\"y\":{\"field\":\"\\u5f15\\u5f35\\u5f37\\u5ea6\"}},\"id\":\"1140\",\"type\":\"Line\"},{\"attributes\":{},\"id\":\"1165\",\"type\":\"Selection\"},{\"attributes\":{\"bottom_units\":\"screen\",\"fill_alpha\":0.5,\"fill_color\":\"lightgrey\",\"left_units\":\"screen\",\"level\":\"overlay\",\"line_alpha\":1.0,\"line_color\":\"black\",\"line_dash\":[4,4],\"line_width\":2,\"render_mode\":\"css\",\"right_units\":\"screen\",\"top_units\":\"screen\"},\"id\":\"1131\",\"type\":\"BoxAnnotation\"},{\"attributes\":{},\"id\":\"1113\",\"type\":\"LinearScale\"},{\"attributes\":{\"data\":{\"index\":[0,1,2,3,4,5,6,7,8,9,10,11,12,13,14,15,16,17,18,19,20,21,22,23,24,25,26,27,28,29,30,31,32,33,34,35,36,37,38,39,40,41,42,43,44,45,46,47,48,49,50,51,52,53,54,55,56,57,58,59,60,61,62,63,64,65,66,67,68,69,70,71,72,73,74,75,76,77,78,79,80,81,82,83,84,85,86,87,88,89,90,91,92,93,94,95,96,97,98,99],\"sample_name\":[\"\\u30b5\\u30f3\\u30d7\\u30eb1\",\"\\u30b5\\u30f3\\u30d7\\u30eb2\",\"\\u30b5\\u30f3\\u30d7\\u30eb3\",\"\\u30b5\\u30f3\\u30d7\\u30eb4\",\"\\u30b5\\u30f3\\u30d7\\u30eb5\",\"\\u30b5\\u30f3\\u30d7\\u30eb6\",\"\\u30b5\\u30f3\\u30d7\\u30eb7\",\"\\u30b5\\u30f3\\u30d7\\u30eb8\",\"\\u30b5\\u30f3\\u30d7\\u30eb9\",\"\\u30b5\\u30f3\\u30d7\\u30eb10\",\"\\u30b5\\u30f3\\u30d7\\u30eb11\",\"\\u30b5\\u30f3\\u30d7\\u30eb12\",\"\\u30b5\\u30f3\\u30d7\\u30eb13\",\"\\u30b5\\u30f3\\u30d7\\u30eb14\",\"\\u30b5\\u30f3\\u30d7\\u30eb15\",\"\\u30b5\\u30f3\\u30d7\\u30eb16\",\"\\u30b5\\u30f3\\u30d7\\u30eb17\",\"\\u30b5\\u30f3\\u30d7\\u30eb18\",\"\\u30b5\\u30f3\\u30d7\\u30eb19\",\"\\u30b5\\u30f3\\u30d7\\u30eb20\",\"\\u30b5\\u30f3\\u30d7\\u30eb21\",\"\\u30b5\\u30f3\\u30d7\\u30eb22\",\"\\u30b5\\u30f3\\u30d7\\u30eb23\",\"\\u30b5\\u30f3\\u30d7\\u30eb24\",\"\\u30b5\\u30f3\\u30d7\\u30eb25\",\"\\u30b5\\u30f3\\u30d7\\u30eb26\",\"\\u30b5\\u30f3\\u30d7\\u30eb27\",\"\\u30b5\\u30f3\\u30d7\\u30eb28\",\"\\u30b5\\u30f3\\u30d7\\u30eb29\",\"\\u30b5\\u30f3\\u30d7\\u30eb30\",\"\\u30b5\\u30f3\\u30d7\\u30eb31\",\"\\u30b5\\u30f3\\u30d7\\u30eb32\",\"\\u30b5\\u30f3\\u30d7\\u30eb33\",\"\\u30b5\\u30f3\\u30d7\\u30eb34\",\"\\u30b5\\u30f3\\u30d7\\u30eb35\",\"\\u30b5\\u30f3\\u30d7\\u30eb36\",\"\\u30b5\\u30f3\\u30d7\\u30eb37\",\"\\u30b5\\u30f3\\u30d7\\u30eb38\",\"\\u30b5\\u30f3\\u30d7\\u30eb39\",\"\\u30b5\\u30f3\\u30d7\\u30eb40\",\"\\u30b5\\u30f3\\u30d7\\u30eb41\",\"\\u30b5\\u30f3\\u30d7\\u30eb42\",\"\\u30b5\\u30f3\\u30d7\\u30eb43\",\"\\u30b5\\u30f3\\u30d7\\u30eb44\",\"\\u30b5\\u30f3\\u30d7\\u30eb45\",\"\\u30b5\\u30f3\\u30d7\\u30eb46\",\"\\u30b5\\u30f3\\u30d7\\u30eb47\",\"\\u30b5\\u30f3\\u30d7\\u30eb48\",\"\\u30b5\\u30f3\\u30d7\\u30eb49\",\"\\u30b5\\u30f3\\u30d7\\u30eb50\",\"\\u30b5\\u30f3\\u30d7\\u30eb51\",\"\\u30b5\\u30f3\\u30d7\\u30eb52\",\"\\u30b5\\u30f3\\u30d7\\u30eb53\",\"\\u30b5\\u30f3\\u30d7\\u30eb54\",\"\\u30b5\\u30f3\\u30d7\\u30eb55\",\"\\u30b5\\u30f3\\u30d7\\u30eb56\",\"\\u30b5\\u30f3\\u30d7\\u30eb57\",\"\\u30b5\\u30f3\\u30d7\\u30eb58\",\"\\u30b5\\u30f3\\u30d7\\u30eb59\",\"\\u30b5\\u30f3\\u30d7\\u30eb60\",\"\\u30b5\\u30f3\\u30d7\\u30eb61\",\"\\u30b5\\u30f3\\u30d7\\u30eb62\",\"\\u30b5\\u30f3\\u30d7\\u30eb63\",\"\\u30b5\\u30f3\\u30d7\\u30eb64\",\"\\u30b5\\u30f3\\u30d7\\u30eb65\",\"\\u30b5\\u30f3\\u30d7\\u30eb66\",\"\\u30b5\\u30f3\\u30d7\\u30eb67\",\"\\u30b5\\u30f3\\u30d7\\u30eb68\",\"\\u30b5\\u30f3\\u30d7\\u30eb69\",\"\\u30b5\\u30f3\\u30d7\\u30eb70\",\"\\u30b5\\u30f3\\u30d7\\u30eb71\",\"\\u30b5\\u30f3\\u30d7\\u30eb72\",\"\\u30b5\\u30f3\\u30d7\\u30eb73\",\"\\u30b5\\u30f3\\u30d7\\u30eb74\",\"\\u30b5\\u30f3\\u30d7\\u30eb75\",\"\\u30b5\\u30f3\\u30d7\\u30eb76\",\"\\u30b5\\u30f3\\u30d7\\u30eb77\",\"\\u30b5\\u30f3\\u30d7\\u30eb78\",\"\\u30b5\\u30f3\\u30d7\\u30eb79\",\"\\u30b5\\u30f3\\u30d7\\u30eb80\",\"\\u30b5\\u30f3\\u30d7\\u30eb81\",\"\\u30b5\\u30f3\\u30d7\\u30eb82\",\"\\u30b5\\u30f3\\u30d7\\u30eb83\",\"\\u30b5\\u30f3\\u30d7\\u30eb84\",\"\\u30b5\\u30f3\\u30d7\\u30eb85\",\"\\u30b5\\u30f3\\u30d7\\u30eb86\",\"\\u30b5\\u30f3\\u30d7\\u30eb87\",\"\\u30b5\\u30f3\\u30d7\\u30eb88\",\"\\u30b5\\u30f3\\u30d7\\u30eb89\",\"\\u30b5\\u30f3\\u30d7\\u30eb90\",\"\\u30b5\\u30f3\\u30d7\\u30eb91\",\"\\u30b5\\u30f3\\u30d7\\u30eb92\",\"\\u30b5\\u30f3\\u30d7\\u30eb93\",\"\\u30b5\\u30f3\\u30d7\\u30eb94\",\"\\u30b5\\u30f3\\u30d7\\u30eb95\",\"\\u30b5\\u30f3\\u30d7\\u30eb96\",\"\\u30b5\\u30f3\\u30d7\\u30eb97\",\"\\u30b5\\u30f3\\u30d7\\u30eb98\",\"\\u30b5\\u30f3\\u30d7\\u30eb99\",\"\\u30b5\\u30f3\\u30d7\\u30eb100\"],\"\\u30ab\\u30c6\\u30b4\\u30ea\":[\"\\u30bf\\u30a4\\u30d7A\",\"\\u30bf\\u30a4\\u30d7A\",\"\\u30bf\\u30a4\\u30d7A\",\"\\u30bf\\u30a4\\u30d7A\",\"\\u30bf\\u30a4\\u30d7A\",\"\\u30bf\\u30a4\\u30d7A\",\"\\u30bf\\u30a4\\u30d7A\",\"\\u30bf\\u30a4\\u30d7A\",\"\\u30bf\\u30a4\\u30d7A\",\"\\u30bf\\u30a4\\u30d7A\",\"\\u30bf\\u30a4\\u30d7A\",\"\\u30bf\\u30a4\\u30d7A\",\"\\u30bf\\u30a4\\u30d7A\",\"\\u30bf\\u30a4\\u30d7A\",\"\\u30bf\\u30a4\\u30d7A\",\"\\u30bf\\u30a4\\u30d7B\",\"\\u30bf\\u30a4\\u30d7B\",\"\\u30bf\\u30a4\\u30d7B\",\"\\u30bf\\u30a4\\u30d7B\",\"\\u30bf\\u30a4\\u30d7B\",\"\\u30bf\\u30a4\\u30d7B\",\"\\u30bf\\u30a4\\u30d7B\",\"\\u30bf\\u30a4\\u30d7B\",\"\\u30bf\\u30a4\\u30d7B\",\"\\u30bf\\u30a4\\u30d7B\",\"\\u30bf\\u30a4\\u30d7B\",\"\\u30bf\\u30a4\\u30d7B\",\"\\u30bf\\u30a4\\u30d7B\",\"\\u30bf\\u30a4\\u30d7B\",\"\\u30bf\\u30a4\\u30d7B\",\"\\u30bf\\u30a4\\u30d7B\",\"\\u30bf\\u30a4\\u30d7B\",\"\\u30bf\\u30a4\\u30d7B\",\"\\u30bf\\u30a4\\u30d7B\",\"\\u30bf\\u30a4\\u30d7B\",\"\\u30bf\\u30a4\\u30d7B\",\"\\u30bf\\u30a4\\u30d7B\",\"\\u30bf\\u30a4\\u30d7B\",\"\\u30bf\\u30a4\\u30d7C\",\"\\u30bf\\u30a4\\u30d7C\",\"\\u30bf\\u30a4\\u30d7C\",\"\\u30bf\\u30a4\\u30d7C\",\"\\u30bf\\u30a4\\u30d7C\",\"\\u30bf\\u30a4\\u30d7C\",\"\\u30bf\\u30a4\\u30d7C\",\"\\u30bf\\u30a4\\u30d7C\",\"\\u30bf\\u30a4\\u30d7C\",\"\\u30bf\\u30a4\\u30d7C\",\"\\u30bf\\u30a4\\u30d7C\",\"\\u30bf\\u30a4\\u30d7C\",\"\\u30bf\\u30a4\\u30d7C\",\"\\u30bf\\u30a4\\u30d7C\",\"\\u30bf\\u30a4\\u30d7C\",\"\\u30bf\\u30a4\\u30d7C\",\"\\u30bf\\u30a4\\u30d7C\",\"\\u30bf\\u30a4\\u30d7C\",\"\\u30bf\\u30a4\\u30d7C\",\"\\u30bf\\u30a4\\u30d7C\",\"\\u30bf\\u30a4\\u30d7C\",\"\\u30bf\\u30a4\\u30d7C\",\"\\u30bf\\u30a4\\u30d7C\",\"\\u30bf\\u30a4\\u30d7C\",\"\\u30bf\\u30a4\\u30d7C\",\"\\u30bf\\u30a4\\u30d7C\",\"\\u30bf\\u30a4\\u30d7C\",\"\\u30bf\\u30a4\\u30d7C\",\"\\u30bf\\u30a4\\u30d7C\",\"\\u30bf\\u30a4\\u30d7C\",\"\\u30bf\\u30a4\\u30d7C\",\"\\u30bf\\u30a4\\u30d7C\",\"\\u30bf\\u30a4\\u30d7C\",\"\\u30bf\\u30a4\\u30d7C\",\"\\u30bf\\u30a4\\u30d7C\",\"\\u30bf\\u30a4\\u30d7C\",\"\\u30bf\\u30a4\\u30d7C\",\"\\u30bf\\u30a4\\u30d7C\",\"\\u30bf\\u30a4\\u30d7C\",\"\\u30bf\\u30a4\\u30d7C\",\"\\u30bf\\u30a4\\u30d7C\",\"\\u30bf\\u30a4\\u30d7C\",\"\\u30bf\\u30a4\\u30d7C\",\"\\u30bf\\u30a4\\u30d7C\",\"\\u30bf\\u30a4\\u30d7C\",\"\\u30bf\\u30a4\\u30d7C\",\"\\u30bf\\u30a4\\u30d7C\",\"\\u30bf\\u30a4\\u30d7C\",\"\\u30bf\\u30a4\\u30d7C\",\"\\u30bf\\u30a4\\u30d7C\",\"\\u30bf\\u30a4\\u30d7C\",\"\\u30bf\\u30a4\\u30d7C\",\"\\u30bf\\u30a4\\u30d7C\",\"\\u30bf\\u30a4\\u30d7C\",\"\\u30bf\\u30a4\\u30d7C\",\"\\u30bf\\u30a4\\u30d7C\",\"\\u30bf\\u30a4\\u30d7C\",\"\\u30bf\\u30a4\\u30d7C\",\"\\u30bf\\u30a4\\u30d7C\",\"\\u30bf\\u30a4\\u30d7C\",\"\\u30bf\\u30a4\\u30d7C\",\"\\u30bf\\u30a4\\u30d7C\"],\"\\u5f15\\u5f35\\u5f37\\u5ea6\":[151,175,147,219,227,171,187,187,183,115,119,159,101,99,165,145,151,141,163,155,129,153,93,139,93,129,99,69,69,69,69,69,69,69,69,69,69,69,69,69,69,69,69,69,69,69,69,25,25,31,28,28,22,49,37,42,38,32,46,26,32,54,46,54,34,49,39,53,41,36,44,33,38,34,22,45,20,37,43,50,52,41,31,43,47,33,50,26,41,47,44,45,28,23,25,26,41,52,42,51],\"\\u5f15\\u5f35\\u5f37\\u5ea6_\\u6e2c\\u5b9a\\u8aa4\\u5dee\\u4e0a\\u9650\":{\"__ndarray__\":\"mpmZmZnRY0AAAAAAAPhmQDMzMzMzS2NAZmZmZma+bEAzMzMzM8ttQJqZmZmZcWZAMzMzMzOLaEAzMzMzM4toQM3MzMzMBGhAAAAAAAAwXkDNzMzMzDxfQGZmZmZm3mRAMzMzMzODWkDNzMzMzPxZQAAAAAAAqGVAAAAAAAAIY0CamZmZmdFjQJqZmZmZgWJAzczMzMxkZUAAAAAAAFhkQGZmZmZm7mBAzczMzMwUZECamZmZmWlYQGZmZmZmPmJAmpmZmZlpWEBmZmZmZu5gQM3MzMzM/FlAzczMzMwcUkDNzMzMzBxSQM3MzMzMHFJAzczMzMwcUkDNzMzMzBxSQM3MzMzMHFJAzczMzMwcUkDNzMzMzBxSQM3MzMzMHFJAzczMzMwcUkDNzMzMzBxSQM3MzMzMHFJAzczMzMwcUkDNzMzMzBxSQM3MzMzMHFJAzczMzMwcUkDNzMzMzBxSQM3MzMzMHFJAzczMzMwcUkDNzMzMzBxSQAAAAAAAQDpAAAAAAABAOkBmZmZmZkZAQGZmZmZmZj1AZmZmZmZmPUCamZmZmRk3QJqZmZmZuUlAzczMzMxsQ0DNzMzMzAxGQDMzMzMz80NAzczMzMzMQEBmZmZmZiZIQM3MzMzMTDtAzczMzMzMQECamZmZmVlMQGZmZmZmJkhAmpmZmZlZTECamZmZmdlBQJqZmZmZuUlAmpmZmZl5REAzMzMzM9NLQGZmZmZmhkVAZmZmZmbmQkCamZmZmRlHQDMzMzMzU0FAMzMzMzPzQ0CamZmZmdlBQJqZmZmZGTdAAAAAAACgR0AAAAAAAAA1QM3MzMzMbENAMzMzMzOTRkAAAAAAAEBKQM3MzMzMTEtAZmZmZmaGRUBmZmZmZkZAQDMzMzMzk0ZAzczMzMysSEAzMzMzM1NBQAAAAAAAQEpAzczMzMxMO0BmZmZmZoZFQM3MzMzMrEhAmpmZmZkZR0AAAAAAAKBHQGZmZmZmZj1AZmZmZmYmOEAAAAAAAEA6QM3MzMzMTDtAZmZmZmaGRUDNzMzMzExLQM3MzMzMDEZAZmZmZmbGSkA=\",\"dtype\":\"float64\",\"shape\":[100]},\"\\u5f15\\u5f35\\u5f37\\u5ea6_\\u6e2c\\u5b9a\\u8aa4\\u5dee\\u4e0b\\u9650\":{\"__ndarray__\":\"ZmZmZmbuYUAAAAAAAMhkQM3MzMzMdGFAmpmZmZkBakDNzMzMzPRqQGZmZmZmTmRAzczMzMw0ZkDNzMzMzDRmQDMzMzMzu2VAAAAAAABQW0AzMzMzM0NcQJqZmZmZ4WJAzczMzMz8V0AzMzMzM4NXQAAAAAAAmGNAAAAAAAA4YUBmZmZmZu5hQGZmZmZmvmBAMzMzMzNbY0AAAAAAAGhiQDMzMzMzo15AMzMzMzMrYkBmZmZmZhZWQJqZmZmZgWBAZmZmZmYWVkAzMzMzM6NeQDMzMzMzg1dAMzMzMzNjUEAzMzMzM2NQQDMzMzMzY1BAMzMzMzNjUEAzMzMzM2NQQDMzMzMzY1BAMzMzMzNjUEAzMzMzM2NQQDMzMzMzY1BAMzMzMzNjUEAzMzMzM2NQQDMzMzMzY1BAMzMzMzNjUEAzMzMzM2NQQDMzMzMzY1BAMzMzMzNjUEAzMzMzM2NQQDMzMzMzY1BAMzMzMzNjUEAzMzMzM2NQQAAAAAAAwDdAAAAAAADAN0AzMzMzM3M9QJqZmZmZmTpAmpmZmZmZOkBmZmZmZuY0QGZmZmZmRkdAMzMzMzOTQUAzMzMzM/NDQM3MzMzMDEJAZmZmZmZmPkCamZmZmdlFQDMzMzMzszhAZmZmZmZmPkBmZmZmZqZJQJqZmZmZ2UVAZmZmZmamSUBmZmZmZiZAQGZmZmZmRkdAZmZmZmaGQkDNzMzMzCxJQJqZmZmZeUNAmpmZmZkZQUBmZmZmZuZEQJqZmZmZWT9AzczMzMwMQkBmZmZmZiZAQGZmZmZm5jRAAAAAAABgRUAAAAAAAAAzQDMzMzMzk0FAzczMzMxsREAAAAAAAMBHQDMzMzMzs0hAmpmZmZl5Q0AzMzMzM3M9QM3MzMzMbERAMzMzMzNTRkCamZmZmVk/QAAAAAAAwEdAMzMzMzOzOECamZmZmXlDQDMzMzMzU0ZAZmZmZmbmREAAAAAAAGBFQJqZmZmZmTpAmpmZmZnZNUAAAAAAAMA3QDMzMzMzszhAmpmZmZl5Q0AzMzMzM7NIQDMzMzMz80NAmpmZmZk5SEA=\",\"dtype\":\"float64\",\"shape\":[100]},\"\\u6750\\u6599A_lot\":[1111,1111,1111,1111,1111,1111,1111,1111,1111,1111,1111,1111,1111,1111,1111,1111,1111,1111,1111,1111,1111,1111,1111,1111,1111,1111,1111,1111,2222,2222,2222,2222,2222,2222,2222,2222,2222,2222,2222,2222,2222,2222,2222,2222,2222,2222,2222,2222,2222,2222,2222,2222,2222,2222,2222,2222,2222,2222,2222,2222,2222,2222,2222,2222,2222,2222,2222,2222,2222,2222,2222,2222,2222,2222,2222,2222,2222,2222,2222,2222,2222,2222,3333,3333,3333,3333,3333,3333,3333,3333,3333,3333,3333,3333,3333,3333,3333,3333,3333,3333],\"\\u6750\\u6599A\\u6dfb\\u52a0\\u91cf\":[75,69,76,58,56,70,66,66,67,84,74,54,83,84,51,61,58,72,58,59,69,54,81,55,75,54,81,56,59,82,65,83,82,75,64,59,57,71,82,52,61,63,83,56,67,56,61,55,55,61,58,58,52,79,67,72,68,62,76,56,62,84,76,84,64,79,69,83,71,66,74,63,68,64,52,75,50,67,73,80,82,71,61,73,77,63,80,56,71,77,74,75,58,53,55,56,71,82,72,81],\"\\u6750\\u6599B\\u6dfb\\u52a0\\u91cf\":[5,5,5,5,5,5,5,5,5,5,3,3,3,3,3,3,3,3,3,3,3,3,3,3,3,3,3,1,1,1,1,1,1,1,1,1,1,1,1,1,1,1,1,1,1,1,1,0,0,0,0,0,0,0,0,0,0,0,0,0,0,0,0,0,0,0,0,0,0,0,0,0,0,0,0,0,0,0,0,0,0,0,0,0,0,0,0,0,0,0,0,0,0,0,0,0,0,0,0,0],\"\\u6750\\u6599C\\u6dfb\\u52a0\\u91cf\":[20,26,19,37,39,25,29,29,28,11,23,43,14,13,46,36,39,25,39,38,28,43,16,42,22,43,16,43,40,17,34,16,17,24,35,40,42,28,17,47,38,36,16,43,32,43,38,45,45,39,42,42,48,21,33,28,32,38,24,44,38,16,24,16,36,21,31,17,29,34,26,37,32,36,48,25,50,33,27,20,18,29,39,27,23,37,20,44,29,23,26,25,42,47,45,44,29,18,28,19],\"\\u6e29\\u5ea6\":[20,20,20,20,20,20,20,20,20,20,20,20,20,20,20,20,20,5,10,15,20,25,30,35,40,45,25,25,25,25,25,25,25,25,25,25,25,25,25,25,25,25,25,25,25,25,25,25,25,25,25,25,25,25,25,25,25,25,25,25,25,25,25,25,25,25,25,25,25,25,25,25,25,25,25,25,25,25,25,25,25,25,25,25,25,25,25,25,25,25,25,25,25,25,25,25,25,25,25,25]},\"selected\":{\"id\":\"1165\"},\"selection_policy\":{\"id\":\"1166\"}},\"id\":\"1105\",\"type\":\"ColumnDataSource\"},{\"attributes\":{},\"id\":\"1115\",\"type\":\"LinearScale\"},{\"attributes\":{},\"id\":\"1109\",\"type\":\"DataRange1d\"},{\"attributes\":{\"formatter\":{\"id\":\"1146\"},\"ticker\":{\"id\":\"1122\"}},\"id\":\"1121\",\"type\":\"LinearAxis\"},{\"attributes\":{},\"id\":\"1111\",\"type\":\"DataRange1d\"},{\"attributes\":{},\"id\":\"1125\",\"type\":\"PanTool\"},{\"attributes\":{\"axis\":{\"id\":\"1121\"},\"dimension\":1,\"ticker\":null},\"id\":\"1124\",\"type\":\"Grid\"},{\"attributes\":{},\"id\":\"1148\",\"type\":\"BasicTickFormatter\"},{\"attributes\":{\"data_source\":{\"id\":\"1105\"},\"glyph\":{\"id\":\"1140\"},\"hover_glyph\":null,\"muted_glyph\":null,\"nonselection_glyph\":{\"id\":\"1141\"},\"selection_glyph\":null,\"view\":{\"id\":\"1143\"}},\"id\":\"1142\",\"type\":\"GlyphRenderer\"},{\"attributes\":{},\"id\":\"1122\",\"type\":\"BasicTicker\"},{\"attributes\":{\"source\":{\"id\":\"1105\"}},\"id\":\"1143\",\"type\":\"CDSView\"},{\"attributes\":{},\"id\":\"1129\",\"type\":\"ResetTool\"},{\"attributes\":{},\"id\":\"1126\",\"type\":\"WheelZoomTool\"},{\"attributes\":{},\"id\":\"1146\",\"type\":\"BasicTickFormatter\"},{\"attributes\":{\"items\":[{\"id\":\"1151\"}]},\"id\":\"1150\",\"type\":\"Legend\"},{\"attributes\":{},\"id\":\"1130\",\"type\":\"HelpTool\"},{\"attributes\":{\"text\":\"\\u30c6\\u30b9\\u30c8\\u30c7\\u30fc\\u30bf\\u306e\\u4f5c\\u56f3\"},\"id\":\"1107\",\"type\":\"Title\"}],\"root_ids\":[\"1106\"]},\"title\":\"Bokeh Application\",\"version\":\"2.0.2\"}};\n",
       "  var render_items = [{\"docid\":\"7273eb56-9ec9-4392-b5a6-ea2a7b78f0a0\",\"root_ids\":[\"1106\"],\"roots\":{\"1106\":\"4257c7fd-ca0e-4a18-8f4e-0e3b70d0549e\"}}];\n",
       "  root.Bokeh.embed.embed_items_notebook(docs_json, render_items);\n",
       "\n",
       "  }\n",
       "  if (root.Bokeh !== undefined) {\n",
       "    embed_document(root);\n",
       "  } else {\n",
       "    var attempts = 0;\n",
       "    var timer = setInterval(function(root) {\n",
       "      if (root.Bokeh !== undefined) {\n",
       "        clearInterval(timer);\n",
       "        embed_document(root);\n",
       "      } else {\n",
       "        attempts++;\n",
       "        if (attempts > 100) {\n",
       "          clearInterval(timer);\n",
       "          console.log(\"Bokeh: ERROR: Unable to run BokehJS code because BokehJS library is missing\");\n",
       "        }\n",
       "      }\n",
       "    }, 10, root)\n",
       "  }\n",
       "})(window);"
      ],
      "application/vnd.bokehjs_exec.v0+json": ""
     },
     "metadata": {
      "application/vnd.bokehjs_exec.v0+json": {
       "id": "1106"
      }
     },
     "output_type": "display_data"
    }
   ],
   "source": [
    "# データフレームをbokeh読み込み用に変換\n",
    "source = ColumnDataSource(csv_df)\n",
    "# グラフサイズおよびタイトルの設定\n",
    "p = figure(plot_height=500,plot_width=500,title='テストデータの作図')\n",
    "# 折れ線グラフ\n",
    "p.line(x='材料B添加量',y='引張強度',source=source,legend_label='ラベル名')\n",
    "\n",
    "show(p)"
   ]
  },
  {
   "cell_type": "code",
   "execution_count": 5,
   "metadata": {},
   "outputs": [
    {
     "data": {
      "text/html": [
       "\n",
       "\n",
       "\n",
       "\n",
       "\n",
       "\n",
       "  <div class=\"bk-root\" id=\"74f013fd-25c9-407e-8cd2-1d80e2d635ba\" data-root-id=\"1217\"></div>\n"
      ]
     },
     "metadata": {},
     "output_type": "display_data"
    },
    {
     "data": {
      "application/javascript": [
       "(function(root) {\n",
       "  function embed_document(root) {\n",
       "    \n",
       "  var docs_json = {\"6a197031-7b20-45f1-93f5-89345ae338dc\":{\"roots\":{\"references\":[{\"attributes\":{\"below\":[{\"id\":\"1228\"}],\"center\":[{\"id\":\"1231\"},{\"id\":\"1235\"},{\"id\":\"1261\"}],\"left\":[{\"id\":\"1232\"}],\"plot_height\":500,\"plot_width\":500,\"renderers\":[{\"id\":\"1253\"},{\"id\":\"1266\"}],\"title\":{\"id\":\"1218\"},\"toolbar\":{\"id\":\"1243\"},\"x_range\":{\"id\":\"1220\"},\"x_scale\":{\"id\":\"1224\"},\"y_range\":{\"id\":\"1222\"},\"y_scale\":{\"id\":\"1226\"}},\"id\":\"1217\",\"subtype\":\"Figure\",\"type\":\"Plot\"},{\"attributes\":{\"text\":\"\\u30c6\\u30b9\\u30c8\\u30c7\\u30fc\\u30bf\\u306e\\u4f5c\\u56f3\"},\"id\":\"1218\",\"type\":\"Title\"},{\"attributes\":{\"label\":{\"value\":\"\\u30e9\\u30d9\\u30eb\\u540d\"},\"renderers\":[{\"id\":\"1253\"},{\"id\":\"1266\"}]},\"id\":\"1262\",\"type\":\"LegendItem\"},{\"attributes\":{\"source\":{\"id\":\"1216\"}},\"id\":\"1267\",\"type\":\"CDSView\"},{\"attributes\":{\"axis\":{\"id\":\"1228\"},\"ticker\":null},\"id\":\"1231\",\"type\":\"Grid\"},{\"attributes\":{\"line_alpha\":0.1,\"line_color\":\"#1f77b4\",\"x\":{\"field\":\"\\u6750\\u6599B\\u6dfb\\u52a0\\u91cf\"},\"y\":{\"field\":\"\\u5f15\\u5f35\\u5f37\\u5ea6\"}},\"id\":\"1265\",\"type\":\"Line\"},{\"attributes\":{\"line_color\":\"#1f77b4\",\"x\":{\"field\":\"\\u6750\\u6599B\\u6dfb\\u52a0\\u91cf\"},\"y\":{\"field\":\"\\u5f15\\u5f35\\u5f37\\u5ea6\"}},\"id\":\"1264\",\"type\":\"Line\"},{\"attributes\":{\"bottom_units\":\"screen\",\"fill_alpha\":0.5,\"fill_color\":\"lightgrey\",\"left_units\":\"screen\",\"level\":\"overlay\",\"line_alpha\":1.0,\"line_color\":\"black\",\"line_dash\":[4,4],\"line_width\":2,\"render_mode\":\"css\",\"right_units\":\"screen\",\"top_units\":\"screen\"},\"id\":\"1242\",\"type\":\"BoxAnnotation\"},{\"attributes\":{\"axis\":{\"id\":\"1232\"},\"dimension\":1,\"ticker\":null},\"id\":\"1235\",\"type\":\"Grid\"},{\"attributes\":{},\"id\":\"1274\",\"type\":\"UnionRenderers\"},{\"attributes\":{},\"id\":\"1229\",\"type\":\"BasicTicker\"},{\"attributes\":{},\"id\":\"1259\",\"type\":\"BasicTickFormatter\"},{\"attributes\":{\"formatter\":{\"id\":\"1259\"},\"ticker\":{\"id\":\"1229\"}},\"id\":\"1228\",\"type\":\"LinearAxis\"},{\"attributes\":{\"active_drag\":\"auto\",\"active_inspect\":\"auto\",\"active_multi\":null,\"active_scroll\":\"auto\",\"active_tap\":\"auto\",\"tools\":[{\"id\":\"1236\"},{\"id\":\"1237\"},{\"id\":\"1238\"},{\"id\":\"1239\"},{\"id\":\"1240\"},{\"id\":\"1241\"}]},\"id\":\"1243\",\"type\":\"Toolbar\"},{\"attributes\":{},\"id\":\"1224\",\"type\":\"LinearScale\"},{\"attributes\":{\"data_source\":{\"id\":\"1216\"},\"glyph\":{\"id\":\"1251\"},\"hover_glyph\":null,\"muted_glyph\":null,\"nonselection_glyph\":{\"id\":\"1252\"},\"selection_glyph\":null,\"view\":{\"id\":\"1254\"}},\"id\":\"1253\",\"type\":\"GlyphRenderer\"},{\"attributes\":{},\"id\":\"1226\",\"type\":\"LinearScale\"},{\"attributes\":{},\"id\":\"1236\",\"type\":\"PanTool\"},{\"attributes\":{},\"id\":\"1237\",\"type\":\"WheelZoomTool\"},{\"attributes\":{\"overlay\":{\"id\":\"1242\"}},\"id\":\"1238\",\"type\":\"BoxZoomTool\"},{\"attributes\":{},\"id\":\"1239\",\"type\":\"SaveTool\"},{\"attributes\":{},\"id\":\"1220\",\"type\":\"DataRange1d\"},{\"attributes\":{},\"id\":\"1241\",\"type\":\"HelpTool\"},{\"attributes\":{\"fill_alpha\":{\"value\":0.1},\"fill_color\":{\"value\":\"#1f77b4\"},\"line_alpha\":{\"value\":0.1},\"line_color\":{\"value\":\"#1f77b4\"},\"x\":{\"field\":\"\\u6750\\u6599B\\u6dfb\\u52a0\\u91cf\"},\"y\":{\"field\":\"\\u5f15\\u5f35\\u5f37\\u5ea6\"}},\"id\":\"1252\",\"type\":\"Circle\"},{\"attributes\":{},\"id\":\"1240\",\"type\":\"ResetTool\"},{\"attributes\":{},\"id\":\"1233\",\"type\":\"BasicTicker\"},{\"attributes\":{\"fill_color\":{\"value\":\"#1f77b4\"},\"line_color\":{\"value\":\"#1f77b4\"},\"x\":{\"field\":\"\\u6750\\u6599B\\u6dfb\\u52a0\\u91cf\"},\"y\":{\"field\":\"\\u5f15\\u5f35\\u5f37\\u5ea6\"}},\"id\":\"1251\",\"type\":\"Circle\"},{\"attributes\":{\"source\":{\"id\":\"1216\"}},\"id\":\"1254\",\"type\":\"CDSView\"},{\"attributes\":{\"data\":{\"index\":[0,1,2,3,4,5,6,7,8,9,10,11,12,13,14,15,16,17,18,19,20,21,22,23,24,25,26,27,28,29,30,31,32,33,34,35,36,37,38,39,40,41,42,43,44,45,46,47,48,49,50,51,52,53,54,55,56,57,58,59,60,61,62,63,64,65,66,67,68,69,70,71,72,73,74,75,76,77,78,79,80,81,82,83,84,85,86,87,88,89,90,91,92,93,94,95,96,97,98,99],\"sample_name\":[\"\\u30b5\\u30f3\\u30d7\\u30eb1\",\"\\u30b5\\u30f3\\u30d7\\u30eb2\",\"\\u30b5\\u30f3\\u30d7\\u30eb3\",\"\\u30b5\\u30f3\\u30d7\\u30eb4\",\"\\u30b5\\u30f3\\u30d7\\u30eb5\",\"\\u30b5\\u30f3\\u30d7\\u30eb6\",\"\\u30b5\\u30f3\\u30d7\\u30eb7\",\"\\u30b5\\u30f3\\u30d7\\u30eb8\",\"\\u30b5\\u30f3\\u30d7\\u30eb9\",\"\\u30b5\\u30f3\\u30d7\\u30eb10\",\"\\u30b5\\u30f3\\u30d7\\u30eb11\",\"\\u30b5\\u30f3\\u30d7\\u30eb12\",\"\\u30b5\\u30f3\\u30d7\\u30eb13\",\"\\u30b5\\u30f3\\u30d7\\u30eb14\",\"\\u30b5\\u30f3\\u30d7\\u30eb15\",\"\\u30b5\\u30f3\\u30d7\\u30eb16\",\"\\u30b5\\u30f3\\u30d7\\u30eb17\",\"\\u30b5\\u30f3\\u30d7\\u30eb18\",\"\\u30b5\\u30f3\\u30d7\\u30eb19\",\"\\u30b5\\u30f3\\u30d7\\u30eb20\",\"\\u30b5\\u30f3\\u30d7\\u30eb21\",\"\\u30b5\\u30f3\\u30d7\\u30eb22\",\"\\u30b5\\u30f3\\u30d7\\u30eb23\",\"\\u30b5\\u30f3\\u30d7\\u30eb24\",\"\\u30b5\\u30f3\\u30d7\\u30eb25\",\"\\u30b5\\u30f3\\u30d7\\u30eb26\",\"\\u30b5\\u30f3\\u30d7\\u30eb27\",\"\\u30b5\\u30f3\\u30d7\\u30eb28\",\"\\u30b5\\u30f3\\u30d7\\u30eb29\",\"\\u30b5\\u30f3\\u30d7\\u30eb30\",\"\\u30b5\\u30f3\\u30d7\\u30eb31\",\"\\u30b5\\u30f3\\u30d7\\u30eb32\",\"\\u30b5\\u30f3\\u30d7\\u30eb33\",\"\\u30b5\\u30f3\\u30d7\\u30eb34\",\"\\u30b5\\u30f3\\u30d7\\u30eb35\",\"\\u30b5\\u30f3\\u30d7\\u30eb36\",\"\\u30b5\\u30f3\\u30d7\\u30eb37\",\"\\u30b5\\u30f3\\u30d7\\u30eb38\",\"\\u30b5\\u30f3\\u30d7\\u30eb39\",\"\\u30b5\\u30f3\\u30d7\\u30eb40\",\"\\u30b5\\u30f3\\u30d7\\u30eb41\",\"\\u30b5\\u30f3\\u30d7\\u30eb42\",\"\\u30b5\\u30f3\\u30d7\\u30eb43\",\"\\u30b5\\u30f3\\u30d7\\u30eb44\",\"\\u30b5\\u30f3\\u30d7\\u30eb45\",\"\\u30b5\\u30f3\\u30d7\\u30eb46\",\"\\u30b5\\u30f3\\u30d7\\u30eb47\",\"\\u30b5\\u30f3\\u30d7\\u30eb48\",\"\\u30b5\\u30f3\\u30d7\\u30eb49\",\"\\u30b5\\u30f3\\u30d7\\u30eb50\",\"\\u30b5\\u30f3\\u30d7\\u30eb51\",\"\\u30b5\\u30f3\\u30d7\\u30eb52\",\"\\u30b5\\u30f3\\u30d7\\u30eb53\",\"\\u30b5\\u30f3\\u30d7\\u30eb54\",\"\\u30b5\\u30f3\\u30d7\\u30eb55\",\"\\u30b5\\u30f3\\u30d7\\u30eb56\",\"\\u30b5\\u30f3\\u30d7\\u30eb57\",\"\\u30b5\\u30f3\\u30d7\\u30eb58\",\"\\u30b5\\u30f3\\u30d7\\u30eb59\",\"\\u30b5\\u30f3\\u30d7\\u30eb60\",\"\\u30b5\\u30f3\\u30d7\\u30eb61\",\"\\u30b5\\u30f3\\u30d7\\u30eb62\",\"\\u30b5\\u30f3\\u30d7\\u30eb63\",\"\\u30b5\\u30f3\\u30d7\\u30eb64\",\"\\u30b5\\u30f3\\u30d7\\u30eb65\",\"\\u30b5\\u30f3\\u30d7\\u30eb66\",\"\\u30b5\\u30f3\\u30d7\\u30eb67\",\"\\u30b5\\u30f3\\u30d7\\u30eb68\",\"\\u30b5\\u30f3\\u30d7\\u30eb69\",\"\\u30b5\\u30f3\\u30d7\\u30eb70\",\"\\u30b5\\u30f3\\u30d7\\u30eb71\",\"\\u30b5\\u30f3\\u30d7\\u30eb72\",\"\\u30b5\\u30f3\\u30d7\\u30eb73\",\"\\u30b5\\u30f3\\u30d7\\u30eb74\",\"\\u30b5\\u30f3\\u30d7\\u30eb75\",\"\\u30b5\\u30f3\\u30d7\\u30eb76\",\"\\u30b5\\u30f3\\u30d7\\u30eb77\",\"\\u30b5\\u30f3\\u30d7\\u30eb78\",\"\\u30b5\\u30f3\\u30d7\\u30eb79\",\"\\u30b5\\u30f3\\u30d7\\u30eb80\",\"\\u30b5\\u30f3\\u30d7\\u30eb81\",\"\\u30b5\\u30f3\\u30d7\\u30eb82\",\"\\u30b5\\u30f3\\u30d7\\u30eb83\",\"\\u30b5\\u30f3\\u30d7\\u30eb84\",\"\\u30b5\\u30f3\\u30d7\\u30eb85\",\"\\u30b5\\u30f3\\u30d7\\u30eb86\",\"\\u30b5\\u30f3\\u30d7\\u30eb87\",\"\\u30b5\\u30f3\\u30d7\\u30eb88\",\"\\u30b5\\u30f3\\u30d7\\u30eb89\",\"\\u30b5\\u30f3\\u30d7\\u30eb90\",\"\\u30b5\\u30f3\\u30d7\\u30eb91\",\"\\u30b5\\u30f3\\u30d7\\u30eb92\",\"\\u30b5\\u30f3\\u30d7\\u30eb93\",\"\\u30b5\\u30f3\\u30d7\\u30eb94\",\"\\u30b5\\u30f3\\u30d7\\u30eb95\",\"\\u30b5\\u30f3\\u30d7\\u30eb96\",\"\\u30b5\\u30f3\\u30d7\\u30eb97\",\"\\u30b5\\u30f3\\u30d7\\u30eb98\",\"\\u30b5\\u30f3\\u30d7\\u30eb99\",\"\\u30b5\\u30f3\\u30d7\\u30eb100\"],\"\\u30ab\\u30c6\\u30b4\\u30ea\":[\"\\u30bf\\u30a4\\u30d7A\",\"\\u30bf\\u30a4\\u30d7A\",\"\\u30bf\\u30a4\\u30d7A\",\"\\u30bf\\u30a4\\u30d7A\",\"\\u30bf\\u30a4\\u30d7A\",\"\\u30bf\\u30a4\\u30d7A\",\"\\u30bf\\u30a4\\u30d7A\",\"\\u30bf\\u30a4\\u30d7A\",\"\\u30bf\\u30a4\\u30d7A\",\"\\u30bf\\u30a4\\u30d7A\",\"\\u30bf\\u30a4\\u30d7A\",\"\\u30bf\\u30a4\\u30d7A\",\"\\u30bf\\u30a4\\u30d7A\",\"\\u30bf\\u30a4\\u30d7A\",\"\\u30bf\\u30a4\\u30d7A\",\"\\u30bf\\u30a4\\u30d7B\",\"\\u30bf\\u30a4\\u30d7B\",\"\\u30bf\\u30a4\\u30d7B\",\"\\u30bf\\u30a4\\u30d7B\",\"\\u30bf\\u30a4\\u30d7B\",\"\\u30bf\\u30a4\\u30d7B\",\"\\u30bf\\u30a4\\u30d7B\",\"\\u30bf\\u30a4\\u30d7B\",\"\\u30bf\\u30a4\\u30d7B\",\"\\u30bf\\u30a4\\u30d7B\",\"\\u30bf\\u30a4\\u30d7B\",\"\\u30bf\\u30a4\\u30d7B\",\"\\u30bf\\u30a4\\u30d7B\",\"\\u30bf\\u30a4\\u30d7B\",\"\\u30bf\\u30a4\\u30d7B\",\"\\u30bf\\u30a4\\u30d7B\",\"\\u30bf\\u30a4\\u30d7B\",\"\\u30bf\\u30a4\\u30d7B\",\"\\u30bf\\u30a4\\u30d7B\",\"\\u30bf\\u30a4\\u30d7B\",\"\\u30bf\\u30a4\\u30d7B\",\"\\u30bf\\u30a4\\u30d7B\",\"\\u30bf\\u30a4\\u30d7B\",\"\\u30bf\\u30a4\\u30d7C\",\"\\u30bf\\u30a4\\u30d7C\",\"\\u30bf\\u30a4\\u30d7C\",\"\\u30bf\\u30a4\\u30d7C\",\"\\u30bf\\u30a4\\u30d7C\",\"\\u30bf\\u30a4\\u30d7C\",\"\\u30bf\\u30a4\\u30d7C\",\"\\u30bf\\u30a4\\u30d7C\",\"\\u30bf\\u30a4\\u30d7C\",\"\\u30bf\\u30a4\\u30d7C\",\"\\u30bf\\u30a4\\u30d7C\",\"\\u30bf\\u30a4\\u30d7C\",\"\\u30bf\\u30a4\\u30d7C\",\"\\u30bf\\u30a4\\u30d7C\",\"\\u30bf\\u30a4\\u30d7C\",\"\\u30bf\\u30a4\\u30d7C\",\"\\u30bf\\u30a4\\u30d7C\",\"\\u30bf\\u30a4\\u30d7C\",\"\\u30bf\\u30a4\\u30d7C\",\"\\u30bf\\u30a4\\u30d7C\",\"\\u30bf\\u30a4\\u30d7C\",\"\\u30bf\\u30a4\\u30d7C\",\"\\u30bf\\u30a4\\u30d7C\",\"\\u30bf\\u30a4\\u30d7C\",\"\\u30bf\\u30a4\\u30d7C\",\"\\u30bf\\u30a4\\u30d7C\",\"\\u30bf\\u30a4\\u30d7C\",\"\\u30bf\\u30a4\\u30d7C\",\"\\u30bf\\u30a4\\u30d7C\",\"\\u30bf\\u30a4\\u30d7C\",\"\\u30bf\\u30a4\\u30d7C\",\"\\u30bf\\u30a4\\u30d7C\",\"\\u30bf\\u30a4\\u30d7C\",\"\\u30bf\\u30a4\\u30d7C\",\"\\u30bf\\u30a4\\u30d7C\",\"\\u30bf\\u30a4\\u30d7C\",\"\\u30bf\\u30a4\\u30d7C\",\"\\u30bf\\u30a4\\u30d7C\",\"\\u30bf\\u30a4\\u30d7C\",\"\\u30bf\\u30a4\\u30d7C\",\"\\u30bf\\u30a4\\u30d7C\",\"\\u30bf\\u30a4\\u30d7C\",\"\\u30bf\\u30a4\\u30d7C\",\"\\u30bf\\u30a4\\u30d7C\",\"\\u30bf\\u30a4\\u30d7C\",\"\\u30bf\\u30a4\\u30d7C\",\"\\u30bf\\u30a4\\u30d7C\",\"\\u30bf\\u30a4\\u30d7C\",\"\\u30bf\\u30a4\\u30d7C\",\"\\u30bf\\u30a4\\u30d7C\",\"\\u30bf\\u30a4\\u30d7C\",\"\\u30bf\\u30a4\\u30d7C\",\"\\u30bf\\u30a4\\u30d7C\",\"\\u30bf\\u30a4\\u30d7C\",\"\\u30bf\\u30a4\\u30d7C\",\"\\u30bf\\u30a4\\u30d7C\",\"\\u30bf\\u30a4\\u30d7C\",\"\\u30bf\\u30a4\\u30d7C\",\"\\u30bf\\u30a4\\u30d7C\",\"\\u30bf\\u30a4\\u30d7C\",\"\\u30bf\\u30a4\\u30d7C\",\"\\u30bf\\u30a4\\u30d7C\"],\"\\u5f15\\u5f35\\u5f37\\u5ea6\":[151,175,147,219,227,171,187,187,183,115,119,159,101,99,165,145,151,141,163,155,129,153,93,139,93,129,99,69,69,69,69,69,69,69,69,69,69,69,69,69,69,69,69,69,69,69,69,25,25,31,28,28,22,49,37,42,38,32,46,26,32,54,46,54,34,49,39,53,41,36,44,33,38,34,22,45,20,37,43,50,52,41,31,43,47,33,50,26,41,47,44,45,28,23,25,26,41,52,42,51],\"\\u5f15\\u5f35\\u5f37\\u5ea6_\\u6e2c\\u5b9a\\u8aa4\\u5dee\\u4e0a\\u9650\":{\"__ndarray__\":\"mpmZmZnRY0AAAAAAAPhmQDMzMzMzS2NAZmZmZma+bEAzMzMzM8ttQJqZmZmZcWZAMzMzMzOLaEAzMzMzM4toQM3MzMzMBGhAAAAAAAAwXkDNzMzMzDxfQGZmZmZm3mRAMzMzMzODWkDNzMzMzPxZQAAAAAAAqGVAAAAAAAAIY0CamZmZmdFjQJqZmZmZgWJAzczMzMxkZUAAAAAAAFhkQGZmZmZm7mBAzczMzMwUZECamZmZmWlYQGZmZmZmPmJAmpmZmZlpWEBmZmZmZu5gQM3MzMzM/FlAzczMzMwcUkDNzMzMzBxSQM3MzMzMHFJAzczMzMwcUkDNzMzMzBxSQM3MzMzMHFJAzczMzMwcUkDNzMzMzBxSQM3MzMzMHFJAzczMzMwcUkDNzMzMzBxSQM3MzMzMHFJAzczMzMwcUkDNzMzMzBxSQM3MzMzMHFJAzczMzMwcUkDNzMzMzBxSQM3MzMzMHFJAzczMzMwcUkDNzMzMzBxSQAAAAAAAQDpAAAAAAABAOkBmZmZmZkZAQGZmZmZmZj1AZmZmZmZmPUCamZmZmRk3QJqZmZmZuUlAzczMzMxsQ0DNzMzMzAxGQDMzMzMz80NAzczMzMzMQEBmZmZmZiZIQM3MzMzMTDtAzczMzMzMQECamZmZmVlMQGZmZmZmJkhAmpmZmZlZTECamZmZmdlBQJqZmZmZuUlAmpmZmZl5REAzMzMzM9NLQGZmZmZmhkVAZmZmZmbmQkCamZmZmRlHQDMzMzMzU0FAMzMzMzPzQ0CamZmZmdlBQJqZmZmZGTdAAAAAAACgR0AAAAAAAAA1QM3MzMzMbENAMzMzMzOTRkAAAAAAAEBKQM3MzMzMTEtAZmZmZmaGRUBmZmZmZkZAQDMzMzMzk0ZAzczMzMysSEAzMzMzM1NBQAAAAAAAQEpAzczMzMxMO0BmZmZmZoZFQM3MzMzMrEhAmpmZmZkZR0AAAAAAAKBHQGZmZmZmZj1AZmZmZmYmOEAAAAAAAEA6QM3MzMzMTDtAZmZmZmaGRUDNzMzMzExLQM3MzMzMDEZAZmZmZmbGSkA=\",\"dtype\":\"float64\",\"shape\":[100]},\"\\u5f15\\u5f35\\u5f37\\u5ea6_\\u6e2c\\u5b9a\\u8aa4\\u5dee\\u4e0b\\u9650\":{\"__ndarray__\":\"ZmZmZmbuYUAAAAAAAMhkQM3MzMzMdGFAmpmZmZkBakDNzMzMzPRqQGZmZmZmTmRAzczMzMw0ZkDNzMzMzDRmQDMzMzMzu2VAAAAAAABQW0AzMzMzM0NcQJqZmZmZ4WJAzczMzMz8V0AzMzMzM4NXQAAAAAAAmGNAAAAAAAA4YUBmZmZmZu5hQGZmZmZmvmBAMzMzMzNbY0AAAAAAAGhiQDMzMzMzo15AMzMzMzMrYkBmZmZmZhZWQJqZmZmZgWBAZmZmZmYWVkAzMzMzM6NeQDMzMzMzg1dAMzMzMzNjUEAzMzMzM2NQQDMzMzMzY1BAMzMzMzNjUEAzMzMzM2NQQDMzMzMzY1BAMzMzMzNjUEAzMzMzM2NQQDMzMzMzY1BAMzMzMzNjUEAzMzMzM2NQQDMzMzMzY1BAMzMzMzNjUEAzMzMzM2NQQDMzMzMzY1BAMzMzMzNjUEAzMzMzM2NQQDMzMzMzY1BAMzMzMzNjUEAzMzMzM2NQQAAAAAAAwDdAAAAAAADAN0AzMzMzM3M9QJqZmZmZmTpAmpmZmZmZOkBmZmZmZuY0QGZmZmZmRkdAMzMzMzOTQUAzMzMzM/NDQM3MzMzMDEJAZmZmZmZmPkCamZmZmdlFQDMzMzMzszhAZmZmZmZmPkBmZmZmZqZJQJqZmZmZ2UVAZmZmZmamSUBmZmZmZiZAQGZmZmZmRkdAZmZmZmaGQkDNzMzMzCxJQJqZmZmZeUNAmpmZmZkZQUBmZmZmZuZEQJqZmZmZWT9AzczMzMwMQkBmZmZmZiZAQGZmZmZm5jRAAAAAAABgRUAAAAAAAAAzQDMzMzMzk0FAzczMzMxsREAAAAAAAMBHQDMzMzMzs0hAmpmZmZl5Q0AzMzMzM3M9QM3MzMzMbERAMzMzMzNTRkCamZmZmVk/QAAAAAAAwEdAMzMzMzOzOECamZmZmXlDQDMzMzMzU0ZAZmZmZmbmREAAAAAAAGBFQJqZmZmZmTpAmpmZmZnZNUAAAAAAAMA3QDMzMzMzszhAmpmZmZl5Q0AzMzMzM7NIQDMzMzMz80NAmpmZmZk5SEA=\",\"dtype\":\"float64\",\"shape\":[100]},\"\\u6750\\u6599A_lot\":[1111,1111,1111,1111,1111,1111,1111,1111,1111,1111,1111,1111,1111,1111,1111,1111,1111,1111,1111,1111,1111,1111,1111,1111,1111,1111,1111,1111,2222,2222,2222,2222,2222,2222,2222,2222,2222,2222,2222,2222,2222,2222,2222,2222,2222,2222,2222,2222,2222,2222,2222,2222,2222,2222,2222,2222,2222,2222,2222,2222,2222,2222,2222,2222,2222,2222,2222,2222,2222,2222,2222,2222,2222,2222,2222,2222,2222,2222,2222,2222,2222,2222,3333,3333,3333,3333,3333,3333,3333,3333,3333,3333,3333,3333,3333,3333,3333,3333,3333,3333],\"\\u6750\\u6599A\\u6dfb\\u52a0\\u91cf\":[75,69,76,58,56,70,66,66,67,84,74,54,83,84,51,61,58,72,58,59,69,54,81,55,75,54,81,56,59,82,65,83,82,75,64,59,57,71,82,52,61,63,83,56,67,56,61,55,55,61,58,58,52,79,67,72,68,62,76,56,62,84,76,84,64,79,69,83,71,66,74,63,68,64,52,75,50,67,73,80,82,71,61,73,77,63,80,56,71,77,74,75,58,53,55,56,71,82,72,81],\"\\u6750\\u6599B\\u6dfb\\u52a0\\u91cf\":[5,5,5,5,5,5,5,5,5,5,3,3,3,3,3,3,3,3,3,3,3,3,3,3,3,3,3,1,1,1,1,1,1,1,1,1,1,1,1,1,1,1,1,1,1,1,1,0,0,0,0,0,0,0,0,0,0,0,0,0,0,0,0,0,0,0,0,0,0,0,0,0,0,0,0,0,0,0,0,0,0,0,0,0,0,0,0,0,0,0,0,0,0,0,0,0,0,0,0,0],\"\\u6750\\u6599C\\u6dfb\\u52a0\\u91cf\":[20,26,19,37,39,25,29,29,28,11,23,43,14,13,46,36,39,25,39,38,28,43,16,42,22,43,16,43,40,17,34,16,17,24,35,40,42,28,17,47,38,36,16,43,32,43,38,45,45,39,42,42,48,21,33,28,32,38,24,44,38,16,24,16,36,21,31,17,29,34,26,37,32,36,48,25,50,33,27,20,18,29,39,27,23,37,20,44,29,23,26,25,42,47,45,44,29,18,28,19],\"\\u6e29\\u5ea6\":[20,20,20,20,20,20,20,20,20,20,20,20,20,20,20,20,20,5,10,15,20,25,30,35,40,45,25,25,25,25,25,25,25,25,25,25,25,25,25,25,25,25,25,25,25,25,25,25,25,25,25,25,25,25,25,25,25,25,25,25,25,25,25,25,25,25,25,25,25,25,25,25,25,25,25,25,25,25,25,25,25,25,25,25,25,25,25,25,25,25,25,25,25,25,25,25,25,25,25,25]},\"selected\":{\"id\":\"1273\"},\"selection_policy\":{\"id\":\"1274\"}},\"id\":\"1216\",\"type\":\"ColumnDataSource\"},{\"attributes\":{\"formatter\":{\"id\":\"1257\"},\"ticker\":{\"id\":\"1233\"}},\"id\":\"1232\",\"type\":\"LinearAxis\"},{\"attributes\":{},\"id\":\"1257\",\"type\":\"BasicTickFormatter\"},{\"attributes\":{},\"id\":\"1273\",\"type\":\"Selection\"},{\"attributes\":{\"items\":[{\"id\":\"1262\"}]},\"id\":\"1261\",\"type\":\"Legend\"},{\"attributes\":{},\"id\":\"1222\",\"type\":\"DataRange1d\"},{\"attributes\":{\"data_source\":{\"id\":\"1216\"},\"glyph\":{\"id\":\"1264\"},\"hover_glyph\":null,\"muted_glyph\":null,\"nonselection_glyph\":{\"id\":\"1265\"},\"selection_glyph\":null,\"view\":{\"id\":\"1267\"}},\"id\":\"1266\",\"type\":\"GlyphRenderer\"}],\"root_ids\":[\"1217\"]},\"title\":\"Bokeh Application\",\"version\":\"2.0.2\"}};\n",
       "  var render_items = [{\"docid\":\"6a197031-7b20-45f1-93f5-89345ae338dc\",\"root_ids\":[\"1217\"],\"roots\":{\"1217\":\"74f013fd-25c9-407e-8cd2-1d80e2d635ba\"}}];\n",
       "  root.Bokeh.embed.embed_items_notebook(docs_json, render_items);\n",
       "\n",
       "  }\n",
       "  if (root.Bokeh !== undefined) {\n",
       "    embed_document(root);\n",
       "  } else {\n",
       "    var attempts = 0;\n",
       "    var timer = setInterval(function(root) {\n",
       "      if (root.Bokeh !== undefined) {\n",
       "        clearInterval(timer);\n",
       "        embed_document(root);\n",
       "      } else {\n",
       "        attempts++;\n",
       "        if (attempts > 100) {\n",
       "          clearInterval(timer);\n",
       "          console.log(\"Bokeh: ERROR: Unable to run BokehJS code because BokehJS library is missing\");\n",
       "        }\n",
       "      }\n",
       "    }, 10, root)\n",
       "  }\n",
       "})(window);"
      ],
      "application/vnd.bokehjs_exec.v0+json": ""
     },
     "metadata": {
      "application/vnd.bokehjs_exec.v0+json": {
       "id": "1217"
      }
     },
     "output_type": "display_data"
    }
   ],
   "source": [
    "# データフレームをbokeh読み込み用に変換\n",
    "source = ColumnDataSource(csv_df)\n",
    "# グラフサイズおよびタイトルの設定\n",
    "p = figure(plot_height=500,plot_width=500,title='テストデータの作図')\n",
    "# 散布図及び折れ線グラフ\n",
    "p.circle(x='材料B添加量',y='引張強度',source=source,legend_label='ラベル名')\n",
    "p.line(x='材料B添加量',y='引張強度',source=source,legend_label='ラベル名')\n",
    "\n",
    "show(p)"
   ]
  },
  {
   "cell_type": "code",
   "execution_count": 6,
   "metadata": {},
   "outputs": [
    {
     "data": {
      "text/html": [
       "\n",
       "\n",
       "\n",
       "\n",
       "\n",
       "\n",
       "  <div class=\"bk-root\" id=\"9e2f6473-683e-4b17-a77d-61a8a30ace88\" data-root-id=\"1349\"></div>\n"
      ]
     },
     "metadata": {},
     "output_type": "display_data"
    },
    {
     "data": {
      "application/javascript": [
       "(function(root) {\n",
       "  function embed_document(root) {\n",
       "    \n",
       "  var docs_json = {\"f670f9c0-7fde-46a7-9d00-e949846f45fb\":{\"roots\":{\"references\":[{\"attributes\":{\"below\":[{\"id\":\"1360\"}],\"center\":[{\"id\":\"1363\"},{\"id\":\"1367\"},{\"id\":\"1393\"}],\"left\":[{\"id\":\"1364\"}],\"plot_height\":500,\"plot_width\":500,\"renderers\":[{\"id\":\"1385\"}],\"title\":{\"id\":\"1350\"},\"toolbar\":{\"id\":\"1375\"},\"x_range\":{\"id\":\"1352\"},\"x_scale\":{\"id\":\"1356\"},\"y_range\":{\"id\":\"1354\"},\"y_scale\":{\"id\":\"1358\"}},\"id\":\"1349\",\"subtype\":\"Figure\",\"type\":\"Plot\"},{\"attributes\":{},\"id\":\"1352\",\"type\":\"DataRange1d\"},{\"attributes\":{},\"id\":\"1425\",\"type\":\"UnionRenderers\"},{\"attributes\":{},\"id\":\"1354\",\"type\":\"DataRange1d\"},{\"attributes\":{},\"id\":\"1391\",\"type\":\"BasicTickFormatter\"},{\"attributes\":{\"active_drag\":\"auto\",\"active_inspect\":\"auto\",\"active_multi\":null,\"active_scroll\":\"auto\",\"active_tap\":\"auto\",\"tools\":[{\"id\":\"1368\"},{\"id\":\"1369\"},{\"id\":\"1370\"},{\"id\":\"1371\"},{\"id\":\"1372\"},{\"id\":\"1373\"}]},\"id\":\"1375\",\"type\":\"Toolbar\"},{\"attributes\":{\"axis\":{\"id\":\"1364\"},\"dimension\":1,\"ticker\":null},\"id\":\"1367\",\"type\":\"Grid\"},{\"attributes\":{\"fill_alpha\":{\"value\":0.5},\"fill_color\":{\"value\":\"blue\"},\"line_alpha\":{\"value\":0.5},\"line_color\":{\"value\":\"blue\"},\"size\":{\"units\":\"screen\",\"value\":10},\"x\":{\"field\":\"\\u6750\\u6599A\\u6dfb\\u52a0\\u91cf\"},\"y\":{\"field\":\"\\u5f15\\u5f35\\u5f37\\u5ea6\"}},\"id\":\"1383\",\"type\":\"Circle\"},{\"attributes\":{\"label\":{\"value\":\"\\u30e9\\u30d9\\u30eb\\u540d\"},\"renderers\":[{\"id\":\"1385\"}]},\"id\":\"1394\",\"type\":\"LegendItem\"},{\"attributes\":{\"data\":{\"index\":[0,1,2,3,4,5,6,7,8,9,10,11,12,13,14,15,16,17,18,19,20,21,22,23,24,25,26,27,28,29,30,31,32,33,34,35,36,37,38,39,40,41,42,43,44,45,46,47,48,49,50,51,52,53,54,55,56,57,58,59,60,61,62,63,64,65,66,67,68,69,70,71,72,73,74,75,76,77,78,79,80,81,82,83,84,85,86,87,88,89,90,91,92,93,94,95,96,97,98,99],\"sample_name\":[\"\\u30b5\\u30f3\\u30d7\\u30eb1\",\"\\u30b5\\u30f3\\u30d7\\u30eb2\",\"\\u30b5\\u30f3\\u30d7\\u30eb3\",\"\\u30b5\\u30f3\\u30d7\\u30eb4\",\"\\u30b5\\u30f3\\u30d7\\u30eb5\",\"\\u30b5\\u30f3\\u30d7\\u30eb6\",\"\\u30b5\\u30f3\\u30d7\\u30eb7\",\"\\u30b5\\u30f3\\u30d7\\u30eb8\",\"\\u30b5\\u30f3\\u30d7\\u30eb9\",\"\\u30b5\\u30f3\\u30d7\\u30eb10\",\"\\u30b5\\u30f3\\u30d7\\u30eb11\",\"\\u30b5\\u30f3\\u30d7\\u30eb12\",\"\\u30b5\\u30f3\\u30d7\\u30eb13\",\"\\u30b5\\u30f3\\u30d7\\u30eb14\",\"\\u30b5\\u30f3\\u30d7\\u30eb15\",\"\\u30b5\\u30f3\\u30d7\\u30eb16\",\"\\u30b5\\u30f3\\u30d7\\u30eb17\",\"\\u30b5\\u30f3\\u30d7\\u30eb18\",\"\\u30b5\\u30f3\\u30d7\\u30eb19\",\"\\u30b5\\u30f3\\u30d7\\u30eb20\",\"\\u30b5\\u30f3\\u30d7\\u30eb21\",\"\\u30b5\\u30f3\\u30d7\\u30eb22\",\"\\u30b5\\u30f3\\u30d7\\u30eb23\",\"\\u30b5\\u30f3\\u30d7\\u30eb24\",\"\\u30b5\\u30f3\\u30d7\\u30eb25\",\"\\u30b5\\u30f3\\u30d7\\u30eb26\",\"\\u30b5\\u30f3\\u30d7\\u30eb27\",\"\\u30b5\\u30f3\\u30d7\\u30eb28\",\"\\u30b5\\u30f3\\u30d7\\u30eb29\",\"\\u30b5\\u30f3\\u30d7\\u30eb30\",\"\\u30b5\\u30f3\\u30d7\\u30eb31\",\"\\u30b5\\u30f3\\u30d7\\u30eb32\",\"\\u30b5\\u30f3\\u30d7\\u30eb33\",\"\\u30b5\\u30f3\\u30d7\\u30eb34\",\"\\u30b5\\u30f3\\u30d7\\u30eb35\",\"\\u30b5\\u30f3\\u30d7\\u30eb36\",\"\\u30b5\\u30f3\\u30d7\\u30eb37\",\"\\u30b5\\u30f3\\u30d7\\u30eb38\",\"\\u30b5\\u30f3\\u30d7\\u30eb39\",\"\\u30b5\\u30f3\\u30d7\\u30eb40\",\"\\u30b5\\u30f3\\u30d7\\u30eb41\",\"\\u30b5\\u30f3\\u30d7\\u30eb42\",\"\\u30b5\\u30f3\\u30d7\\u30eb43\",\"\\u30b5\\u30f3\\u30d7\\u30eb44\",\"\\u30b5\\u30f3\\u30d7\\u30eb45\",\"\\u30b5\\u30f3\\u30d7\\u30eb46\",\"\\u30b5\\u30f3\\u30d7\\u30eb47\",\"\\u30b5\\u30f3\\u30d7\\u30eb48\",\"\\u30b5\\u30f3\\u30d7\\u30eb49\",\"\\u30b5\\u30f3\\u30d7\\u30eb50\",\"\\u30b5\\u30f3\\u30d7\\u30eb51\",\"\\u30b5\\u30f3\\u30d7\\u30eb52\",\"\\u30b5\\u30f3\\u30d7\\u30eb53\",\"\\u30b5\\u30f3\\u30d7\\u30eb54\",\"\\u30b5\\u30f3\\u30d7\\u30eb55\",\"\\u30b5\\u30f3\\u30d7\\u30eb56\",\"\\u30b5\\u30f3\\u30d7\\u30eb57\",\"\\u30b5\\u30f3\\u30d7\\u30eb58\",\"\\u30b5\\u30f3\\u30d7\\u30eb59\",\"\\u30b5\\u30f3\\u30d7\\u30eb60\",\"\\u30b5\\u30f3\\u30d7\\u30eb61\",\"\\u30b5\\u30f3\\u30d7\\u30eb62\",\"\\u30b5\\u30f3\\u30d7\\u30eb63\",\"\\u30b5\\u30f3\\u30d7\\u30eb64\",\"\\u30b5\\u30f3\\u30d7\\u30eb65\",\"\\u30b5\\u30f3\\u30d7\\u30eb66\",\"\\u30b5\\u30f3\\u30d7\\u30eb67\",\"\\u30b5\\u30f3\\u30d7\\u30eb68\",\"\\u30b5\\u30f3\\u30d7\\u30eb69\",\"\\u30b5\\u30f3\\u30d7\\u30eb70\",\"\\u30b5\\u30f3\\u30d7\\u30eb71\",\"\\u30b5\\u30f3\\u30d7\\u30eb72\",\"\\u30b5\\u30f3\\u30d7\\u30eb73\",\"\\u30b5\\u30f3\\u30d7\\u30eb74\",\"\\u30b5\\u30f3\\u30d7\\u30eb75\",\"\\u30b5\\u30f3\\u30d7\\u30eb76\",\"\\u30b5\\u30f3\\u30d7\\u30eb77\",\"\\u30b5\\u30f3\\u30d7\\u30eb78\",\"\\u30b5\\u30f3\\u30d7\\u30eb79\",\"\\u30b5\\u30f3\\u30d7\\u30eb80\",\"\\u30b5\\u30f3\\u30d7\\u30eb81\",\"\\u30b5\\u30f3\\u30d7\\u30eb82\",\"\\u30b5\\u30f3\\u30d7\\u30eb83\",\"\\u30b5\\u30f3\\u30d7\\u30eb84\",\"\\u30b5\\u30f3\\u30d7\\u30eb85\",\"\\u30b5\\u30f3\\u30d7\\u30eb86\",\"\\u30b5\\u30f3\\u30d7\\u30eb87\",\"\\u30b5\\u30f3\\u30d7\\u30eb88\",\"\\u30b5\\u30f3\\u30d7\\u30eb89\",\"\\u30b5\\u30f3\\u30d7\\u30eb90\",\"\\u30b5\\u30f3\\u30d7\\u30eb91\",\"\\u30b5\\u30f3\\u30d7\\u30eb92\",\"\\u30b5\\u30f3\\u30d7\\u30eb93\",\"\\u30b5\\u30f3\\u30d7\\u30eb94\",\"\\u30b5\\u30f3\\u30d7\\u30eb95\",\"\\u30b5\\u30f3\\u30d7\\u30eb96\",\"\\u30b5\\u30f3\\u30d7\\u30eb97\",\"\\u30b5\\u30f3\\u30d7\\u30eb98\",\"\\u30b5\\u30f3\\u30d7\\u30eb99\",\"\\u30b5\\u30f3\\u30d7\\u30eb100\"],\"\\u30ab\\u30c6\\u30b4\\u30ea\":[\"\\u30bf\\u30a4\\u30d7A\",\"\\u30bf\\u30a4\\u30d7A\",\"\\u30bf\\u30a4\\u30d7A\",\"\\u30bf\\u30a4\\u30d7A\",\"\\u30bf\\u30a4\\u30d7A\",\"\\u30bf\\u30a4\\u30d7A\",\"\\u30bf\\u30a4\\u30d7A\",\"\\u30bf\\u30a4\\u30d7A\",\"\\u30bf\\u30a4\\u30d7A\",\"\\u30bf\\u30a4\\u30d7A\",\"\\u30bf\\u30a4\\u30d7A\",\"\\u30bf\\u30a4\\u30d7A\",\"\\u30bf\\u30a4\\u30d7A\",\"\\u30bf\\u30a4\\u30d7A\",\"\\u30bf\\u30a4\\u30d7A\",\"\\u30bf\\u30a4\\u30d7B\",\"\\u30bf\\u30a4\\u30d7B\",\"\\u30bf\\u30a4\\u30d7B\",\"\\u30bf\\u30a4\\u30d7B\",\"\\u30bf\\u30a4\\u30d7B\",\"\\u30bf\\u30a4\\u30d7B\",\"\\u30bf\\u30a4\\u30d7B\",\"\\u30bf\\u30a4\\u30d7B\",\"\\u30bf\\u30a4\\u30d7B\",\"\\u30bf\\u30a4\\u30d7B\",\"\\u30bf\\u30a4\\u30d7B\",\"\\u30bf\\u30a4\\u30d7B\",\"\\u30bf\\u30a4\\u30d7B\",\"\\u30bf\\u30a4\\u30d7B\",\"\\u30bf\\u30a4\\u30d7B\",\"\\u30bf\\u30a4\\u30d7B\",\"\\u30bf\\u30a4\\u30d7B\",\"\\u30bf\\u30a4\\u30d7B\",\"\\u30bf\\u30a4\\u30d7B\",\"\\u30bf\\u30a4\\u30d7B\",\"\\u30bf\\u30a4\\u30d7B\",\"\\u30bf\\u30a4\\u30d7B\",\"\\u30bf\\u30a4\\u30d7B\",\"\\u30bf\\u30a4\\u30d7C\",\"\\u30bf\\u30a4\\u30d7C\",\"\\u30bf\\u30a4\\u30d7C\",\"\\u30bf\\u30a4\\u30d7C\",\"\\u30bf\\u30a4\\u30d7C\",\"\\u30bf\\u30a4\\u30d7C\",\"\\u30bf\\u30a4\\u30d7C\",\"\\u30bf\\u30a4\\u30d7C\",\"\\u30bf\\u30a4\\u30d7C\",\"\\u30bf\\u30a4\\u30d7C\",\"\\u30bf\\u30a4\\u30d7C\",\"\\u30bf\\u30a4\\u30d7C\",\"\\u30bf\\u30a4\\u30d7C\",\"\\u30bf\\u30a4\\u30d7C\",\"\\u30bf\\u30a4\\u30d7C\",\"\\u30bf\\u30a4\\u30d7C\",\"\\u30bf\\u30a4\\u30d7C\",\"\\u30bf\\u30a4\\u30d7C\",\"\\u30bf\\u30a4\\u30d7C\",\"\\u30bf\\u30a4\\u30d7C\",\"\\u30bf\\u30a4\\u30d7C\",\"\\u30bf\\u30a4\\u30d7C\",\"\\u30bf\\u30a4\\u30d7C\",\"\\u30bf\\u30a4\\u30d7C\",\"\\u30bf\\u30a4\\u30d7C\",\"\\u30bf\\u30a4\\u30d7C\",\"\\u30bf\\u30a4\\u30d7C\",\"\\u30bf\\u30a4\\u30d7C\",\"\\u30bf\\u30a4\\u30d7C\",\"\\u30bf\\u30a4\\u30d7C\",\"\\u30bf\\u30a4\\u30d7C\",\"\\u30bf\\u30a4\\u30d7C\",\"\\u30bf\\u30a4\\u30d7C\",\"\\u30bf\\u30a4\\u30d7C\",\"\\u30bf\\u30a4\\u30d7C\",\"\\u30bf\\u30a4\\u30d7C\",\"\\u30bf\\u30a4\\u30d7C\",\"\\u30bf\\u30a4\\u30d7C\",\"\\u30bf\\u30a4\\u30d7C\",\"\\u30bf\\u30a4\\u30d7C\",\"\\u30bf\\u30a4\\u30d7C\",\"\\u30bf\\u30a4\\u30d7C\",\"\\u30bf\\u30a4\\u30d7C\",\"\\u30bf\\u30a4\\u30d7C\",\"\\u30bf\\u30a4\\u30d7C\",\"\\u30bf\\u30a4\\u30d7C\",\"\\u30bf\\u30a4\\u30d7C\",\"\\u30bf\\u30a4\\u30d7C\",\"\\u30bf\\u30a4\\u30d7C\",\"\\u30bf\\u30a4\\u30d7C\",\"\\u30bf\\u30a4\\u30d7C\",\"\\u30bf\\u30a4\\u30d7C\",\"\\u30bf\\u30a4\\u30d7C\",\"\\u30bf\\u30a4\\u30d7C\",\"\\u30bf\\u30a4\\u30d7C\",\"\\u30bf\\u30a4\\u30d7C\",\"\\u30bf\\u30a4\\u30d7C\",\"\\u30bf\\u30a4\\u30d7C\",\"\\u30bf\\u30a4\\u30d7C\",\"\\u30bf\\u30a4\\u30d7C\",\"\\u30bf\\u30a4\\u30d7C\",\"\\u30bf\\u30a4\\u30d7C\"],\"\\u5f15\\u5f35\\u5f37\\u5ea6\":[151,175,147,219,227,171,187,187,183,115,119,159,101,99,165,145,151,141,163,155,129,153,93,139,93,129,99,69,69,69,69,69,69,69,69,69,69,69,69,69,69,69,69,69,69,69,69,25,25,31,28,28,22,49,37,42,38,32,46,26,32,54,46,54,34,49,39,53,41,36,44,33,38,34,22,45,20,37,43,50,52,41,31,43,47,33,50,26,41,47,44,45,28,23,25,26,41,52,42,51],\"\\u5f15\\u5f35\\u5f37\\u5ea6_\\u6e2c\\u5b9a\\u8aa4\\u5dee\\u4e0a\\u9650\":{\"__ndarray__\":\"mpmZmZnRY0AAAAAAAPhmQDMzMzMzS2NAZmZmZma+bEAzMzMzM8ttQJqZmZmZcWZAMzMzMzOLaEAzMzMzM4toQM3MzMzMBGhAAAAAAAAwXkDNzMzMzDxfQGZmZmZm3mRAMzMzMzODWkDNzMzMzPxZQAAAAAAAqGVAAAAAAAAIY0CamZmZmdFjQJqZmZmZgWJAzczMzMxkZUAAAAAAAFhkQGZmZmZm7mBAzczMzMwUZECamZmZmWlYQGZmZmZmPmJAmpmZmZlpWEBmZmZmZu5gQM3MzMzM/FlAzczMzMwcUkDNzMzMzBxSQM3MzMzMHFJAzczMzMwcUkDNzMzMzBxSQM3MzMzMHFJAzczMzMwcUkDNzMzMzBxSQM3MzMzMHFJAzczMzMwcUkDNzMzMzBxSQM3MzMzMHFJAzczMzMwcUkDNzMzMzBxSQM3MzMzMHFJAzczMzMwcUkDNzMzMzBxSQM3MzMzMHFJAzczMzMwcUkDNzMzMzBxSQAAAAAAAQDpAAAAAAABAOkBmZmZmZkZAQGZmZmZmZj1AZmZmZmZmPUCamZmZmRk3QJqZmZmZuUlAzczMzMxsQ0DNzMzMzAxGQDMzMzMz80NAzczMzMzMQEBmZmZmZiZIQM3MzMzMTDtAzczMzMzMQECamZmZmVlMQGZmZmZmJkhAmpmZmZlZTECamZmZmdlBQJqZmZmZuUlAmpmZmZl5REAzMzMzM9NLQGZmZmZmhkVAZmZmZmbmQkCamZmZmRlHQDMzMzMzU0FAMzMzMzPzQ0CamZmZmdlBQJqZmZmZGTdAAAAAAACgR0AAAAAAAAA1QM3MzMzMbENAMzMzMzOTRkAAAAAAAEBKQM3MzMzMTEtAZmZmZmaGRUBmZmZmZkZAQDMzMzMzk0ZAzczMzMysSEAzMzMzM1NBQAAAAAAAQEpAzczMzMxMO0BmZmZmZoZFQM3MzMzMrEhAmpmZmZkZR0AAAAAAAKBHQGZmZmZmZj1AZmZmZmYmOEAAAAAAAEA6QM3MzMzMTDtAZmZmZmaGRUDNzMzMzExLQM3MzMzMDEZAZmZmZmbGSkA=\",\"dtype\":\"float64\",\"shape\":[100]},\"\\u5f15\\u5f35\\u5f37\\u5ea6_\\u6e2c\\u5b9a\\u8aa4\\u5dee\\u4e0b\\u9650\":{\"__ndarray__\":\"ZmZmZmbuYUAAAAAAAMhkQM3MzMzMdGFAmpmZmZkBakDNzMzMzPRqQGZmZmZmTmRAzczMzMw0ZkDNzMzMzDRmQDMzMzMzu2VAAAAAAABQW0AzMzMzM0NcQJqZmZmZ4WJAzczMzMz8V0AzMzMzM4NXQAAAAAAAmGNAAAAAAAA4YUBmZmZmZu5hQGZmZmZmvmBAMzMzMzNbY0AAAAAAAGhiQDMzMzMzo15AMzMzMzMrYkBmZmZmZhZWQJqZmZmZgWBAZmZmZmYWVkAzMzMzM6NeQDMzMzMzg1dAMzMzMzNjUEAzMzMzM2NQQDMzMzMzY1BAMzMzMzNjUEAzMzMzM2NQQDMzMzMzY1BAMzMzMzNjUEAzMzMzM2NQQDMzMzMzY1BAMzMzMzNjUEAzMzMzM2NQQDMzMzMzY1BAMzMzMzNjUEAzMzMzM2NQQDMzMzMzY1BAMzMzMzNjUEAzMzMzM2NQQDMzMzMzY1BAMzMzMzNjUEAzMzMzM2NQQAAAAAAAwDdAAAAAAADAN0AzMzMzM3M9QJqZmZmZmTpAmpmZmZmZOkBmZmZmZuY0QGZmZmZmRkdAMzMzMzOTQUAzMzMzM/NDQM3MzMzMDEJAZmZmZmZmPkCamZmZmdlFQDMzMzMzszhAZmZmZmZmPkBmZmZmZqZJQJqZmZmZ2UVAZmZmZmamSUBmZmZmZiZAQGZmZmZmRkdAZmZmZmaGQkDNzMzMzCxJQJqZmZmZeUNAmpmZmZkZQUBmZmZmZuZEQJqZmZmZWT9AzczMzMwMQkBmZmZmZiZAQGZmZmZm5jRAAAAAAABgRUAAAAAAAAAzQDMzMzMzk0FAzczMzMxsREAAAAAAAMBHQDMzMzMzs0hAmpmZmZl5Q0AzMzMzM3M9QM3MzMzMbERAMzMzMzNTRkCamZmZmVk/QAAAAAAAwEdAMzMzMzOzOECamZmZmXlDQDMzMzMzU0ZAZmZmZmbmREAAAAAAAGBFQJqZmZmZmTpAmpmZmZnZNUAAAAAAAMA3QDMzMzMzszhAmpmZmZl5Q0AzMzMzM7NIQDMzMzMz80NAmpmZmZk5SEA=\",\"dtype\":\"float64\",\"shape\":[100]},\"\\u6750\\u6599A_lot\":[1111,1111,1111,1111,1111,1111,1111,1111,1111,1111,1111,1111,1111,1111,1111,1111,1111,1111,1111,1111,1111,1111,1111,1111,1111,1111,1111,1111,2222,2222,2222,2222,2222,2222,2222,2222,2222,2222,2222,2222,2222,2222,2222,2222,2222,2222,2222,2222,2222,2222,2222,2222,2222,2222,2222,2222,2222,2222,2222,2222,2222,2222,2222,2222,2222,2222,2222,2222,2222,2222,2222,2222,2222,2222,2222,2222,2222,2222,2222,2222,2222,2222,3333,3333,3333,3333,3333,3333,3333,3333,3333,3333,3333,3333,3333,3333,3333,3333,3333,3333],\"\\u6750\\u6599A\\u6dfb\\u52a0\\u91cf\":[75,69,76,58,56,70,66,66,67,84,74,54,83,84,51,61,58,72,58,59,69,54,81,55,75,54,81,56,59,82,65,83,82,75,64,59,57,71,82,52,61,63,83,56,67,56,61,55,55,61,58,58,52,79,67,72,68,62,76,56,62,84,76,84,64,79,69,83,71,66,74,63,68,64,52,75,50,67,73,80,82,71,61,73,77,63,80,56,71,77,74,75,58,53,55,56,71,82,72,81],\"\\u6750\\u6599B\\u6dfb\\u52a0\\u91cf\":[5,5,5,5,5,5,5,5,5,5,3,3,3,3,3,3,3,3,3,3,3,3,3,3,3,3,3,1,1,1,1,1,1,1,1,1,1,1,1,1,1,1,1,1,1,1,1,0,0,0,0,0,0,0,0,0,0,0,0,0,0,0,0,0,0,0,0,0,0,0,0,0,0,0,0,0,0,0,0,0,0,0,0,0,0,0,0,0,0,0,0,0,0,0,0,0,0,0,0,0],\"\\u6750\\u6599C\\u6dfb\\u52a0\\u91cf\":[20,26,19,37,39,25,29,29,28,11,23,43,14,13,46,36,39,25,39,38,28,43,16,42,22,43,16,43,40,17,34,16,17,24,35,40,42,28,17,47,38,36,16,43,32,43,38,45,45,39,42,42,48,21,33,28,32,38,24,44,38,16,24,16,36,21,31,17,29,34,26,37,32,36,48,25,50,33,27,20,18,29,39,27,23,37,20,44,29,23,26,25,42,47,45,44,29,18,28,19],\"\\u6e29\\u5ea6\":[20,20,20,20,20,20,20,20,20,20,20,20,20,20,20,20,20,5,10,15,20,25,30,35,40,45,25,25,25,25,25,25,25,25,25,25,25,25,25,25,25,25,25,25,25,25,25,25,25,25,25,25,25,25,25,25,25,25,25,25,25,25,25,25,25,25,25,25,25,25,25,25,25,25,25,25,25,25,25,25,25,25,25,25,25,25,25,25,25,25,25,25,25,25,25,25,25,25,25,25]},\"selected\":{\"id\":\"1424\"},\"selection_policy\":{\"id\":\"1425\"}},\"id\":\"1348\",\"type\":\"ColumnDataSource\"},{\"attributes\":{\"bottom_units\":\"screen\",\"fill_alpha\":0.5,\"fill_color\":\"lightgrey\",\"left_units\":\"screen\",\"level\":\"overlay\",\"line_alpha\":1.0,\"line_color\":\"black\",\"line_dash\":[4,4],\"line_width\":2,\"render_mode\":\"css\",\"right_units\":\"screen\",\"top_units\":\"screen\"},\"id\":\"1374\",\"type\":\"BoxAnnotation\"},{\"attributes\":{\"data_source\":{\"id\":\"1348\"},\"glyph\":{\"id\":\"1383\"},\"hover_glyph\":null,\"muted_glyph\":null,\"nonselection_glyph\":{\"id\":\"1384\"},\"selection_glyph\":null,\"view\":{\"id\":\"1386\"}},\"id\":\"1385\",\"type\":\"GlyphRenderer\"},{\"attributes\":{\"axis\":{\"id\":\"1360\"},\"ticker\":null},\"id\":\"1363\",\"type\":\"Grid\"},{\"attributes\":{},\"id\":\"1365\",\"type\":\"BasicTicker\"},{\"attributes\":{},\"id\":\"1368\",\"type\":\"PanTool\"},{\"attributes\":{},\"id\":\"1361\",\"type\":\"BasicTicker\"},{\"attributes\":{},\"id\":\"1369\",\"type\":\"WheelZoomTool\"},{\"attributes\":{\"text\":\"\\u30c6\\u30b9\\u30c8\\u30c7\\u30fc\\u30bf\\u306e\\u4f5c\\u56f3\"},\"id\":\"1350\",\"type\":\"Title\"},{\"attributes\":{\"overlay\":{\"id\":\"1374\"}},\"id\":\"1370\",\"type\":\"BoxZoomTool\"},{\"attributes\":{},\"id\":\"1371\",\"type\":\"SaveTool\"},{\"attributes\":{\"formatter\":{\"id\":\"1389\"},\"ticker\":{\"id\":\"1365\"}},\"id\":\"1364\",\"type\":\"LinearAxis\"},{\"attributes\":{},\"id\":\"1373\",\"type\":\"HelpTool\"},{\"attributes\":{},\"id\":\"1358\",\"type\":\"LinearScale\"},{\"attributes\":{\"source\":{\"id\":\"1348\"}},\"id\":\"1386\",\"type\":\"CDSView\"},{\"attributes\":{},\"id\":\"1372\",\"type\":\"ResetTool\"},{\"attributes\":{},\"id\":\"1424\",\"type\":\"Selection\"},{\"attributes\":{\"fill_alpha\":{\"value\":0.1},\"fill_color\":{\"value\":\"blue\"},\"line_alpha\":{\"value\":0.1},\"line_color\":{\"value\":\"blue\"},\"size\":{\"units\":\"screen\",\"value\":10},\"x\":{\"field\":\"\\u6750\\u6599A\\u6dfb\\u52a0\\u91cf\"},\"y\":{\"field\":\"\\u5f15\\u5f35\\u5f37\\u5ea6\"}},\"id\":\"1384\",\"type\":\"Circle\"},{\"attributes\":{},\"id\":\"1356\",\"type\":\"LinearScale\"},{\"attributes\":{},\"id\":\"1389\",\"type\":\"BasicTickFormatter\"},{\"attributes\":{\"formatter\":{\"id\":\"1391\"},\"ticker\":{\"id\":\"1361\"}},\"id\":\"1360\",\"type\":\"LinearAxis\"},{\"attributes\":{\"items\":[{\"id\":\"1394\"}]},\"id\":\"1393\",\"type\":\"Legend\"}],\"root_ids\":[\"1349\"]},\"title\":\"Bokeh Application\",\"version\":\"2.0.2\"}};\n",
       "  var render_items = [{\"docid\":\"f670f9c0-7fde-46a7-9d00-e949846f45fb\",\"root_ids\":[\"1349\"],\"roots\":{\"1349\":\"9e2f6473-683e-4b17-a77d-61a8a30ace88\"}}];\n",
       "  root.Bokeh.embed.embed_items_notebook(docs_json, render_items);\n",
       "\n",
       "  }\n",
       "  if (root.Bokeh !== undefined) {\n",
       "    embed_document(root);\n",
       "  } else {\n",
       "    var attempts = 0;\n",
       "    var timer = setInterval(function(root) {\n",
       "      if (root.Bokeh !== undefined) {\n",
       "        clearInterval(timer);\n",
       "        embed_document(root);\n",
       "      } else {\n",
       "        attempts++;\n",
       "        if (attempts > 100) {\n",
       "          clearInterval(timer);\n",
       "          console.log(\"Bokeh: ERROR: Unable to run BokehJS code because BokehJS library is missing\");\n",
       "        }\n",
       "      }\n",
       "    }, 10, root)\n",
       "  }\n",
       "})(window);"
      ],
      "application/vnd.bokehjs_exec.v0+json": ""
     },
     "metadata": {
      "application/vnd.bokehjs_exec.v0+json": {
       "id": "1349"
      }
     },
     "output_type": "display_data"
    }
   ],
   "source": [
    "# データフレームをbokeh読み込み用に変換\n",
    "source = ColumnDataSource(csv_df)\n",
    "# グラフサイズおよびタイトルの設定\n",
    "p = figure(plot_height=500,plot_width=500,title='テストデータの作図')\n",
    "\n",
    "# 点内部の透過度、点枠線の透過度、点サイズ、点内部色、点枠線色の設定\n",
    "plot_setting = {'fill_alpha':0.5,'line_alpha':0.5,'size':10,'fill_color':'blue','line_color':'blue'}\n",
    "# 散布図\n",
    "p.circle(x='材料A添加量',y='引張強度',source=source,legend_label='ラベル名',**plot_setting)\n",
    "\n",
    "show(p)"
   ]
  },
  {
   "cell_type": "code",
   "execution_count": 7,
   "metadata": {},
   "outputs": [
    {
     "data": {
      "text/html": [
       "\n",
       "\n",
       "\n",
       "\n",
       "\n",
       "\n",
       "  <div class=\"bk-root\" id=\"dfddac6d-66ee-4394-9a92-6585eacd52e3\" data-root-id=\"1476\"></div>\n"
      ]
     },
     "metadata": {},
     "output_type": "display_data"
    },
    {
     "data": {
      "application/javascript": [
       "(function(root) {\n",
       "  function embed_document(root) {\n",
       "    \n",
       "  var docs_json = {\"bc09c179-84ab-449a-b975-0ef12936d809\":{\"roots\":{\"references\":[{\"attributes\":{\"below\":[{\"id\":\"1487\"}],\"center\":[{\"id\":\"1490\"},{\"id\":\"1494\"},{\"id\":\"1520\"}],\"left\":[{\"id\":\"1491\"}],\"plot_height\":500,\"plot_width\":500,\"renderers\":[{\"id\":\"1512\"}],\"title\":{\"id\":\"1477\"},\"toolbar\":{\"id\":\"1502\"},\"x_range\":{\"id\":\"1522\"},\"x_scale\":{\"id\":\"1483\"},\"y_range\":{\"id\":\"1523\"},\"y_scale\":{\"id\":\"1485\"}},\"id\":\"1476\",\"subtype\":\"Figure\",\"type\":\"Plot\"},{\"attributes\":{\"bottom_units\":\"screen\",\"fill_alpha\":0.5,\"fill_color\":\"lightgrey\",\"left_units\":\"screen\",\"level\":\"overlay\",\"line_alpha\":1.0,\"line_color\":\"black\",\"line_dash\":[4,4],\"line_width\":2,\"render_mode\":\"css\",\"right_units\":\"screen\",\"top_units\":\"screen\"},\"id\":\"1501\",\"type\":\"BoxAnnotation\"},{\"attributes\":{\"axis\":{\"id\":\"1491\"},\"dimension\":1,\"ticker\":null},\"id\":\"1494\",\"type\":\"Grid\"},{\"attributes\":{\"label\":{\"value\":\"\\u30e9\\u30d9\\u30eb\\u540d\"},\"renderers\":[{\"id\":\"1512\"}]},\"id\":\"1521\",\"type\":\"LegendItem\"},{\"attributes\":{\"data\":{\"index\":[0,1,2,3,4,5,6,7,8,9,10,11,12,13,14,15,16,17,18,19,20,21,22,23,24,25,26,27,28,29,30,31,32,33,34,35,36,37,38,39,40,41,42,43,44,45,46,47,48,49,50,51,52,53,54,55,56,57,58,59,60,61,62,63,64,65,66,67,68,69,70,71,72,73,74,75,76,77,78,79,80,81,82,83,84,85,86,87,88,89,90,91,92,93,94,95,96,97,98,99],\"sample_name\":[\"\\u30b5\\u30f3\\u30d7\\u30eb1\",\"\\u30b5\\u30f3\\u30d7\\u30eb2\",\"\\u30b5\\u30f3\\u30d7\\u30eb3\",\"\\u30b5\\u30f3\\u30d7\\u30eb4\",\"\\u30b5\\u30f3\\u30d7\\u30eb5\",\"\\u30b5\\u30f3\\u30d7\\u30eb6\",\"\\u30b5\\u30f3\\u30d7\\u30eb7\",\"\\u30b5\\u30f3\\u30d7\\u30eb8\",\"\\u30b5\\u30f3\\u30d7\\u30eb9\",\"\\u30b5\\u30f3\\u30d7\\u30eb10\",\"\\u30b5\\u30f3\\u30d7\\u30eb11\",\"\\u30b5\\u30f3\\u30d7\\u30eb12\",\"\\u30b5\\u30f3\\u30d7\\u30eb13\",\"\\u30b5\\u30f3\\u30d7\\u30eb14\",\"\\u30b5\\u30f3\\u30d7\\u30eb15\",\"\\u30b5\\u30f3\\u30d7\\u30eb16\",\"\\u30b5\\u30f3\\u30d7\\u30eb17\",\"\\u30b5\\u30f3\\u30d7\\u30eb18\",\"\\u30b5\\u30f3\\u30d7\\u30eb19\",\"\\u30b5\\u30f3\\u30d7\\u30eb20\",\"\\u30b5\\u30f3\\u30d7\\u30eb21\",\"\\u30b5\\u30f3\\u30d7\\u30eb22\",\"\\u30b5\\u30f3\\u30d7\\u30eb23\",\"\\u30b5\\u30f3\\u30d7\\u30eb24\",\"\\u30b5\\u30f3\\u30d7\\u30eb25\",\"\\u30b5\\u30f3\\u30d7\\u30eb26\",\"\\u30b5\\u30f3\\u30d7\\u30eb27\",\"\\u30b5\\u30f3\\u30d7\\u30eb28\",\"\\u30b5\\u30f3\\u30d7\\u30eb29\",\"\\u30b5\\u30f3\\u30d7\\u30eb30\",\"\\u30b5\\u30f3\\u30d7\\u30eb31\",\"\\u30b5\\u30f3\\u30d7\\u30eb32\",\"\\u30b5\\u30f3\\u30d7\\u30eb33\",\"\\u30b5\\u30f3\\u30d7\\u30eb34\",\"\\u30b5\\u30f3\\u30d7\\u30eb35\",\"\\u30b5\\u30f3\\u30d7\\u30eb36\",\"\\u30b5\\u30f3\\u30d7\\u30eb37\",\"\\u30b5\\u30f3\\u30d7\\u30eb38\",\"\\u30b5\\u30f3\\u30d7\\u30eb39\",\"\\u30b5\\u30f3\\u30d7\\u30eb40\",\"\\u30b5\\u30f3\\u30d7\\u30eb41\",\"\\u30b5\\u30f3\\u30d7\\u30eb42\",\"\\u30b5\\u30f3\\u30d7\\u30eb43\",\"\\u30b5\\u30f3\\u30d7\\u30eb44\",\"\\u30b5\\u30f3\\u30d7\\u30eb45\",\"\\u30b5\\u30f3\\u30d7\\u30eb46\",\"\\u30b5\\u30f3\\u30d7\\u30eb47\",\"\\u30b5\\u30f3\\u30d7\\u30eb48\",\"\\u30b5\\u30f3\\u30d7\\u30eb49\",\"\\u30b5\\u30f3\\u30d7\\u30eb50\",\"\\u30b5\\u30f3\\u30d7\\u30eb51\",\"\\u30b5\\u30f3\\u30d7\\u30eb52\",\"\\u30b5\\u30f3\\u30d7\\u30eb53\",\"\\u30b5\\u30f3\\u30d7\\u30eb54\",\"\\u30b5\\u30f3\\u30d7\\u30eb55\",\"\\u30b5\\u30f3\\u30d7\\u30eb56\",\"\\u30b5\\u30f3\\u30d7\\u30eb57\",\"\\u30b5\\u30f3\\u30d7\\u30eb58\",\"\\u30b5\\u30f3\\u30d7\\u30eb59\",\"\\u30b5\\u30f3\\u30d7\\u30eb60\",\"\\u30b5\\u30f3\\u30d7\\u30eb61\",\"\\u30b5\\u30f3\\u30d7\\u30eb62\",\"\\u30b5\\u30f3\\u30d7\\u30eb63\",\"\\u30b5\\u30f3\\u30d7\\u30eb64\",\"\\u30b5\\u30f3\\u30d7\\u30eb65\",\"\\u30b5\\u30f3\\u30d7\\u30eb66\",\"\\u30b5\\u30f3\\u30d7\\u30eb67\",\"\\u30b5\\u30f3\\u30d7\\u30eb68\",\"\\u30b5\\u30f3\\u30d7\\u30eb69\",\"\\u30b5\\u30f3\\u30d7\\u30eb70\",\"\\u30b5\\u30f3\\u30d7\\u30eb71\",\"\\u30b5\\u30f3\\u30d7\\u30eb72\",\"\\u30b5\\u30f3\\u30d7\\u30eb73\",\"\\u30b5\\u30f3\\u30d7\\u30eb74\",\"\\u30b5\\u30f3\\u30d7\\u30eb75\",\"\\u30b5\\u30f3\\u30d7\\u30eb76\",\"\\u30b5\\u30f3\\u30d7\\u30eb77\",\"\\u30b5\\u30f3\\u30d7\\u30eb78\",\"\\u30b5\\u30f3\\u30d7\\u30eb79\",\"\\u30b5\\u30f3\\u30d7\\u30eb80\",\"\\u30b5\\u30f3\\u30d7\\u30eb81\",\"\\u30b5\\u30f3\\u30d7\\u30eb82\",\"\\u30b5\\u30f3\\u30d7\\u30eb83\",\"\\u30b5\\u30f3\\u30d7\\u30eb84\",\"\\u30b5\\u30f3\\u30d7\\u30eb85\",\"\\u30b5\\u30f3\\u30d7\\u30eb86\",\"\\u30b5\\u30f3\\u30d7\\u30eb87\",\"\\u30b5\\u30f3\\u30d7\\u30eb88\",\"\\u30b5\\u30f3\\u30d7\\u30eb89\",\"\\u30b5\\u30f3\\u30d7\\u30eb90\",\"\\u30b5\\u30f3\\u30d7\\u30eb91\",\"\\u30b5\\u30f3\\u30d7\\u30eb92\",\"\\u30b5\\u30f3\\u30d7\\u30eb93\",\"\\u30b5\\u30f3\\u30d7\\u30eb94\",\"\\u30b5\\u30f3\\u30d7\\u30eb95\",\"\\u30b5\\u30f3\\u30d7\\u30eb96\",\"\\u30b5\\u30f3\\u30d7\\u30eb97\",\"\\u30b5\\u30f3\\u30d7\\u30eb98\",\"\\u30b5\\u30f3\\u30d7\\u30eb99\",\"\\u30b5\\u30f3\\u30d7\\u30eb100\"],\"\\u30ab\\u30c6\\u30b4\\u30ea\":[\"\\u30bf\\u30a4\\u30d7A\",\"\\u30bf\\u30a4\\u30d7A\",\"\\u30bf\\u30a4\\u30d7A\",\"\\u30bf\\u30a4\\u30d7A\",\"\\u30bf\\u30a4\\u30d7A\",\"\\u30bf\\u30a4\\u30d7A\",\"\\u30bf\\u30a4\\u30d7A\",\"\\u30bf\\u30a4\\u30d7A\",\"\\u30bf\\u30a4\\u30d7A\",\"\\u30bf\\u30a4\\u30d7A\",\"\\u30bf\\u30a4\\u30d7A\",\"\\u30bf\\u30a4\\u30d7A\",\"\\u30bf\\u30a4\\u30d7A\",\"\\u30bf\\u30a4\\u30d7A\",\"\\u30bf\\u30a4\\u30d7A\",\"\\u30bf\\u30a4\\u30d7B\",\"\\u30bf\\u30a4\\u30d7B\",\"\\u30bf\\u30a4\\u30d7B\",\"\\u30bf\\u30a4\\u30d7B\",\"\\u30bf\\u30a4\\u30d7B\",\"\\u30bf\\u30a4\\u30d7B\",\"\\u30bf\\u30a4\\u30d7B\",\"\\u30bf\\u30a4\\u30d7B\",\"\\u30bf\\u30a4\\u30d7B\",\"\\u30bf\\u30a4\\u30d7B\",\"\\u30bf\\u30a4\\u30d7B\",\"\\u30bf\\u30a4\\u30d7B\",\"\\u30bf\\u30a4\\u30d7B\",\"\\u30bf\\u30a4\\u30d7B\",\"\\u30bf\\u30a4\\u30d7B\",\"\\u30bf\\u30a4\\u30d7B\",\"\\u30bf\\u30a4\\u30d7B\",\"\\u30bf\\u30a4\\u30d7B\",\"\\u30bf\\u30a4\\u30d7B\",\"\\u30bf\\u30a4\\u30d7B\",\"\\u30bf\\u30a4\\u30d7B\",\"\\u30bf\\u30a4\\u30d7B\",\"\\u30bf\\u30a4\\u30d7B\",\"\\u30bf\\u30a4\\u30d7C\",\"\\u30bf\\u30a4\\u30d7C\",\"\\u30bf\\u30a4\\u30d7C\",\"\\u30bf\\u30a4\\u30d7C\",\"\\u30bf\\u30a4\\u30d7C\",\"\\u30bf\\u30a4\\u30d7C\",\"\\u30bf\\u30a4\\u30d7C\",\"\\u30bf\\u30a4\\u30d7C\",\"\\u30bf\\u30a4\\u30d7C\",\"\\u30bf\\u30a4\\u30d7C\",\"\\u30bf\\u30a4\\u30d7C\",\"\\u30bf\\u30a4\\u30d7C\",\"\\u30bf\\u30a4\\u30d7C\",\"\\u30bf\\u30a4\\u30d7C\",\"\\u30bf\\u30a4\\u30d7C\",\"\\u30bf\\u30a4\\u30d7C\",\"\\u30bf\\u30a4\\u30d7C\",\"\\u30bf\\u30a4\\u30d7C\",\"\\u30bf\\u30a4\\u30d7C\",\"\\u30bf\\u30a4\\u30d7C\",\"\\u30bf\\u30a4\\u30d7C\",\"\\u30bf\\u30a4\\u30d7C\",\"\\u30bf\\u30a4\\u30d7C\",\"\\u30bf\\u30a4\\u30d7C\",\"\\u30bf\\u30a4\\u30d7C\",\"\\u30bf\\u30a4\\u30d7C\",\"\\u30bf\\u30a4\\u30d7C\",\"\\u30bf\\u30a4\\u30d7C\",\"\\u30bf\\u30a4\\u30d7C\",\"\\u30bf\\u30a4\\u30d7C\",\"\\u30bf\\u30a4\\u30d7C\",\"\\u30bf\\u30a4\\u30d7C\",\"\\u30bf\\u30a4\\u30d7C\",\"\\u30bf\\u30a4\\u30d7C\",\"\\u30bf\\u30a4\\u30d7C\",\"\\u30bf\\u30a4\\u30d7C\",\"\\u30bf\\u30a4\\u30d7C\",\"\\u30bf\\u30a4\\u30d7C\",\"\\u30bf\\u30a4\\u30d7C\",\"\\u30bf\\u30a4\\u30d7C\",\"\\u30bf\\u30a4\\u30d7C\",\"\\u30bf\\u30a4\\u30d7C\",\"\\u30bf\\u30a4\\u30d7C\",\"\\u30bf\\u30a4\\u30d7C\",\"\\u30bf\\u30a4\\u30d7C\",\"\\u30bf\\u30a4\\u30d7C\",\"\\u30bf\\u30a4\\u30d7C\",\"\\u30bf\\u30a4\\u30d7C\",\"\\u30bf\\u30a4\\u30d7C\",\"\\u30bf\\u30a4\\u30d7C\",\"\\u30bf\\u30a4\\u30d7C\",\"\\u30bf\\u30a4\\u30d7C\",\"\\u30bf\\u30a4\\u30d7C\",\"\\u30bf\\u30a4\\u30d7C\",\"\\u30bf\\u30a4\\u30d7C\",\"\\u30bf\\u30a4\\u30d7C\",\"\\u30bf\\u30a4\\u30d7C\",\"\\u30bf\\u30a4\\u30d7C\",\"\\u30bf\\u30a4\\u30d7C\",\"\\u30bf\\u30a4\\u30d7C\",\"\\u30bf\\u30a4\\u30d7C\",\"\\u30bf\\u30a4\\u30d7C\"],\"\\u5f15\\u5f35\\u5f37\\u5ea6\":[151,175,147,219,227,171,187,187,183,115,119,159,101,99,165,145,151,141,163,155,129,153,93,139,93,129,99,69,69,69,69,69,69,69,69,69,69,69,69,69,69,69,69,69,69,69,69,25,25,31,28,28,22,49,37,42,38,32,46,26,32,54,46,54,34,49,39,53,41,36,44,33,38,34,22,45,20,37,43,50,52,41,31,43,47,33,50,26,41,47,44,45,28,23,25,26,41,52,42,51],\"\\u5f15\\u5f35\\u5f37\\u5ea6_\\u6e2c\\u5b9a\\u8aa4\\u5dee\\u4e0a\\u9650\":{\"__ndarray__\":\"mpmZmZnRY0AAAAAAAPhmQDMzMzMzS2NAZmZmZma+bEAzMzMzM8ttQJqZmZmZcWZAMzMzMzOLaEAzMzMzM4toQM3MzMzMBGhAAAAAAAAwXkDNzMzMzDxfQGZmZmZm3mRAMzMzMzODWkDNzMzMzPxZQAAAAAAAqGVAAAAAAAAIY0CamZmZmdFjQJqZmZmZgWJAzczMzMxkZUAAAAAAAFhkQGZmZmZm7mBAzczMzMwUZECamZmZmWlYQGZmZmZmPmJAmpmZmZlpWEBmZmZmZu5gQM3MzMzM/FlAzczMzMwcUkDNzMzMzBxSQM3MzMzMHFJAzczMzMwcUkDNzMzMzBxSQM3MzMzMHFJAzczMzMwcUkDNzMzMzBxSQM3MzMzMHFJAzczMzMwcUkDNzMzMzBxSQM3MzMzMHFJAzczMzMwcUkDNzMzMzBxSQM3MzMzMHFJAzczMzMwcUkDNzMzMzBxSQM3MzMzMHFJAzczMzMwcUkDNzMzMzBxSQAAAAAAAQDpAAAAAAABAOkBmZmZmZkZAQGZmZmZmZj1AZmZmZmZmPUCamZmZmRk3QJqZmZmZuUlAzczMzMxsQ0DNzMzMzAxGQDMzMzMz80NAzczMzMzMQEBmZmZmZiZIQM3MzMzMTDtAzczMzMzMQECamZmZmVlMQGZmZmZmJkhAmpmZmZlZTECamZmZmdlBQJqZmZmZuUlAmpmZmZl5REAzMzMzM9NLQGZmZmZmhkVAZmZmZmbmQkCamZmZmRlHQDMzMzMzU0FAMzMzMzPzQ0CamZmZmdlBQJqZmZmZGTdAAAAAAACgR0AAAAAAAAA1QM3MzMzMbENAMzMzMzOTRkAAAAAAAEBKQM3MzMzMTEtAZmZmZmaGRUBmZmZmZkZAQDMzMzMzk0ZAzczMzMysSEAzMzMzM1NBQAAAAAAAQEpAzczMzMxMO0BmZmZmZoZFQM3MzMzMrEhAmpmZmZkZR0AAAAAAAKBHQGZmZmZmZj1AZmZmZmYmOEAAAAAAAEA6QM3MzMzMTDtAZmZmZmaGRUDNzMzMzExLQM3MzMzMDEZAZmZmZmbGSkA=\",\"dtype\":\"float64\",\"shape\":[100]},\"\\u5f15\\u5f35\\u5f37\\u5ea6_\\u6e2c\\u5b9a\\u8aa4\\u5dee\\u4e0b\\u9650\":{\"__ndarray__\":\"ZmZmZmbuYUAAAAAAAMhkQM3MzMzMdGFAmpmZmZkBakDNzMzMzPRqQGZmZmZmTmRAzczMzMw0ZkDNzMzMzDRmQDMzMzMzu2VAAAAAAABQW0AzMzMzM0NcQJqZmZmZ4WJAzczMzMz8V0AzMzMzM4NXQAAAAAAAmGNAAAAAAAA4YUBmZmZmZu5hQGZmZmZmvmBAMzMzMzNbY0AAAAAAAGhiQDMzMzMzo15AMzMzMzMrYkBmZmZmZhZWQJqZmZmZgWBAZmZmZmYWVkAzMzMzM6NeQDMzMzMzg1dAMzMzMzNjUEAzMzMzM2NQQDMzMzMzY1BAMzMzMzNjUEAzMzMzM2NQQDMzMzMzY1BAMzMzMzNjUEAzMzMzM2NQQDMzMzMzY1BAMzMzMzNjUEAzMzMzM2NQQDMzMzMzY1BAMzMzMzNjUEAzMzMzM2NQQDMzMzMzY1BAMzMzMzNjUEAzMzMzM2NQQDMzMzMzY1BAMzMzMzNjUEAzMzMzM2NQQAAAAAAAwDdAAAAAAADAN0AzMzMzM3M9QJqZmZmZmTpAmpmZmZmZOkBmZmZmZuY0QGZmZmZmRkdAMzMzMzOTQUAzMzMzM/NDQM3MzMzMDEJAZmZmZmZmPkCamZmZmdlFQDMzMzMzszhAZmZmZmZmPkBmZmZmZqZJQJqZmZmZ2UVAZmZmZmamSUBmZmZmZiZAQGZmZmZmRkdAZmZmZmaGQkDNzMzMzCxJQJqZmZmZeUNAmpmZmZkZQUBmZmZmZuZEQJqZmZmZWT9AzczMzMwMQkBmZmZmZiZAQGZmZmZm5jRAAAAAAABgRUAAAAAAAAAzQDMzMzMzk0FAzczMzMxsREAAAAAAAMBHQDMzMzMzs0hAmpmZmZl5Q0AzMzMzM3M9QM3MzMzMbERAMzMzMzNTRkCamZmZmVk/QAAAAAAAwEdAMzMzMzOzOECamZmZmXlDQDMzMzMzU0ZAZmZmZmbmREAAAAAAAGBFQJqZmZmZmTpAmpmZmZnZNUAAAAAAAMA3QDMzMzMzszhAmpmZmZl5Q0AzMzMzM7NIQDMzMzMz80NAmpmZmZk5SEA=\",\"dtype\":\"float64\",\"shape\":[100]},\"\\u6750\\u6599A_lot\":[1111,1111,1111,1111,1111,1111,1111,1111,1111,1111,1111,1111,1111,1111,1111,1111,1111,1111,1111,1111,1111,1111,1111,1111,1111,1111,1111,1111,2222,2222,2222,2222,2222,2222,2222,2222,2222,2222,2222,2222,2222,2222,2222,2222,2222,2222,2222,2222,2222,2222,2222,2222,2222,2222,2222,2222,2222,2222,2222,2222,2222,2222,2222,2222,2222,2222,2222,2222,2222,2222,2222,2222,2222,2222,2222,2222,2222,2222,2222,2222,2222,2222,3333,3333,3333,3333,3333,3333,3333,3333,3333,3333,3333,3333,3333,3333,3333,3333,3333,3333],\"\\u6750\\u6599A\\u6dfb\\u52a0\\u91cf\":[75,69,76,58,56,70,66,66,67,84,74,54,83,84,51,61,58,72,58,59,69,54,81,55,75,54,81,56,59,82,65,83,82,75,64,59,57,71,82,52,61,63,83,56,67,56,61,55,55,61,58,58,52,79,67,72,68,62,76,56,62,84,76,84,64,79,69,83,71,66,74,63,68,64,52,75,50,67,73,80,82,71,61,73,77,63,80,56,71,77,74,75,58,53,55,56,71,82,72,81],\"\\u6750\\u6599B\\u6dfb\\u52a0\\u91cf\":[5,5,5,5,5,5,5,5,5,5,3,3,3,3,3,3,3,3,3,3,3,3,3,3,3,3,3,1,1,1,1,1,1,1,1,1,1,1,1,1,1,1,1,1,1,1,1,0,0,0,0,0,0,0,0,0,0,0,0,0,0,0,0,0,0,0,0,0,0,0,0,0,0,0,0,0,0,0,0,0,0,0,0,0,0,0,0,0,0,0,0,0,0,0,0,0,0,0,0,0],\"\\u6750\\u6599C\\u6dfb\\u52a0\\u91cf\":[20,26,19,37,39,25,29,29,28,11,23,43,14,13,46,36,39,25,39,38,28,43,16,42,22,43,16,43,40,17,34,16,17,24,35,40,42,28,17,47,38,36,16,43,32,43,38,45,45,39,42,42,48,21,33,28,32,38,24,44,38,16,24,16,36,21,31,17,29,34,26,37,32,36,48,25,50,33,27,20,18,29,39,27,23,37,20,44,29,23,26,25,42,47,45,44,29,18,28,19],\"\\u6e29\\u5ea6\":[20,20,20,20,20,20,20,20,20,20,20,20,20,20,20,20,20,5,10,15,20,25,30,35,40,45,25,25,25,25,25,25,25,25,25,25,25,25,25,25,25,25,25,25,25,25,25,25,25,25,25,25,25,25,25,25,25,25,25,25,25,25,25,25,25,25,25,25,25,25,25,25,25,25,25,25,25,25,25,25,25,25,25,25,25,25,25,25,25,25,25,25,25,25,25,25,25,25,25,25]},\"selected\":{\"id\":\"1561\"},\"selection_policy\":{\"id\":\"1562\"}},\"id\":\"1475\",\"type\":\"ColumnDataSource\"},{\"attributes\":{\"active_drag\":\"auto\",\"active_inspect\":\"auto\",\"active_multi\":null,\"active_scroll\":\"auto\",\"active_tap\":\"auto\",\"tools\":[{\"id\":\"1495\"},{\"id\":\"1496\"},{\"id\":\"1497\"},{\"id\":\"1498\"},{\"id\":\"1499\"},{\"id\":\"1500\"}]},\"id\":\"1502\",\"type\":\"Toolbar\"},{\"attributes\":{\"source\":{\"id\":\"1475\"}},\"id\":\"1513\",\"type\":\"CDSView\"},{\"attributes\":{},\"id\":\"1562\",\"type\":\"UnionRenderers\"},{\"attributes\":{\"end\":300},\"id\":\"1523\",\"type\":\"Range1d\"},{\"attributes\":{\"end\":100},\"id\":\"1522\",\"type\":\"Range1d\"},{\"attributes\":{},\"id\":\"1492\",\"type\":\"BasicTicker\"},{\"attributes\":{\"data_source\":{\"id\":\"1475\"},\"glyph\":{\"id\":\"1510\"},\"hover_glyph\":null,\"muted_glyph\":null,\"nonselection_glyph\":{\"id\":\"1511\"},\"selection_glyph\":null,\"view\":{\"id\":\"1513\"}},\"id\":\"1512\",\"type\":\"GlyphRenderer\"},{\"attributes\":{\"fill_alpha\":{\"value\":0.1},\"fill_color\":{\"value\":\"blue\"},\"line_alpha\":{\"value\":0.1},\"line_color\":{\"value\":\"blue\"},\"size\":{\"units\":\"screen\",\"value\":10},\"x\":{\"field\":\"\\u6750\\u6599A\\u6dfb\\u52a0\\u91cf\"},\"y\":{\"field\":\"\\u5f15\\u5f35\\u5f37\\u5ea6\"}},\"id\":\"1511\",\"type\":\"Circle\"},{\"attributes\":{\"items\":[{\"id\":\"1521\"}],\"location\":\"top_left\"},\"id\":\"1520\",\"type\":\"Legend\"},{\"attributes\":{},\"id\":\"1495\",\"type\":\"PanTool\"},{\"attributes\":{\"axis\":{\"id\":\"1487\"},\"ticker\":null},\"id\":\"1490\",\"type\":\"Grid\"},{\"attributes\":{\"text\":\"\\u30c6\\u30b9\\u30c8\\u30c7\\u30fc\\u30bf\\u306e\\u4f5c\\u56f3\"},\"id\":\"1477\",\"type\":\"Title\"},{\"attributes\":{},\"id\":\"1496\",\"type\":\"WheelZoomTool\"},{\"attributes\":{\"overlay\":{\"id\":\"1501\"}},\"id\":\"1497\",\"type\":\"BoxZoomTool\"},{\"attributes\":{},\"id\":\"1488\",\"type\":\"BasicTicker\"},{\"attributes\":{},\"id\":\"1498\",\"type\":\"SaveTool\"},{\"attributes\":{},\"id\":\"1500\",\"type\":\"HelpTool\"},{\"attributes\":{\"axis_label\":\"y\\u8ef8\\u540d\",\"formatter\":{\"id\":\"1516\"},\"ticker\":{\"id\":\"1492\"}},\"id\":\"1491\",\"type\":\"LinearAxis\"},{\"attributes\":{},\"id\":\"1499\",\"type\":\"ResetTool\"},{\"attributes\":{},\"id\":\"1485\",\"type\":\"LinearScale\"},{\"attributes\":{\"fill_alpha\":{\"value\":0.5},\"fill_color\":{\"value\":\"blue\"},\"line_alpha\":{\"value\":0.5},\"line_color\":{\"value\":\"blue\"},\"size\":{\"units\":\"screen\",\"value\":10},\"x\":{\"field\":\"\\u6750\\u6599A\\u6dfb\\u52a0\\u91cf\"},\"y\":{\"field\":\"\\u5f15\\u5f35\\u5f37\\u5ea6\"}},\"id\":\"1510\",\"type\":\"Circle\"},{\"attributes\":{},\"id\":\"1483\",\"type\":\"LinearScale\"},{\"attributes\":{\"axis_label\":\"x\\u8ef8\\u540d\",\"formatter\":{\"id\":\"1518\"},\"ticker\":{\"id\":\"1488\"}},\"id\":\"1487\",\"type\":\"LinearAxis\"},{\"attributes\":{},\"id\":\"1516\",\"type\":\"BasicTickFormatter\"},{\"attributes\":{},\"id\":\"1561\",\"type\":\"Selection\"},{\"attributes\":{},\"id\":\"1518\",\"type\":\"BasicTickFormatter\"}],\"root_ids\":[\"1476\"]},\"title\":\"Bokeh Application\",\"version\":\"2.0.2\"}};\n",
       "  var render_items = [{\"docid\":\"bc09c179-84ab-449a-b975-0ef12936d809\",\"root_ids\":[\"1476\"],\"roots\":{\"1476\":\"dfddac6d-66ee-4394-9a92-6585eacd52e3\"}}];\n",
       "  root.Bokeh.embed.embed_items_notebook(docs_json, render_items);\n",
       "\n",
       "  }\n",
       "  if (root.Bokeh !== undefined) {\n",
       "    embed_document(root);\n",
       "  } else {\n",
       "    var attempts = 0;\n",
       "    var timer = setInterval(function(root) {\n",
       "      if (root.Bokeh !== undefined) {\n",
       "        clearInterval(timer);\n",
       "        embed_document(root);\n",
       "      } else {\n",
       "        attempts++;\n",
       "        if (attempts > 100) {\n",
       "          clearInterval(timer);\n",
       "          console.log(\"Bokeh: ERROR: Unable to run BokehJS code because BokehJS library is missing\");\n",
       "        }\n",
       "      }\n",
       "    }, 10, root)\n",
       "  }\n",
       "})(window);"
      ],
      "application/vnd.bokehjs_exec.v0+json": ""
     },
     "metadata": {
      "application/vnd.bokehjs_exec.v0+json": {
       "id": "1476"
      }
     },
     "output_type": "display_data"
    }
   ],
   "source": [
    "# データフレームをbokeh読み込み用に変換\n",
    "source = ColumnDataSource(csv_df)\n",
    "# グラフサイズおよびタイトルの設定\n",
    "p = figure(plot_height=500,plot_width=500,title='テストデータの作図')\n",
    "# 散布図\n",
    "p.circle(x='材料A添加量',y='引張強度',source=source,legend_label='ラベル名',**plot_setting)\n",
    "\n",
    "# 凡例位置、x軸名、y軸名、x軸範囲、y軸範囲の設定\n",
    "p.legend.location = 'top_left'\n",
    "p.xaxis.axis_label = 'x軸名'\n",
    "p.yaxis.axis_label = 'y軸名'\n",
    "p.x_range=Range1d(start=0,end=100)\n",
    "p.y_range=Range1d(start=0,end=300)\n",
    "\n",
    "show(p)"
   ]
  },
  {
   "cell_type": "code",
   "execution_count": 11,
   "metadata": {},
   "outputs": [
    {
     "data": {
      "text/html": [
       "\n",
       "\n",
       "\n",
       "\n",
       "\n",
       "\n",
       "  <div class=\"bk-root\" id=\"321bdd7a-44e2-4841-8045-5c616fd1a51f\" data-root-id=\"1909\"></div>\n"
      ]
     },
     "metadata": {},
     "output_type": "display_data"
    },
    {
     "data": {
      "application/javascript": [
       "(function(root) {\n",
       "  function embed_document(root) {\n",
       "    \n",
       "  var docs_json = {\"92a10a59-d841-479f-9d73-6bb925c5d5dd\":{\"roots\":{\"references\":[{\"attributes\":{\"below\":[{\"id\":\"1920\"}],\"center\":[{\"id\":\"1923\"},{\"id\":\"1927\"},{\"id\":\"1955\"}],\"left\":[{\"id\":\"1924\"}],\"plot_height\":500,\"plot_width\":500,\"renderers\":[{\"id\":\"1947\"}],\"title\":{\"id\":\"1910\"},\"toolbar\":{\"id\":\"1935\"},\"x_range\":{\"id\":\"1912\"},\"x_scale\":{\"id\":\"1916\"},\"y_range\":{\"id\":\"1914\"},\"y_scale\":{\"id\":\"1918\"}},\"id\":\"1909\",\"subtype\":\"Figure\",\"type\":\"Plot\"},{\"attributes\":{\"data\":{\"index\":[0,1,2,3,4,5,6,7,8,9,10,11,12,13,14,15,16,17,18,19,20,21,22,23,24,25,26,27,28,29,30,31,32,33,34,35,36,37,38,39,40,41,42,43,44,45,46,47,48,49,50,51,52,53,54,55,56,57,58,59,60,61,62,63,64,65,66,67,68,69,70,71,72,73,74,75,76,77,78,79,80,81,82,83,84,85,86,87,88,89,90,91,92,93,94,95,96,97,98,99],\"sample_name\":[\"\\u30b5\\u30f3\\u30d7\\u30eb1\",\"\\u30b5\\u30f3\\u30d7\\u30eb2\",\"\\u30b5\\u30f3\\u30d7\\u30eb3\",\"\\u30b5\\u30f3\\u30d7\\u30eb4\",\"\\u30b5\\u30f3\\u30d7\\u30eb5\",\"\\u30b5\\u30f3\\u30d7\\u30eb6\",\"\\u30b5\\u30f3\\u30d7\\u30eb7\",\"\\u30b5\\u30f3\\u30d7\\u30eb8\",\"\\u30b5\\u30f3\\u30d7\\u30eb9\",\"\\u30b5\\u30f3\\u30d7\\u30eb10\",\"\\u30b5\\u30f3\\u30d7\\u30eb11\",\"\\u30b5\\u30f3\\u30d7\\u30eb12\",\"\\u30b5\\u30f3\\u30d7\\u30eb13\",\"\\u30b5\\u30f3\\u30d7\\u30eb14\",\"\\u30b5\\u30f3\\u30d7\\u30eb15\",\"\\u30b5\\u30f3\\u30d7\\u30eb16\",\"\\u30b5\\u30f3\\u30d7\\u30eb17\",\"\\u30b5\\u30f3\\u30d7\\u30eb18\",\"\\u30b5\\u30f3\\u30d7\\u30eb19\",\"\\u30b5\\u30f3\\u30d7\\u30eb20\",\"\\u30b5\\u30f3\\u30d7\\u30eb21\",\"\\u30b5\\u30f3\\u30d7\\u30eb22\",\"\\u30b5\\u30f3\\u30d7\\u30eb23\",\"\\u30b5\\u30f3\\u30d7\\u30eb24\",\"\\u30b5\\u30f3\\u30d7\\u30eb25\",\"\\u30b5\\u30f3\\u30d7\\u30eb26\",\"\\u30b5\\u30f3\\u30d7\\u30eb27\",\"\\u30b5\\u30f3\\u30d7\\u30eb28\",\"\\u30b5\\u30f3\\u30d7\\u30eb29\",\"\\u30b5\\u30f3\\u30d7\\u30eb30\",\"\\u30b5\\u30f3\\u30d7\\u30eb31\",\"\\u30b5\\u30f3\\u30d7\\u30eb32\",\"\\u30b5\\u30f3\\u30d7\\u30eb33\",\"\\u30b5\\u30f3\\u30d7\\u30eb34\",\"\\u30b5\\u30f3\\u30d7\\u30eb35\",\"\\u30b5\\u30f3\\u30d7\\u30eb36\",\"\\u30b5\\u30f3\\u30d7\\u30eb37\",\"\\u30b5\\u30f3\\u30d7\\u30eb38\",\"\\u30b5\\u30f3\\u30d7\\u30eb39\",\"\\u30b5\\u30f3\\u30d7\\u30eb40\",\"\\u30b5\\u30f3\\u30d7\\u30eb41\",\"\\u30b5\\u30f3\\u30d7\\u30eb42\",\"\\u30b5\\u30f3\\u30d7\\u30eb43\",\"\\u30b5\\u30f3\\u30d7\\u30eb44\",\"\\u30b5\\u30f3\\u30d7\\u30eb45\",\"\\u30b5\\u30f3\\u30d7\\u30eb46\",\"\\u30b5\\u30f3\\u30d7\\u30eb47\",\"\\u30b5\\u30f3\\u30d7\\u30eb48\",\"\\u30b5\\u30f3\\u30d7\\u30eb49\",\"\\u30b5\\u30f3\\u30d7\\u30eb50\",\"\\u30b5\\u30f3\\u30d7\\u30eb51\",\"\\u30b5\\u30f3\\u30d7\\u30eb52\",\"\\u30b5\\u30f3\\u30d7\\u30eb53\",\"\\u30b5\\u30f3\\u30d7\\u30eb54\",\"\\u30b5\\u30f3\\u30d7\\u30eb55\",\"\\u30b5\\u30f3\\u30d7\\u30eb56\",\"\\u30b5\\u30f3\\u30d7\\u30eb57\",\"\\u30b5\\u30f3\\u30d7\\u30eb58\",\"\\u30b5\\u30f3\\u30d7\\u30eb59\",\"\\u30b5\\u30f3\\u30d7\\u30eb60\",\"\\u30b5\\u30f3\\u30d7\\u30eb61\",\"\\u30b5\\u30f3\\u30d7\\u30eb62\",\"\\u30b5\\u30f3\\u30d7\\u30eb63\",\"\\u30b5\\u30f3\\u30d7\\u30eb64\",\"\\u30b5\\u30f3\\u30d7\\u30eb65\",\"\\u30b5\\u30f3\\u30d7\\u30eb66\",\"\\u30b5\\u30f3\\u30d7\\u30eb67\",\"\\u30b5\\u30f3\\u30d7\\u30eb68\",\"\\u30b5\\u30f3\\u30d7\\u30eb69\",\"\\u30b5\\u30f3\\u30d7\\u30eb70\",\"\\u30b5\\u30f3\\u30d7\\u30eb71\",\"\\u30b5\\u30f3\\u30d7\\u30eb72\",\"\\u30b5\\u30f3\\u30d7\\u30eb73\",\"\\u30b5\\u30f3\\u30d7\\u30eb74\",\"\\u30b5\\u30f3\\u30d7\\u30eb75\",\"\\u30b5\\u30f3\\u30d7\\u30eb76\",\"\\u30b5\\u30f3\\u30d7\\u30eb77\",\"\\u30b5\\u30f3\\u30d7\\u30eb78\",\"\\u30b5\\u30f3\\u30d7\\u30eb79\",\"\\u30b5\\u30f3\\u30d7\\u30eb80\",\"\\u30b5\\u30f3\\u30d7\\u30eb81\",\"\\u30b5\\u30f3\\u30d7\\u30eb82\",\"\\u30b5\\u30f3\\u30d7\\u30eb83\",\"\\u30b5\\u30f3\\u30d7\\u30eb84\",\"\\u30b5\\u30f3\\u30d7\\u30eb85\",\"\\u30b5\\u30f3\\u30d7\\u30eb86\",\"\\u30b5\\u30f3\\u30d7\\u30eb87\",\"\\u30b5\\u30f3\\u30d7\\u30eb88\",\"\\u30b5\\u30f3\\u30d7\\u30eb89\",\"\\u30b5\\u30f3\\u30d7\\u30eb90\",\"\\u30b5\\u30f3\\u30d7\\u30eb91\",\"\\u30b5\\u30f3\\u30d7\\u30eb92\",\"\\u30b5\\u30f3\\u30d7\\u30eb93\",\"\\u30b5\\u30f3\\u30d7\\u30eb94\",\"\\u30b5\\u30f3\\u30d7\\u30eb95\",\"\\u30b5\\u30f3\\u30d7\\u30eb96\",\"\\u30b5\\u30f3\\u30d7\\u30eb97\",\"\\u30b5\\u30f3\\u30d7\\u30eb98\",\"\\u30b5\\u30f3\\u30d7\\u30eb99\",\"\\u30b5\\u30f3\\u30d7\\u30eb100\"],\"\\u30ab\\u30c6\\u30b4\\u30ea\":[\"\\u30bf\\u30a4\\u30d7A\",\"\\u30bf\\u30a4\\u30d7A\",\"\\u30bf\\u30a4\\u30d7A\",\"\\u30bf\\u30a4\\u30d7A\",\"\\u30bf\\u30a4\\u30d7A\",\"\\u30bf\\u30a4\\u30d7A\",\"\\u30bf\\u30a4\\u30d7A\",\"\\u30bf\\u30a4\\u30d7A\",\"\\u30bf\\u30a4\\u30d7A\",\"\\u30bf\\u30a4\\u30d7A\",\"\\u30bf\\u30a4\\u30d7A\",\"\\u30bf\\u30a4\\u30d7A\",\"\\u30bf\\u30a4\\u30d7A\",\"\\u30bf\\u30a4\\u30d7A\",\"\\u30bf\\u30a4\\u30d7A\",\"\\u30bf\\u30a4\\u30d7B\",\"\\u30bf\\u30a4\\u30d7B\",\"\\u30bf\\u30a4\\u30d7B\",\"\\u30bf\\u30a4\\u30d7B\",\"\\u30bf\\u30a4\\u30d7B\",\"\\u30bf\\u30a4\\u30d7B\",\"\\u30bf\\u30a4\\u30d7B\",\"\\u30bf\\u30a4\\u30d7B\",\"\\u30bf\\u30a4\\u30d7B\",\"\\u30bf\\u30a4\\u30d7B\",\"\\u30bf\\u30a4\\u30d7B\",\"\\u30bf\\u30a4\\u30d7B\",\"\\u30bf\\u30a4\\u30d7B\",\"\\u30bf\\u30a4\\u30d7B\",\"\\u30bf\\u30a4\\u30d7B\",\"\\u30bf\\u30a4\\u30d7B\",\"\\u30bf\\u30a4\\u30d7B\",\"\\u30bf\\u30a4\\u30d7B\",\"\\u30bf\\u30a4\\u30d7B\",\"\\u30bf\\u30a4\\u30d7B\",\"\\u30bf\\u30a4\\u30d7B\",\"\\u30bf\\u30a4\\u30d7B\",\"\\u30bf\\u30a4\\u30d7B\",\"\\u30bf\\u30a4\\u30d7C\",\"\\u30bf\\u30a4\\u30d7C\",\"\\u30bf\\u30a4\\u30d7C\",\"\\u30bf\\u30a4\\u30d7C\",\"\\u30bf\\u30a4\\u30d7C\",\"\\u30bf\\u30a4\\u30d7C\",\"\\u30bf\\u30a4\\u30d7C\",\"\\u30bf\\u30a4\\u30d7C\",\"\\u30bf\\u30a4\\u30d7C\",\"\\u30bf\\u30a4\\u30d7C\",\"\\u30bf\\u30a4\\u30d7C\",\"\\u30bf\\u30a4\\u30d7C\",\"\\u30bf\\u30a4\\u30d7C\",\"\\u30bf\\u30a4\\u30d7C\",\"\\u30bf\\u30a4\\u30d7C\",\"\\u30bf\\u30a4\\u30d7C\",\"\\u30bf\\u30a4\\u30d7C\",\"\\u30bf\\u30a4\\u30d7C\",\"\\u30bf\\u30a4\\u30d7C\",\"\\u30bf\\u30a4\\u30d7C\",\"\\u30bf\\u30a4\\u30d7C\",\"\\u30bf\\u30a4\\u30d7C\",\"\\u30bf\\u30a4\\u30d7C\",\"\\u30bf\\u30a4\\u30d7C\",\"\\u30bf\\u30a4\\u30d7C\",\"\\u30bf\\u30a4\\u30d7C\",\"\\u30bf\\u30a4\\u30d7C\",\"\\u30bf\\u30a4\\u30d7C\",\"\\u30bf\\u30a4\\u30d7C\",\"\\u30bf\\u30a4\\u30d7C\",\"\\u30bf\\u30a4\\u30d7C\",\"\\u30bf\\u30a4\\u30d7C\",\"\\u30bf\\u30a4\\u30d7C\",\"\\u30bf\\u30a4\\u30d7C\",\"\\u30bf\\u30a4\\u30d7C\",\"\\u30bf\\u30a4\\u30d7C\",\"\\u30bf\\u30a4\\u30d7C\",\"\\u30bf\\u30a4\\u30d7C\",\"\\u30bf\\u30a4\\u30d7C\",\"\\u30bf\\u30a4\\u30d7C\",\"\\u30bf\\u30a4\\u30d7C\",\"\\u30bf\\u30a4\\u30d7C\",\"\\u30bf\\u30a4\\u30d7C\",\"\\u30bf\\u30a4\\u30d7C\",\"\\u30bf\\u30a4\\u30d7C\",\"\\u30bf\\u30a4\\u30d7C\",\"\\u30bf\\u30a4\\u30d7C\",\"\\u30bf\\u30a4\\u30d7C\",\"\\u30bf\\u30a4\\u30d7C\",\"\\u30bf\\u30a4\\u30d7C\",\"\\u30bf\\u30a4\\u30d7C\",\"\\u30bf\\u30a4\\u30d7C\",\"\\u30bf\\u30a4\\u30d7C\",\"\\u30bf\\u30a4\\u30d7C\",\"\\u30bf\\u30a4\\u30d7C\",\"\\u30bf\\u30a4\\u30d7C\",\"\\u30bf\\u30a4\\u30d7C\",\"\\u30bf\\u30a4\\u30d7C\",\"\\u30bf\\u30a4\\u30d7C\",\"\\u30bf\\u30a4\\u30d7C\",\"\\u30bf\\u30a4\\u30d7C\",\"\\u30bf\\u30a4\\u30d7C\"],\"\\u5f15\\u5f35\\u5f37\\u5ea6\":[151,175,147,219,227,171,187,187,183,115,119,159,101,99,165,145,151,141,163,155,129,153,93,139,93,129,99,69,69,69,69,69,69,69,69,69,69,69,69,69,69,69,69,69,69,69,69,25,25,31,28,28,22,49,37,42,38,32,46,26,32,54,46,54,34,49,39,53,41,36,44,33,38,34,22,45,20,37,43,50,52,41,31,43,47,33,50,26,41,47,44,45,28,23,25,26,41,52,42,51],\"\\u5f15\\u5f35\\u5f37\\u5ea6_\\u6e2c\\u5b9a\\u8aa4\\u5dee\\u4e0a\\u9650\":{\"__ndarray__\":\"mpmZmZnRY0AAAAAAAPhmQDMzMzMzS2NAZmZmZma+bEAzMzMzM8ttQJqZmZmZcWZAMzMzMzOLaEAzMzMzM4toQM3MzMzMBGhAAAAAAAAwXkDNzMzMzDxfQGZmZmZm3mRAMzMzMzODWkDNzMzMzPxZQAAAAAAAqGVAAAAAAAAIY0CamZmZmdFjQJqZmZmZgWJAzczMzMxkZUAAAAAAAFhkQGZmZmZm7mBAzczMzMwUZECamZmZmWlYQGZmZmZmPmJAmpmZmZlpWEBmZmZmZu5gQM3MzMzM/FlAzczMzMwcUkDNzMzMzBxSQM3MzMzMHFJAzczMzMwcUkDNzMzMzBxSQM3MzMzMHFJAzczMzMwcUkDNzMzMzBxSQM3MzMzMHFJAzczMzMwcUkDNzMzMzBxSQM3MzMzMHFJAzczMzMwcUkDNzMzMzBxSQM3MzMzMHFJAzczMzMwcUkDNzMzMzBxSQM3MzMzMHFJAzczMzMwcUkDNzMzMzBxSQAAAAAAAQDpAAAAAAABAOkBmZmZmZkZAQGZmZmZmZj1AZmZmZmZmPUCamZmZmRk3QJqZmZmZuUlAzczMzMxsQ0DNzMzMzAxGQDMzMzMz80NAzczMzMzMQEBmZmZmZiZIQM3MzMzMTDtAzczMzMzMQECamZmZmVlMQGZmZmZmJkhAmpmZmZlZTECamZmZmdlBQJqZmZmZuUlAmpmZmZl5REAzMzMzM9NLQGZmZmZmhkVAZmZmZmbmQkCamZmZmRlHQDMzMzMzU0FAMzMzMzPzQ0CamZmZmdlBQJqZmZmZGTdAAAAAAACgR0AAAAAAAAA1QM3MzMzMbENAMzMzMzOTRkAAAAAAAEBKQM3MzMzMTEtAZmZmZmaGRUBmZmZmZkZAQDMzMzMzk0ZAzczMzMysSEAzMzMzM1NBQAAAAAAAQEpAzczMzMxMO0BmZmZmZoZFQM3MzMzMrEhAmpmZmZkZR0AAAAAAAKBHQGZmZmZmZj1AZmZmZmYmOEAAAAAAAEA6QM3MzMzMTDtAZmZmZmaGRUDNzMzMzExLQM3MzMzMDEZAZmZmZmbGSkA=\",\"dtype\":\"float64\",\"shape\":[100]},\"\\u5f15\\u5f35\\u5f37\\u5ea6_\\u6e2c\\u5b9a\\u8aa4\\u5dee\\u4e0b\\u9650\":{\"__ndarray__\":\"ZmZmZmbuYUAAAAAAAMhkQM3MzMzMdGFAmpmZmZkBakDNzMzMzPRqQGZmZmZmTmRAzczMzMw0ZkDNzMzMzDRmQDMzMzMzu2VAAAAAAABQW0AzMzMzM0NcQJqZmZmZ4WJAzczMzMz8V0AzMzMzM4NXQAAAAAAAmGNAAAAAAAA4YUBmZmZmZu5hQGZmZmZmvmBAMzMzMzNbY0AAAAAAAGhiQDMzMzMzo15AMzMzMzMrYkBmZmZmZhZWQJqZmZmZgWBAZmZmZmYWVkAzMzMzM6NeQDMzMzMzg1dAMzMzMzNjUEAzMzMzM2NQQDMzMzMzY1BAMzMzMzNjUEAzMzMzM2NQQDMzMzMzY1BAMzMzMzNjUEAzMzMzM2NQQDMzMzMzY1BAMzMzMzNjUEAzMzMzM2NQQDMzMzMzY1BAMzMzMzNjUEAzMzMzM2NQQDMzMzMzY1BAMzMzMzNjUEAzMzMzM2NQQDMzMzMzY1BAMzMzMzNjUEAzMzMzM2NQQAAAAAAAwDdAAAAAAADAN0AzMzMzM3M9QJqZmZmZmTpAmpmZmZmZOkBmZmZmZuY0QGZmZmZmRkdAMzMzMzOTQUAzMzMzM/NDQM3MzMzMDEJAZmZmZmZmPkCamZmZmdlFQDMzMzMzszhAZmZmZmZmPkBmZmZmZqZJQJqZmZmZ2UVAZmZmZmamSUBmZmZmZiZAQGZmZmZmRkdAZmZmZmaGQkDNzMzMzCxJQJqZmZmZeUNAmpmZmZkZQUBmZmZmZuZEQJqZmZmZWT9AzczMzMwMQkBmZmZmZiZAQGZmZmZm5jRAAAAAAABgRUAAAAAAAAAzQDMzMzMzk0FAzczMzMxsREAAAAAAAMBHQDMzMzMzs0hAmpmZmZl5Q0AzMzMzM3M9QM3MzMzMbERAMzMzMzNTRkCamZmZmVk/QAAAAAAAwEdAMzMzMzOzOECamZmZmXlDQDMzMzMzU0ZAZmZmZmbmREAAAAAAAGBFQJqZmZmZmTpAmpmZmZnZNUAAAAAAAMA3QDMzMzMzszhAmpmZmZl5Q0AzMzMzM7NIQDMzMzMz80NAmpmZmZk5SEA=\",\"dtype\":\"float64\",\"shape\":[100]},\"\\u6750\\u6599A_lot\":[1111,1111,1111,1111,1111,1111,1111,1111,1111,1111,1111,1111,1111,1111,1111,1111,1111,1111,1111,1111,1111,1111,1111,1111,1111,1111,1111,1111,2222,2222,2222,2222,2222,2222,2222,2222,2222,2222,2222,2222,2222,2222,2222,2222,2222,2222,2222,2222,2222,2222,2222,2222,2222,2222,2222,2222,2222,2222,2222,2222,2222,2222,2222,2222,2222,2222,2222,2222,2222,2222,2222,2222,2222,2222,2222,2222,2222,2222,2222,2222,2222,2222,3333,3333,3333,3333,3333,3333,3333,3333,3333,3333,3333,3333,3333,3333,3333,3333,3333,3333],\"\\u6750\\u6599A\\u6dfb\\u52a0\\u91cf\":[75,69,76,58,56,70,66,66,67,84,74,54,83,84,51,61,58,72,58,59,69,54,81,55,75,54,81,56,59,82,65,83,82,75,64,59,57,71,82,52,61,63,83,56,67,56,61,55,55,61,58,58,52,79,67,72,68,62,76,56,62,84,76,84,64,79,69,83,71,66,74,63,68,64,52,75,50,67,73,80,82,71,61,73,77,63,80,56,71,77,74,75,58,53,55,56,71,82,72,81],\"\\u6750\\u6599B\\u6dfb\\u52a0\\u91cf\":[5,5,5,5,5,5,5,5,5,5,3,3,3,3,3,3,3,3,3,3,3,3,3,3,3,3,3,1,1,1,1,1,1,1,1,1,1,1,1,1,1,1,1,1,1,1,1,0,0,0,0,0,0,0,0,0,0,0,0,0,0,0,0,0,0,0,0,0,0,0,0,0,0,0,0,0,0,0,0,0,0,0,0,0,0,0,0,0,0,0,0,0,0,0,0,0,0,0,0,0],\"\\u6750\\u6599C\\u6dfb\\u52a0\\u91cf\":[20,26,19,37,39,25,29,29,28,11,23,43,14,13,46,36,39,25,39,38,28,43,16,42,22,43,16,43,40,17,34,16,17,24,35,40,42,28,17,47,38,36,16,43,32,43,38,45,45,39,42,42,48,21,33,28,32,38,24,44,38,16,24,16,36,21,31,17,29,34,26,37,32,36,48,25,50,33,27,20,18,29,39,27,23,37,20,44,29,23,26,25,42,47,45,44,29,18,28,19],\"\\u6e29\\u5ea6\":[20,20,20,20,20,20,20,20,20,20,20,20,20,20,20,20,20,5,10,15,20,25,30,35,40,45,25,25,25,25,25,25,25,25,25,25,25,25,25,25,25,25,25,25,25,25,25,25,25,25,25,25,25,25,25,25,25,25,25,25,25,25,25,25,25,25,25,25,25,25,25,25,25,25,25,25,25,25,25,25,25,25,25,25,25,25,25,25,25,25,25,25,25,25,25,25,25,25,25,25]},\"selected\":{\"id\":\"2018\"},\"selection_policy\":{\"id\":\"2019\"}},\"id\":\"1908\",\"type\":\"ColumnDataSource\"},{\"attributes\":{\"callback\":null,\"tooltips\":[[\"\\u30b5\\u30f3\\u30d7\\u30eb\\u540d\",\"@sample_name\"]]},\"id\":\"1942\",\"type\":\"HoverTool\"},{\"attributes\":{},\"id\":\"2019\",\"type\":\"UnionRenderers\"},{\"attributes\":{\"axis\":{\"id\":\"1920\"},\"ticker\":null},\"id\":\"1923\",\"type\":\"Grid\"},{\"attributes\":{\"active_drag\":\"auto\",\"active_inspect\":\"auto\",\"active_multi\":null,\"active_scroll\":\"auto\",\"active_tap\":\"auto\",\"tools\":[{\"id\":\"1928\"},{\"id\":\"1929\"},{\"id\":\"1930\"},{\"id\":\"1931\"},{\"id\":\"1932\"},{\"id\":\"1933\"},{\"id\":\"1942\"}]},\"id\":\"1935\",\"type\":\"Toolbar\"},{\"attributes\":{\"axis\":{\"id\":\"1924\"},\"dimension\":1,\"ticker\":null},\"id\":\"1927\",\"type\":\"Grid\"},{\"attributes\":{\"bottom_units\":\"screen\",\"fill_alpha\":0.5,\"fill_color\":\"lightgrey\",\"left_units\":\"screen\",\"level\":\"overlay\",\"line_alpha\":1.0,\"line_color\":\"black\",\"line_dash\":[4,4],\"line_width\":2,\"render_mode\":\"css\",\"right_units\":\"screen\",\"top_units\":\"screen\"},\"id\":\"1934\",\"type\":\"BoxAnnotation\"},{\"attributes\":{},\"id\":\"1921\",\"type\":\"BasicTicker\"},{\"attributes\":{\"fill_alpha\":{\"value\":0.5},\"fill_color\":{\"value\":\"blue\"},\"line_alpha\":{\"value\":0.5},\"line_color\":{\"value\":\"blue\"},\"size\":{\"units\":\"screen\",\"value\":10},\"x\":{\"field\":\"\\u6750\\u6599A\\u6dfb\\u52a0\\u91cf\"},\"y\":{\"field\":\"\\u5f15\\u5f35\\u5f37\\u5ea6\"}},\"id\":\"1945\",\"type\":\"Circle\"},{\"attributes\":{\"fill_alpha\":{\"value\":0.1},\"fill_color\":{\"value\":\"blue\"},\"line_alpha\":{\"value\":0.1},\"line_color\":{\"value\":\"blue\"},\"size\":{\"units\":\"screen\",\"value\":10},\"x\":{\"field\":\"\\u6750\\u6599A\\u6dfb\\u52a0\\u91cf\"},\"y\":{\"field\":\"\\u5f15\\u5f35\\u5f37\\u5ea6\"}},\"id\":\"1946\",\"type\":\"Circle\"},{\"attributes\":{},\"id\":\"1928\",\"type\":\"PanTool\"},{\"attributes\":{},\"id\":\"1929\",\"type\":\"WheelZoomTool\"},{\"attributes\":{\"overlay\":{\"id\":\"1934\"}},\"id\":\"1930\",\"type\":\"BoxZoomTool\"},{\"attributes\":{},\"id\":\"2018\",\"type\":\"Selection\"},{\"attributes\":{},\"id\":\"1931\",\"type\":\"SaveTool\"},{\"attributes\":{},\"id\":\"1918\",\"type\":\"LinearScale\"},{\"attributes\":{},\"id\":\"1916\",\"type\":\"LinearScale\"},{\"attributes\":{},\"id\":\"1933\",\"type\":\"HelpTool\"},{\"attributes\":{\"formatter\":{\"id\":\"1953\"},\"ticker\":{\"id\":\"1921\"}},\"id\":\"1920\",\"type\":\"LinearAxis\"},{\"attributes\":{},\"id\":\"1925\",\"type\":\"BasicTicker\"},{\"attributes\":{},\"id\":\"1932\",\"type\":\"ResetTool\"},{\"attributes\":{\"label\":{\"value\":\"\\u30e9\\u30d9\\u30eb\\u540d\"},\"renderers\":[{\"id\":\"1947\"}]},\"id\":\"1956\",\"type\":\"LegendItem\"},{\"attributes\":{\"formatter\":{\"id\":\"1951\"},\"ticker\":{\"id\":\"1925\"}},\"id\":\"1924\",\"type\":\"LinearAxis\"},{\"attributes\":{\"source\":{\"id\":\"1908\"}},\"id\":\"1948\",\"type\":\"CDSView\"},{\"attributes\":{\"data_source\":{\"id\":\"1908\"},\"glyph\":{\"id\":\"1945\"},\"hover_glyph\":null,\"muted_glyph\":null,\"nonselection_glyph\":{\"id\":\"1946\"},\"selection_glyph\":null,\"view\":{\"id\":\"1948\"}},\"id\":\"1947\",\"type\":\"GlyphRenderer\"},{\"attributes\":{},\"id\":\"1953\",\"type\":\"BasicTickFormatter\"},{\"attributes\":{},\"id\":\"1951\",\"type\":\"BasicTickFormatter\"},{\"attributes\":{\"items\":[{\"id\":\"1956\"}]},\"id\":\"1955\",\"type\":\"Legend\"},{\"attributes\":{},\"id\":\"1912\",\"type\":\"DataRange1d\"},{\"attributes\":{},\"id\":\"1914\",\"type\":\"DataRange1d\"},{\"attributes\":{\"text\":\"\\u30c6\\u30b9\\u30c8\\u30c7\\u30fc\\u30bf\\u306e\\u4f5c\\u56f3\"},\"id\":\"1910\",\"type\":\"Title\"}],\"root_ids\":[\"1909\"]},\"title\":\"Bokeh Application\",\"version\":\"2.0.2\"}};\n",
       "  var render_items = [{\"docid\":\"92a10a59-d841-479f-9d73-6bb925c5d5dd\",\"root_ids\":[\"1909\"],\"roots\":{\"1909\":\"321bdd7a-44e2-4841-8045-5c616fd1a51f\"}}];\n",
       "  root.Bokeh.embed.embed_items_notebook(docs_json, render_items);\n",
       "\n",
       "  }\n",
       "  if (root.Bokeh !== undefined) {\n",
       "    embed_document(root);\n",
       "  } else {\n",
       "    var attempts = 0;\n",
       "    var timer = setInterval(function(root) {\n",
       "      if (root.Bokeh !== undefined) {\n",
       "        clearInterval(timer);\n",
       "        embed_document(root);\n",
       "      } else {\n",
       "        attempts++;\n",
       "        if (attempts > 100) {\n",
       "          clearInterval(timer);\n",
       "          console.log(\"Bokeh: ERROR: Unable to run BokehJS code because BokehJS library is missing\");\n",
       "        }\n",
       "      }\n",
       "    }, 10, root)\n",
       "  }\n",
       "})(window);"
      ],
      "application/vnd.bokehjs_exec.v0+json": ""
     },
     "metadata": {
      "application/vnd.bokehjs_exec.v0+json": {
       "id": "1909"
      }
     },
     "output_type": "display_data"
    }
   ],
   "source": [
    "# データフレームをbokeh読み込み用に変換\n",
    "source = ColumnDataSource(csv_df)\n",
    "# グラフサイズおよびタイトルの設定\n",
    "p = figure(plot_height=500,plot_width=500,title='テストデータの作図')\n",
    "# HoverToolの設定\n",
    "hover = HoverTool(tooltips=[('サンプル名',\"@sample_name\")])\n",
    "p.add_tools(hover)\n",
    "# 散布図\n",
    "p.circle(x='材料A添加量',y='引張強度',source=source,legend_label='ラベル名',**plot_setting)\n",
    "\n",
    "show(p)"
   ]
  },
  {
   "cell_type": "code",
   "execution_count": 15,
   "metadata": {},
   "outputs": [
    {
     "data": {
      "text/html": [
       "\n",
       "\n",
       "\n",
       "\n",
       "\n",
       "\n",
       "  <div class=\"bk-root\" id=\"d1becc38-4de9-4053-bedc-65bee14c32eb\" data-root-id=\"2466\"></div>\n"
      ]
     },
     "metadata": {},
     "output_type": "display_data"
    },
    {
     "data": {
      "application/javascript": [
       "(function(root) {\n",
       "  function embed_document(root) {\n",
       "    \n",
       "  var docs_json = {\"7819bff0-9e5c-4117-b60e-9d3c34b82258\":{\"roots\":{\"references\":[{\"attributes\":{\"below\":[{\"id\":\"2477\"}],\"center\":[{\"id\":\"2480\"},{\"id\":\"2484\"},{\"id\":\"2499\"},{\"id\":\"2516\"}],\"left\":[{\"id\":\"2481\"}],\"plot_height\":500,\"plot_width\":500,\"renderers\":[{\"id\":\"2504\"}],\"title\":{\"id\":\"2467\"},\"toolbar\":{\"id\":\"2492\"},\"x_range\":{\"id\":\"2469\"},\"x_scale\":{\"id\":\"2473\"},\"y_range\":{\"id\":\"2471\"},\"y_scale\":{\"id\":\"2475\"}},\"id\":\"2466\",\"subtype\":\"Figure\",\"type\":\"Plot\"},{\"attributes\":{},\"id\":\"2469\",\"type\":\"DataRange1d\"},{\"attributes\":{\"source\":{\"id\":\"2465\"}},\"id\":\"2505\",\"type\":\"CDSView\"},{\"attributes\":{\"overlay\":{\"id\":\"2491\"}},\"id\":\"2487\",\"type\":\"BoxZoomTool\"},{\"attributes\":{},\"id\":\"2471\",\"type\":\"DataRange1d\"},{\"attributes\":{},\"id\":\"2485\",\"type\":\"PanTool\"},{\"attributes\":{},\"id\":\"2486\",\"type\":\"WheelZoomTool\"},{\"attributes\":{\"fill_alpha\":{\"value\":0.5},\"fill_color\":{\"value\":\"blue\"},\"line_alpha\":{\"value\":0.5},\"line_color\":{\"value\":\"blue\"},\"size\":{\"units\":\"screen\",\"value\":10},\"x\":{\"field\":\"\\u6750\\u6599A\\u6dfb\\u52a0\\u91cf\"},\"y\":{\"field\":\"\\u5f15\\u5f35\\u5f37\\u5ea6\"}},\"id\":\"2502\",\"type\":\"Circle\"},{\"attributes\":{},\"id\":\"2490\",\"type\":\"HelpTool\"},{\"attributes\":{},\"id\":\"2488\",\"type\":\"SaveTool\"},{\"attributes\":{\"data\":{\"index\":[0,1,2,3,4,5,6,7,8,9,10,11,12,13,14,15,16,17,18,19,20,21,22,23,24,25,26,27,28,29,30,31,32,33,34,35,36,37,38,39,40,41,42,43,44,45,46,47,48,49,50,51,52,53,54,55,56,57,58,59,60,61,62,63,64,65,66,67,68,69,70,71,72,73,74,75,76,77,78,79,80,81,82,83,84,85,86,87,88,89,90,91,92,93,94,95,96,97,98,99],\"sample_name\":[\"\\u30b5\\u30f3\\u30d7\\u30eb1\",\"\\u30b5\\u30f3\\u30d7\\u30eb2\",\"\\u30b5\\u30f3\\u30d7\\u30eb3\",\"\\u30b5\\u30f3\\u30d7\\u30eb4\",\"\\u30b5\\u30f3\\u30d7\\u30eb5\",\"\\u30b5\\u30f3\\u30d7\\u30eb6\",\"\\u30b5\\u30f3\\u30d7\\u30eb7\",\"\\u30b5\\u30f3\\u30d7\\u30eb8\",\"\\u30b5\\u30f3\\u30d7\\u30eb9\",\"\\u30b5\\u30f3\\u30d7\\u30eb10\",\"\\u30b5\\u30f3\\u30d7\\u30eb11\",\"\\u30b5\\u30f3\\u30d7\\u30eb12\",\"\\u30b5\\u30f3\\u30d7\\u30eb13\",\"\\u30b5\\u30f3\\u30d7\\u30eb14\",\"\\u30b5\\u30f3\\u30d7\\u30eb15\",\"\\u30b5\\u30f3\\u30d7\\u30eb16\",\"\\u30b5\\u30f3\\u30d7\\u30eb17\",\"\\u30b5\\u30f3\\u30d7\\u30eb18\",\"\\u30b5\\u30f3\\u30d7\\u30eb19\",\"\\u30b5\\u30f3\\u30d7\\u30eb20\",\"\\u30b5\\u30f3\\u30d7\\u30eb21\",\"\\u30b5\\u30f3\\u30d7\\u30eb22\",\"\\u30b5\\u30f3\\u30d7\\u30eb23\",\"\\u30b5\\u30f3\\u30d7\\u30eb24\",\"\\u30b5\\u30f3\\u30d7\\u30eb25\",\"\\u30b5\\u30f3\\u30d7\\u30eb26\",\"\\u30b5\\u30f3\\u30d7\\u30eb27\",\"\\u30b5\\u30f3\\u30d7\\u30eb28\",\"\\u30b5\\u30f3\\u30d7\\u30eb29\",\"\\u30b5\\u30f3\\u30d7\\u30eb30\",\"\\u30b5\\u30f3\\u30d7\\u30eb31\",\"\\u30b5\\u30f3\\u30d7\\u30eb32\",\"\\u30b5\\u30f3\\u30d7\\u30eb33\",\"\\u30b5\\u30f3\\u30d7\\u30eb34\",\"\\u30b5\\u30f3\\u30d7\\u30eb35\",\"\\u30b5\\u30f3\\u30d7\\u30eb36\",\"\\u30b5\\u30f3\\u30d7\\u30eb37\",\"\\u30b5\\u30f3\\u30d7\\u30eb38\",\"\\u30b5\\u30f3\\u30d7\\u30eb39\",\"\\u30b5\\u30f3\\u30d7\\u30eb40\",\"\\u30b5\\u30f3\\u30d7\\u30eb41\",\"\\u30b5\\u30f3\\u30d7\\u30eb42\",\"\\u30b5\\u30f3\\u30d7\\u30eb43\",\"\\u30b5\\u30f3\\u30d7\\u30eb44\",\"\\u30b5\\u30f3\\u30d7\\u30eb45\",\"\\u30b5\\u30f3\\u30d7\\u30eb46\",\"\\u30b5\\u30f3\\u30d7\\u30eb47\",\"\\u30b5\\u30f3\\u30d7\\u30eb48\",\"\\u30b5\\u30f3\\u30d7\\u30eb49\",\"\\u30b5\\u30f3\\u30d7\\u30eb50\",\"\\u30b5\\u30f3\\u30d7\\u30eb51\",\"\\u30b5\\u30f3\\u30d7\\u30eb52\",\"\\u30b5\\u30f3\\u30d7\\u30eb53\",\"\\u30b5\\u30f3\\u30d7\\u30eb54\",\"\\u30b5\\u30f3\\u30d7\\u30eb55\",\"\\u30b5\\u30f3\\u30d7\\u30eb56\",\"\\u30b5\\u30f3\\u30d7\\u30eb57\",\"\\u30b5\\u30f3\\u30d7\\u30eb58\",\"\\u30b5\\u30f3\\u30d7\\u30eb59\",\"\\u30b5\\u30f3\\u30d7\\u30eb60\",\"\\u30b5\\u30f3\\u30d7\\u30eb61\",\"\\u30b5\\u30f3\\u30d7\\u30eb62\",\"\\u30b5\\u30f3\\u30d7\\u30eb63\",\"\\u30b5\\u30f3\\u30d7\\u30eb64\",\"\\u30b5\\u30f3\\u30d7\\u30eb65\",\"\\u30b5\\u30f3\\u30d7\\u30eb66\",\"\\u30b5\\u30f3\\u30d7\\u30eb67\",\"\\u30b5\\u30f3\\u30d7\\u30eb68\",\"\\u30b5\\u30f3\\u30d7\\u30eb69\",\"\\u30b5\\u30f3\\u30d7\\u30eb70\",\"\\u30b5\\u30f3\\u30d7\\u30eb71\",\"\\u30b5\\u30f3\\u30d7\\u30eb72\",\"\\u30b5\\u30f3\\u30d7\\u30eb73\",\"\\u30b5\\u30f3\\u30d7\\u30eb74\",\"\\u30b5\\u30f3\\u30d7\\u30eb75\",\"\\u30b5\\u30f3\\u30d7\\u30eb76\",\"\\u30b5\\u30f3\\u30d7\\u30eb77\",\"\\u30b5\\u30f3\\u30d7\\u30eb78\",\"\\u30b5\\u30f3\\u30d7\\u30eb79\",\"\\u30b5\\u30f3\\u30d7\\u30eb80\",\"\\u30b5\\u30f3\\u30d7\\u30eb81\",\"\\u30b5\\u30f3\\u30d7\\u30eb82\",\"\\u30b5\\u30f3\\u30d7\\u30eb83\",\"\\u30b5\\u30f3\\u30d7\\u30eb84\",\"\\u30b5\\u30f3\\u30d7\\u30eb85\",\"\\u30b5\\u30f3\\u30d7\\u30eb86\",\"\\u30b5\\u30f3\\u30d7\\u30eb87\",\"\\u30b5\\u30f3\\u30d7\\u30eb88\",\"\\u30b5\\u30f3\\u30d7\\u30eb89\",\"\\u30b5\\u30f3\\u30d7\\u30eb90\",\"\\u30b5\\u30f3\\u30d7\\u30eb91\",\"\\u30b5\\u30f3\\u30d7\\u30eb92\",\"\\u30b5\\u30f3\\u30d7\\u30eb93\",\"\\u30b5\\u30f3\\u30d7\\u30eb94\",\"\\u30b5\\u30f3\\u30d7\\u30eb95\",\"\\u30b5\\u30f3\\u30d7\\u30eb96\",\"\\u30b5\\u30f3\\u30d7\\u30eb97\",\"\\u30b5\\u30f3\\u30d7\\u30eb98\",\"\\u30b5\\u30f3\\u30d7\\u30eb99\",\"\\u30b5\\u30f3\\u30d7\\u30eb100\"],\"\\u30ab\\u30c6\\u30b4\\u30ea\":[\"\\u30bf\\u30a4\\u30d7A\",\"\\u30bf\\u30a4\\u30d7A\",\"\\u30bf\\u30a4\\u30d7A\",\"\\u30bf\\u30a4\\u30d7A\",\"\\u30bf\\u30a4\\u30d7A\",\"\\u30bf\\u30a4\\u30d7A\",\"\\u30bf\\u30a4\\u30d7A\",\"\\u30bf\\u30a4\\u30d7A\",\"\\u30bf\\u30a4\\u30d7A\",\"\\u30bf\\u30a4\\u30d7A\",\"\\u30bf\\u30a4\\u30d7A\",\"\\u30bf\\u30a4\\u30d7A\",\"\\u30bf\\u30a4\\u30d7A\",\"\\u30bf\\u30a4\\u30d7A\",\"\\u30bf\\u30a4\\u30d7A\",\"\\u30bf\\u30a4\\u30d7B\",\"\\u30bf\\u30a4\\u30d7B\",\"\\u30bf\\u30a4\\u30d7B\",\"\\u30bf\\u30a4\\u30d7B\",\"\\u30bf\\u30a4\\u30d7B\",\"\\u30bf\\u30a4\\u30d7B\",\"\\u30bf\\u30a4\\u30d7B\",\"\\u30bf\\u30a4\\u30d7B\",\"\\u30bf\\u30a4\\u30d7B\",\"\\u30bf\\u30a4\\u30d7B\",\"\\u30bf\\u30a4\\u30d7B\",\"\\u30bf\\u30a4\\u30d7B\",\"\\u30bf\\u30a4\\u30d7B\",\"\\u30bf\\u30a4\\u30d7B\",\"\\u30bf\\u30a4\\u30d7B\",\"\\u30bf\\u30a4\\u30d7B\",\"\\u30bf\\u30a4\\u30d7B\",\"\\u30bf\\u30a4\\u30d7B\",\"\\u30bf\\u30a4\\u30d7B\",\"\\u30bf\\u30a4\\u30d7B\",\"\\u30bf\\u30a4\\u30d7B\",\"\\u30bf\\u30a4\\u30d7B\",\"\\u30bf\\u30a4\\u30d7B\",\"\\u30bf\\u30a4\\u30d7C\",\"\\u30bf\\u30a4\\u30d7C\",\"\\u30bf\\u30a4\\u30d7C\",\"\\u30bf\\u30a4\\u30d7C\",\"\\u30bf\\u30a4\\u30d7C\",\"\\u30bf\\u30a4\\u30d7C\",\"\\u30bf\\u30a4\\u30d7C\",\"\\u30bf\\u30a4\\u30d7C\",\"\\u30bf\\u30a4\\u30d7C\",\"\\u30bf\\u30a4\\u30d7C\",\"\\u30bf\\u30a4\\u30d7C\",\"\\u30bf\\u30a4\\u30d7C\",\"\\u30bf\\u30a4\\u30d7C\",\"\\u30bf\\u30a4\\u30d7C\",\"\\u30bf\\u30a4\\u30d7C\",\"\\u30bf\\u30a4\\u30d7C\",\"\\u30bf\\u30a4\\u30d7C\",\"\\u30bf\\u30a4\\u30d7C\",\"\\u30bf\\u30a4\\u30d7C\",\"\\u30bf\\u30a4\\u30d7C\",\"\\u30bf\\u30a4\\u30d7C\",\"\\u30bf\\u30a4\\u30d7C\",\"\\u30bf\\u30a4\\u30d7C\",\"\\u30bf\\u30a4\\u30d7C\",\"\\u30bf\\u30a4\\u30d7C\",\"\\u30bf\\u30a4\\u30d7C\",\"\\u30bf\\u30a4\\u30d7C\",\"\\u30bf\\u30a4\\u30d7C\",\"\\u30bf\\u30a4\\u30d7C\",\"\\u30bf\\u30a4\\u30d7C\",\"\\u30bf\\u30a4\\u30d7C\",\"\\u30bf\\u30a4\\u30d7C\",\"\\u30bf\\u30a4\\u30d7C\",\"\\u30bf\\u30a4\\u30d7C\",\"\\u30bf\\u30a4\\u30d7C\",\"\\u30bf\\u30a4\\u30d7C\",\"\\u30bf\\u30a4\\u30d7C\",\"\\u30bf\\u30a4\\u30d7C\",\"\\u30bf\\u30a4\\u30d7C\",\"\\u30bf\\u30a4\\u30d7C\",\"\\u30bf\\u30a4\\u30d7C\",\"\\u30bf\\u30a4\\u30d7C\",\"\\u30bf\\u30a4\\u30d7C\",\"\\u30bf\\u30a4\\u30d7C\",\"\\u30bf\\u30a4\\u30d7C\",\"\\u30bf\\u30a4\\u30d7C\",\"\\u30bf\\u30a4\\u30d7C\",\"\\u30bf\\u30a4\\u30d7C\",\"\\u30bf\\u30a4\\u30d7C\",\"\\u30bf\\u30a4\\u30d7C\",\"\\u30bf\\u30a4\\u30d7C\",\"\\u30bf\\u30a4\\u30d7C\",\"\\u30bf\\u30a4\\u30d7C\",\"\\u30bf\\u30a4\\u30d7C\",\"\\u30bf\\u30a4\\u30d7C\",\"\\u30bf\\u30a4\\u30d7C\",\"\\u30bf\\u30a4\\u30d7C\",\"\\u30bf\\u30a4\\u30d7C\",\"\\u30bf\\u30a4\\u30d7C\",\"\\u30bf\\u30a4\\u30d7C\",\"\\u30bf\\u30a4\\u30d7C\",\"\\u30bf\\u30a4\\u30d7C\"],\"\\u5f15\\u5f35\\u5f37\\u5ea6\":[151,175,147,219,227,171,187,187,183,115,119,159,101,99,165,145,151,141,163,155,129,153,93,139,93,129,99,69,69,69,69,69,69,69,69,69,69,69,69,69,69,69,69,69,69,69,69,25,25,31,28,28,22,49,37,42,38,32,46,26,32,54,46,54,34,49,39,53,41,36,44,33,38,34,22,45,20,37,43,50,52,41,31,43,47,33,50,26,41,47,44,45,28,23,25,26,41,52,42,51],\"\\u5f15\\u5f35\\u5f37\\u5ea6_\\u6e2c\\u5b9a\\u8aa4\\u5dee\\u4e0a\\u9650\":{\"__ndarray__\":\"mpmZmZnRY0AAAAAAAPhmQDMzMzMzS2NAZmZmZma+bEAzMzMzM8ttQJqZmZmZcWZAMzMzMzOLaEAzMzMzM4toQM3MzMzMBGhAAAAAAAAwXkDNzMzMzDxfQGZmZmZm3mRAMzMzMzODWkDNzMzMzPxZQAAAAAAAqGVAAAAAAAAIY0CamZmZmdFjQJqZmZmZgWJAzczMzMxkZUAAAAAAAFhkQGZmZmZm7mBAzczMzMwUZECamZmZmWlYQGZmZmZmPmJAmpmZmZlpWEBmZmZmZu5gQM3MzMzM/FlAzczMzMwcUkDNzMzMzBxSQM3MzMzMHFJAzczMzMwcUkDNzMzMzBxSQM3MzMzMHFJAzczMzMwcUkDNzMzMzBxSQM3MzMzMHFJAzczMzMwcUkDNzMzMzBxSQM3MzMzMHFJAzczMzMwcUkDNzMzMzBxSQM3MzMzMHFJAzczMzMwcUkDNzMzMzBxSQM3MzMzMHFJAzczMzMwcUkDNzMzMzBxSQAAAAAAAQDpAAAAAAABAOkBmZmZmZkZAQGZmZmZmZj1AZmZmZmZmPUCamZmZmRk3QJqZmZmZuUlAzczMzMxsQ0DNzMzMzAxGQDMzMzMz80NAzczMzMzMQEBmZmZmZiZIQM3MzMzMTDtAzczMzMzMQECamZmZmVlMQGZmZmZmJkhAmpmZmZlZTECamZmZmdlBQJqZmZmZuUlAmpmZmZl5REAzMzMzM9NLQGZmZmZmhkVAZmZmZmbmQkCamZmZmRlHQDMzMzMzU0FAMzMzMzPzQ0CamZmZmdlBQJqZmZmZGTdAAAAAAACgR0AAAAAAAAA1QM3MzMzMbENAMzMzMzOTRkAAAAAAAEBKQM3MzMzMTEtAZmZmZmaGRUBmZmZmZkZAQDMzMzMzk0ZAzczMzMysSEAzMzMzM1NBQAAAAAAAQEpAzczMzMxMO0BmZmZmZoZFQM3MzMzMrEhAmpmZmZkZR0AAAAAAAKBHQGZmZmZmZj1AZmZmZmYmOEAAAAAAAEA6QM3MzMzMTDtAZmZmZmaGRUDNzMzMzExLQM3MzMzMDEZAZmZmZmbGSkA=\",\"dtype\":\"float64\",\"shape\":[100]},\"\\u5f15\\u5f35\\u5f37\\u5ea6_\\u6e2c\\u5b9a\\u8aa4\\u5dee\\u4e0b\\u9650\":{\"__ndarray__\":\"ZmZmZmbuYUAAAAAAAMhkQM3MzMzMdGFAmpmZmZkBakDNzMzMzPRqQGZmZmZmTmRAzczMzMw0ZkDNzMzMzDRmQDMzMzMzu2VAAAAAAABQW0AzMzMzM0NcQJqZmZmZ4WJAzczMzMz8V0AzMzMzM4NXQAAAAAAAmGNAAAAAAAA4YUBmZmZmZu5hQGZmZmZmvmBAMzMzMzNbY0AAAAAAAGhiQDMzMzMzo15AMzMzMzMrYkBmZmZmZhZWQJqZmZmZgWBAZmZmZmYWVkAzMzMzM6NeQDMzMzMzg1dAMzMzMzNjUEAzMzMzM2NQQDMzMzMzY1BAMzMzMzNjUEAzMzMzM2NQQDMzMzMzY1BAMzMzMzNjUEAzMzMzM2NQQDMzMzMzY1BAMzMzMzNjUEAzMzMzM2NQQDMzMzMzY1BAMzMzMzNjUEAzMzMzM2NQQDMzMzMzY1BAMzMzMzNjUEAzMzMzM2NQQDMzMzMzY1BAMzMzMzNjUEAzMzMzM2NQQAAAAAAAwDdAAAAAAADAN0AzMzMzM3M9QJqZmZmZmTpAmpmZmZmZOkBmZmZmZuY0QGZmZmZmRkdAMzMzMzOTQUAzMzMzM/NDQM3MzMzMDEJAZmZmZmZmPkCamZmZmdlFQDMzMzMzszhAZmZmZmZmPkBmZmZmZqZJQJqZmZmZ2UVAZmZmZmamSUBmZmZmZiZAQGZmZmZmRkdAZmZmZmaGQkDNzMzMzCxJQJqZmZmZeUNAmpmZmZkZQUBmZmZmZuZEQJqZmZmZWT9AzczMzMwMQkBmZmZmZiZAQGZmZmZm5jRAAAAAAABgRUAAAAAAAAAzQDMzMzMzk0FAzczMzMxsREAAAAAAAMBHQDMzMzMzs0hAmpmZmZl5Q0AzMzMzM3M9QM3MzMzMbERAMzMzMzNTRkCamZmZmVk/QAAAAAAAwEdAMzMzMzOzOECamZmZmXlDQDMzMzMzU0ZAZmZmZmbmREAAAAAAAGBFQJqZmZmZmTpAmpmZmZnZNUAAAAAAAMA3QDMzMzMzszhAmpmZmZl5Q0AzMzMzM7NIQDMzMzMz80NAmpmZmZk5SEA=\",\"dtype\":\"float64\",\"shape\":[100]},\"\\u6750\\u6599A_lot\":[1111,1111,1111,1111,1111,1111,1111,1111,1111,1111,1111,1111,1111,1111,1111,1111,1111,1111,1111,1111,1111,1111,1111,1111,1111,1111,1111,1111,2222,2222,2222,2222,2222,2222,2222,2222,2222,2222,2222,2222,2222,2222,2222,2222,2222,2222,2222,2222,2222,2222,2222,2222,2222,2222,2222,2222,2222,2222,2222,2222,2222,2222,2222,2222,2222,2222,2222,2222,2222,2222,2222,2222,2222,2222,2222,2222,2222,2222,2222,2222,2222,2222,3333,3333,3333,3333,3333,3333,3333,3333,3333,3333,3333,3333,3333,3333,3333,3333,3333,3333],\"\\u6750\\u6599A\\u6dfb\\u52a0\\u91cf\":[75,69,76,58,56,70,66,66,67,84,74,54,83,84,51,61,58,72,58,59,69,54,81,55,75,54,81,56,59,82,65,83,82,75,64,59,57,71,82,52,61,63,83,56,67,56,61,55,55,61,58,58,52,79,67,72,68,62,76,56,62,84,76,84,64,79,69,83,71,66,74,63,68,64,52,75,50,67,73,80,82,71,61,73,77,63,80,56,71,77,74,75,58,53,55,56,71,82,72,81],\"\\u6750\\u6599B\\u6dfb\\u52a0\\u91cf\":[5,5,5,5,5,5,5,5,5,5,3,3,3,3,3,3,3,3,3,3,3,3,3,3,3,3,3,1,1,1,1,1,1,1,1,1,1,1,1,1,1,1,1,1,1,1,1,0,0,0,0,0,0,0,0,0,0,0,0,0,0,0,0,0,0,0,0,0,0,0,0,0,0,0,0,0,0,0,0,0,0,0,0,0,0,0,0,0,0,0,0,0,0,0,0,0,0,0,0,0],\"\\u6750\\u6599C\\u6dfb\\u52a0\\u91cf\":[20,26,19,37,39,25,29,29,28,11,23,43,14,13,46,36,39,25,39,38,28,43,16,42,22,43,16,43,40,17,34,16,17,24,35,40,42,28,17,47,38,36,16,43,32,43,38,45,45,39,42,42,48,21,33,28,32,38,24,44,38,16,24,16,36,21,31,17,29,34,26,37,32,36,48,25,50,33,27,20,18,29,39,27,23,37,20,44,29,23,26,25,42,47,45,44,29,18,28,19],\"\\u6e29\\u5ea6\":[20,20,20,20,20,20,20,20,20,20,20,20,20,20,20,20,20,5,10,15,20,25,30,35,40,45,25,25,25,25,25,25,25,25,25,25,25,25,25,25,25,25,25,25,25,25,25,25,25,25,25,25,25,25,25,25,25,25,25,25,25,25,25,25,25,25,25,25,25,25,25,25,25,25,25,25,25,25,25,25,25,25,25,25,25,25,25,25,25,25,25,25,25,25,25,25,25,25,25,25]},\"selected\":{\"id\":\"2513\"},\"selection_policy\":{\"id\":\"2514\"}},\"id\":\"2465\",\"type\":\"ColumnDataSource\"},{\"attributes\":{},\"id\":\"2489\",\"type\":\"ResetTool\"},{\"attributes\":{},\"id\":\"2473\",\"type\":\"LinearScale\"},{\"attributes\":{\"items\":[{\"id\":\"2517\"}]},\"id\":\"2516\",\"type\":\"Legend\"},{\"attributes\":{\"text\":\"\\u30c6\\u30b9\\u30c8\\u30c7\\u30fc\\u30bf\\u306e\\u4f5c\\u56f3\"},\"id\":\"2467\",\"type\":\"Title\"},{\"attributes\":{},\"id\":\"2482\",\"type\":\"BasicTicker\"},{\"attributes\":{\"axis\":{\"id\":\"2477\"},\"ticker\":null},\"id\":\"2480\",\"type\":\"Grid\"},{\"attributes\":{\"level\":\"underlay\",\"size\":10},\"id\":\"2512\",\"type\":\"TeeHead\"},{\"attributes\":{},\"id\":\"2478\",\"type\":\"BasicTicker\"},{\"attributes\":{\"base\":{\"field\":\"\\u6750\\u6599A\\u6dfb\\u52a0\\u91cf\",\"units\":\"data\"},\"lower\":{\"field\":\"\\u5f15\\u5f35\\u5f37\\u5ea6_\\u6e2c\\u5b9a\\u8aa4\\u5dee\\u4e0b\\u9650\",\"units\":\"data\"},\"lower_head\":{\"id\":\"2511\"},\"source\":{\"id\":\"2465\"},\"upper\":{\"field\":\"\\u5f15\\u5f35\\u5f37\\u5ea6_\\u6e2c\\u5b9a\\u8aa4\\u5dee\\u4e0a\\u9650\",\"units\":\"data\"},\"upper_head\":{\"id\":\"2512\"}},\"id\":\"2499\",\"type\":\"Whisker\"},{\"attributes\":{\"fill_alpha\":{\"value\":0.1},\"fill_color\":{\"value\":\"blue\"},\"line_alpha\":{\"value\":0.1},\"line_color\":{\"value\":\"blue\"},\"size\":{\"units\":\"screen\",\"value\":10},\"x\":{\"field\":\"\\u6750\\u6599A\\u6dfb\\u52a0\\u91cf\"},\"y\":{\"field\":\"\\u5f15\\u5f35\\u5f37\\u5ea6\"}},\"id\":\"2503\",\"type\":\"Circle\"},{\"attributes\":{\"formatter\":{\"id\":\"2508\"},\"ticker\":{\"id\":\"2482\"}},\"id\":\"2481\",\"type\":\"LinearAxis\"},{\"attributes\":{},\"id\":\"2513\",\"type\":\"Selection\"},{\"attributes\":{},\"id\":\"2508\",\"type\":\"BasicTickFormatter\"},{\"attributes\":{},\"id\":\"2475\",\"type\":\"LinearScale\"},{\"attributes\":{\"level\":\"underlay\",\"size\":10},\"id\":\"2511\",\"type\":\"TeeHead\"},{\"attributes\":{\"data_source\":{\"id\":\"2465\"},\"glyph\":{\"id\":\"2502\"},\"hover_glyph\":null,\"muted_glyph\":null,\"nonselection_glyph\":{\"id\":\"2503\"},\"selection_glyph\":null,\"view\":{\"id\":\"2505\"}},\"id\":\"2504\",\"type\":\"GlyphRenderer\"},{\"attributes\":{},\"id\":\"2510\",\"type\":\"BasicTickFormatter\"},{\"attributes\":{\"formatter\":{\"id\":\"2510\"},\"ticker\":{\"id\":\"2478\"}},\"id\":\"2477\",\"type\":\"LinearAxis\"},{\"attributes\":{\"active_drag\":\"auto\",\"active_inspect\":\"auto\",\"active_multi\":null,\"active_scroll\":\"auto\",\"active_tap\":\"auto\",\"tools\":[{\"id\":\"2485\"},{\"id\":\"2486\"},{\"id\":\"2487\"},{\"id\":\"2488\"},{\"id\":\"2489\"},{\"id\":\"2490\"}]},\"id\":\"2492\",\"type\":\"Toolbar\"},{\"attributes\":{\"axis\":{\"id\":\"2481\"},\"dimension\":1,\"ticker\":null},\"id\":\"2484\",\"type\":\"Grid\"},{\"attributes\":{\"bottom_units\":\"screen\",\"fill_alpha\":0.5,\"fill_color\":\"lightgrey\",\"left_units\":\"screen\",\"level\":\"overlay\",\"line_alpha\":1.0,\"line_color\":\"black\",\"line_dash\":[4,4],\"line_width\":2,\"render_mode\":\"css\",\"right_units\":\"screen\",\"top_units\":\"screen\"},\"id\":\"2491\",\"type\":\"BoxAnnotation\"},{\"attributes\":{},\"id\":\"2514\",\"type\":\"UnionRenderers\"},{\"attributes\":{\"label\":{\"value\":\"\\u30e9\\u30d9\\u30eb\\u540d\"},\"renderers\":[{\"id\":\"2504\"}]},\"id\":\"2517\",\"type\":\"LegendItem\"}],\"root_ids\":[\"2466\"]},\"title\":\"Bokeh Application\",\"version\":\"2.0.2\"}};\n",
       "  var render_items = [{\"docid\":\"7819bff0-9e5c-4117-b60e-9d3c34b82258\",\"root_ids\":[\"2466\"],\"roots\":{\"2466\":\"d1becc38-4de9-4053-bedc-65bee14c32eb\"}}];\n",
       "  root.Bokeh.embed.embed_items_notebook(docs_json, render_items);\n",
       "\n",
       "  }\n",
       "  if (root.Bokeh !== undefined) {\n",
       "    embed_document(root);\n",
       "  } else {\n",
       "    var attempts = 0;\n",
       "    var timer = setInterval(function(root) {\n",
       "      if (root.Bokeh !== undefined) {\n",
       "        clearInterval(timer);\n",
       "        embed_document(root);\n",
       "      } else {\n",
       "        attempts++;\n",
       "        if (attempts > 100) {\n",
       "          clearInterval(timer);\n",
       "          console.log(\"Bokeh: ERROR: Unable to run BokehJS code because BokehJS library is missing\");\n",
       "        }\n",
       "      }\n",
       "    }, 10, root)\n",
       "  }\n",
       "})(window);"
      ],
      "application/vnd.bokehjs_exec.v0+json": ""
     },
     "metadata": {
      "application/vnd.bokehjs_exec.v0+json": {
       "id": "2466"
      }
     },
     "output_type": "display_data"
    }
   ],
   "source": [
    "# データフレームをbokeh読み込み用に変換\n",
    "source = ColumnDataSource(csv_df)\n",
    "# グラフサイズおよびタイトルの設定\n",
    "p = figure(plot_height=500,plot_width=500,title='テストデータの作図')\n",
    "\n",
    "# エラーバーの設定\n",
    "p.add_layout(\n",
    "    Whisker(source=source, base=\"材料A添加量\", upper=\"引張強度_測定誤差上限\", lower=\"引張強度_測定誤差下限\")\n",
    ")\n",
    "# HoverToolの設定\n",
    "p.circle(x='材料A添加量',y='引張強度',source=source,legend_label='ラベル名',**plot_setting)\n",
    "\n",
    "show(p)"
   ]
  }
 ],
 "metadata": {
  "kernelspec": {
   "display_name": "Python 3",
   "language": "python",
   "name": "python3"
  },
  "language_info": {
   "codemirror_mode": {
    "name": "ipython",
    "version": 3
   },
   "file_extension": ".py",
   "mimetype": "text/x-python",
   "name": "python",
   "nbconvert_exporter": "python",
   "pygments_lexer": "ipython3",
   "version": "3.7.6"
  }
 },
 "nbformat": 4,
 "nbformat_minor": 4
}
