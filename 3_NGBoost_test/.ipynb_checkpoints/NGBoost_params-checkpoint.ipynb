{
 "cells": [
  {
   "cell_type": "code",
   "execution_count": 28,
   "metadata": {},
   "outputs": [],
   "source": [
    "from ngboost import NGBRegressor\n",
    "from ngboost.learners import default_tree_learner, default_linear_learner\n",
    "from ngboost.scores import MLE\n",
    "from ngboost.distns import Normal, LogNormal\n",
    "\n",
    "from sklearn.datasets import load_boston\n",
    "from sklearn.model_selection import train_test_split\n",
    "from sklearn.metrics import mean_squared_error\n",
    "\n",
    "import numpy as np\n",
    "import matplotlib.pyplot as plt\n",
    "import optuna \n",
    "from functools import partial"
   ]
  },
  {
   "cell_type": "markdown",
   "metadata": {},
   "source": [
    "### データの準備"
   ]
  },
  {
   "cell_type": "code",
   "execution_count": 2,
   "metadata": {},
   "outputs": [],
   "source": [
    "# データのロード\n",
    "X, Y = load_boston(True)\n",
    "X_train, X_test, Y_train, Y_test = train_test_split(X, Y, test_size=0.2)"
   ]
  },
  {
   "cell_type": "markdown",
   "metadata": {},
   "source": [
    "### Baseの選択"
   ]
  },
  {
   "cell_type": "code",
   "execution_count": 29,
   "metadata": {},
   "outputs": [
    {
     "name": "stdout",
     "output_type": "stream",
     "text": [
      "[iter 0] loss=3.6308 val_loss=0.0000 scale=0.5000 norm=3.3391\n",
      "[iter 100] loss=3.0765 val_loss=0.0000 scale=1.0000 norm=3.7826\n",
      "[iter 200] loss=2.6941 val_loss=0.0000 scale=1.0000 norm=2.4655\n",
      "[iter 300] loss=2.3912 val_loss=0.0000 scale=1.0000 norm=1.9790\n",
      "[iter 400] loss=2.1666 val_loss=0.0000 scale=1.0000 norm=1.7340\n",
      "Test MSE 7.73246484357078\n",
      "Test NLL 2.4126845684258638\n",
      "Wall time: 2.27 s\n"
     ]
    }
   ],
   "source": [
    "%%time\n",
    "# 決定木\n",
    "ngb = NGBRegressor(Base=default_tree_learner).fit(X_train, Y_train)\n",
    "Y_preds = ngb.predict(X_test)\n",
    "Y_dists = ngb.pred_dist(X_test)\n",
    "\n",
    "# test Mean Squared Error\n",
    "test_MSE = mean_squared_error(Y_preds, Y_test)\n",
    "print('Test MSE', test_MSE)\n",
    "\n",
    "# test Negative Log Likelihood\n",
    "test_NLL = -Y_dists.logpdf(Y_test.flatten()).mean()\n",
    "print('Test NLL', test_NLL)"
   ]
  },
  {
   "cell_type": "code",
   "execution_count": 30,
   "metadata": {},
   "outputs": [
    {
     "data": {
      "image/png": "[encoded data removed]",
      "text/plain": [
       "<Figure size 432x288 with 1 Axes>"
      ]
     },
     "metadata": {
      "needs_background": "light"
     },
     "output_type": "display_data"
    }
   ],
   "source": [
    "y_range = np.linspace(min(Y_test), max(Y_test)).reshape((-1, 1))\n",
    "dist_values = Y_dists.pdf(y_range).transpose()\n",
    "\n",
    "no = 8\n",
    "plt.plot(y_range,dist_values[no])\n",
    "plt.vlines(Y_preds[no],0,max(dist_values[no]))\n",
    "\n",
    "plt.show()"
   ]
  },
  {
   "cell_type": "code",
   "execution_count": 73,
   "metadata": {},
   "outputs": [
    {
     "name": "stdout",
     "output_type": "stream",
     "text": [
      "[iter 0] loss=3.6308 val_loss=0.0000 scale=0.5000 norm=3.3391\n",
      "[iter 100] loss=3.1727 val_loss=0.0000 scale=1.0000 norm=4.1789\n",
      "[iter 200] loss=2.9399 val_loss=0.0000 scale=1.0000 norm=3.4768\n",
      "[iter 300] loss=2.8668 val_loss=0.0000 scale=1.0000 norm=3.4169\n",
      "[iter 400] loss=2.8522 val_loss=0.0000 scale=0.5000 norm=1.7109\n",
      "Test MSE 22.085885214512665\n",
      "Test NLL 2.875942074871781\n",
      "Wall time: 1.82 s\n"
     ]
    }
   ],
   "source": [
    "%%time\n",
    "# Ridge\n",
    "ngb = NGBRegressor(Base=default_linear_learner).fit(X_train, Y_train)\n",
    "Y_preds = ngb.predict(X_test)\n",
    "Y_dists = ngb.pred_dist(X_test)\n",
    "\n",
    "# test Mean Squared Error\n",
    "test_MSE = mean_squared_error(Y_preds, Y_test)\n",
    "print('Test MSE', test_MSE)\n",
    "\n",
    "# test Negative Log Likelihood\n",
    "test_NLL = -Y_dists.logpdf(Y_test.flatten()).mean()\n",
    "print('Test NLL', test_NLL)"
   ]
  },
  {
   "cell_type": "code",
   "execution_count": 74,
   "metadata": {},
   "outputs": [
    {
     "data": {
      "image/png": "[encoded data removed]",
      "text/plain": [
       "<Figure size 432x288 with 1 Axes>"
      ]
     },
     "metadata": {
      "needs_background": "light"
     },
     "output_type": "display_data"
    }
   ],
   "source": [
    "y_range = np.linspace(min(Y_test), max(Y_test)).reshape((-1, 1))\n",
    "dist_values = Y_dists.pdf(y_range).transpose()\n",
    "\n",
    "no = 8\n",
    "plt.plot(y_range,dist_values[no])\n",
    "plt.vlines(Y_preds[no],0,max(dist_values[no]))\n",
    "\n",
    "plt.show()"
   ]
  },
  {
   "cell_type": "markdown",
   "metadata": {},
   "source": [
    "### ハイパーパラメータを色々回してみる"
   ]
  },
  {
   "cell_type": "code",
   "execution_count": 77,
   "metadata": {},
   "outputs": [],
   "source": [
    "# optunaで最適化のために一連の処理を関数化\n",
    "def objectives(X_train, Y_train, trial):\n",
    "    # scikit-learnでお試しデータの準備\n",
    "    X, Y = load_boston(True)\n",
    "    X_train, X_test, y_train, y_test = train_test_split(X, Y, test_size=0.2)\n",
    "    # optunaでのハイパーパラメータサーチ範囲の設定\n",
    "    \n",
    "    params = {\n",
    "        # 固定パラメータ\n",
    "        'Dist':Normal,\n",
    "        'Score':MLE(),\n",
    "        #'Base':default_tree_learner,\n",
    "        'natural_gradient':True,\n",
    "        'learning_rate':0.01,\n",
    "        'verbose':True,\n",
    "        'verbose_eval':100,\n",
    "        'tol':1e-4,\n",
    "        \n",
    "        # サーチパラメータ\n",
    "        'Base':trial.suggest_categorical('Base', [default_tree_learner, default_linear_learner]),\n",
    "        'n_estimators': trial.suggest_int('n_estimators', 100,800),\n",
    "        'minibatch_frac':trial.suggest_discrete_uniform('minibatch_frac', 0.1, 1.0, 0.1),\n",
    "    }\n",
    " \n",
    "\n",
    "    # 学習+予測\n",
    "    model = NGBRegressor(**params)# 検討するハイパーパラメータを指定\n",
    "    model.fit(X_train, y_train)\n",
    "    y_pred = model.predict(X_test)\n",
    "    # テストデータを用いた評価\n",
    "    score = mean_squared_error(y_pred, y_test)\n",
    "    \n",
    "    print(score)\n",
    "    \n",
    "    return score"
   ]
  },
  {
   "cell_type": "code",
   "execution_count": 78,
   "metadata": {},
   "outputs": [
    {
     "name": "stdout",
     "output_type": "stream",
     "text": [
      "[iter 0] loss=3.5322 val_loss=0.0000 scale=0.5000 norm=3.0052\n",
      "[iter 100] loss=3.0222 val_loss=0.0000 scale=1.0000 norm=3.5822\n",
      "[iter 200] loss=2.6467 val_loss=0.0000 scale=1.0000 norm=2.4293\n",
      "[iter 300] loss=2.3493 val_loss=0.0000 scale=1.0000 norm=1.8918\n",
      "[iter 400] loss=2.1073 val_loss=0.0000 scale=1.0000 norm=1.6512\n",
      "[iter 500] loss=1.9696 val_loss=0.0000 scale=1.0000 norm=1.5769\n",
      "8.063370444775725\n"
     ]
    },
    {
     "name": "stderr",
     "output_type": "stream",
     "text": [
      "[I 2019-12-15 01:41:00,883] Finished trial#0 resulted in value: 8.063370444775725. Current best value is 8.063370444775725 with parameters: {'Base': <function default_tree_learner at 0x0000013D0EA41E58>, 'n_estimators': 502, 'minibatch_frac': 0.7000000000000001}.\n"
     ]
    },
    {
     "name": "stdout",
     "output_type": "stream",
     "text": [
      "[iter 0] loss=3.7032 val_loss=0.0000 scale=0.5000 norm=3.4064\n",
      "[iter 100] loss=3.0644 val_loss=0.0000 scale=1.0000 norm=3.7398\n",
      "[iter 200] loss=2.6996 val_loss=0.0000 scale=1.0000 norm=2.5672\n",
      "[iter 300] loss=2.3901 val_loss=0.0000 scale=1.0000 norm=2.0119\n",
      "8.322583558322583\n"
     ]
    },
    {
     "name": "stderr",
     "output_type": "stream",
     "text": [
      "[I 2019-12-15 01:41:02,362] Finished trial#1 resulted in value: 8.322583558322583. Current best value is 8.063370444775725 with parameters: {'Base': <function default_tree_learner at 0x0000013D0EA41E58>, 'n_estimators': 502, 'minibatch_frac': 0.7000000000000001}.\n"
     ]
    },
    {
     "name": "stdout",
     "output_type": "stream",
     "text": [
      "[iter 0] loss=3.6397 val_loss=0.0000 scale=0.5000 norm=3.4026\n",
      "[iter 100] loss=3.0910 val_loss=0.0000 scale=1.0000 norm=3.7841\n",
      "[iter 200] loss=2.7135 val_loss=0.0000 scale=1.0000 norm=2.4606\n",
      "[iter 300] loss=2.3938 val_loss=0.0000 scale=1.0000 norm=1.9223\n",
      "15.918140271682388\n"
     ]
    },
    {
     "name": "stderr",
     "output_type": "stream",
     "text": [
      "[I 2019-12-15 01:41:04,150] Finished trial#2 resulted in value: 15.918140271682388. Current best value is 8.063370444775725 with parameters: {'Base': <function default_tree_learner at 0x0000013D0EA41E58>, 'n_estimators': 502, 'minibatch_frac': 0.7000000000000001}.\n"
     ]
    },
    {
     "name": "stdout",
     "output_type": "stream",
     "text": [
      "[iter 0] loss=3.5568 val_loss=0.0000 scale=0.5000 norm=3.1075\n",
      "[iter 100] loss=3.1845 val_loss=0.0000 scale=1.0000 norm=4.2239\n",
      "[iter 200] loss=2.8651 val_loss=0.0000 scale=1.0000 norm=3.2274\n",
      "[iter 300] loss=2.7999 val_loss=0.0000 scale=0.5000 norm=1.6472\n",
      "34.36524806404912\n"
     ]
    },
    {
     "name": "stderr",
     "output_type": "stream",
     "text": [
      "[I 2019-12-15 01:41:05,414] Finished trial#3 resulted in value: 34.36524806404912. Current best value is 8.063370444775725 with parameters: {'Base': <function default_tree_learner at 0x0000013D0EA41E58>, 'n_estimators': 502, 'minibatch_frac': 0.7000000000000001}.\n"
     ]
    },
    {
     "name": "stdout",
     "output_type": "stream",
     "text": [
      "[iter 0] loss=3.6371 val_loss=0.0000 scale=0.5000 norm=3.3631\n",
      "[iter 100] loss=3.1057 val_loss=0.0000 scale=1.0000 norm=3.9150\n",
      "[iter 200] loss=2.7221 val_loss=0.0000 scale=1.0000 norm=2.5370\n",
      "[iter 300] loss=2.3990 val_loss=0.0000 scale=1.0000 norm=1.9539\n",
      "[iter 400] loss=2.1525 val_loss=0.0000 scale=1.0000 norm=1.7050\n",
      "[iter 500] loss=1.9837 val_loss=0.0000 scale=1.0000 norm=1.5783\n",
      "6.058323070248742\n"
     ]
    },
    {
     "name": "stderr",
     "output_type": "stream",
     "text": [
      "[I 2019-12-15 01:41:07,950] Finished trial#4 resulted in value: 6.058323070248742. Current best value is 6.058323070248742 with parameters: {'Base': <function default_tree_learner at 0x0000013D0EA41E58>, 'n_estimators': 567, 'minibatch_frac': 0.9}.\n"
     ]
    },
    {
     "name": "stdout",
     "output_type": "stream",
     "text": [
      "[iter 0] loss=3.6542 val_loss=0.0000 scale=0.5000 norm=3.3851\n",
      "[iter 100] loss=3.0966 val_loss=0.0000 scale=1.0000 norm=3.8774\n",
      "14.429678379896751\n"
     ]
    },
    {
     "name": "stderr",
     "output_type": "stream",
     "text": [
      "[I 2019-12-15 01:41:08,838] Finished trial#5 resulted in value: 14.429678379896751. Current best value is 6.058323070248742 with parameters: {'Base': <function default_tree_learner at 0x0000013D0EA41E58>, 'n_estimators': 567, 'minibatch_frac': 0.9}.\n"
     ]
    },
    {
     "name": "stdout",
     "output_type": "stream",
     "text": [
      "[iter 0] loss=3.7570 val_loss=0.0000 scale=0.5000 norm=3.5821\n",
      "[iter 100] loss=3.0971 val_loss=0.0000 scale=1.0000 norm=3.7369\n",
      "[iter 200] loss=2.9510 val_loss=0.0000 scale=1.0000 norm=3.6081\n",
      "[iter 300] loss=2.8610 val_loss=0.0000 scale=0.5000 norm=1.7817\n",
      "[iter 400] loss=2.7917 val_loss=0.0000 scale=0.5000 norm=1.6142\n",
      "27.62396342374021\n"
     ]
    },
    {
     "name": "stderr",
     "output_type": "stream",
     "text": [
      "[I 2019-12-15 01:41:10,465] Finished trial#6 resulted in value: 27.62396342374021. Current best value is 6.058323070248742 with parameters: {'Base': <function default_tree_learner at 0x0000013D0EA41E58>, 'n_estimators': 567, 'minibatch_frac': 0.9}.\n"
     ]
    },
    {
     "name": "stdout",
     "output_type": "stream",
     "text": [
      "[iter 0] loss=3.6484 val_loss=0.0000 scale=0.5000 norm=3.4067\n",
      "[iter 100] loss=3.2021 val_loss=0.0000 scale=1.0000 norm=4.2220\n",
      "[iter 200] loss=2.9713 val_loss=0.0000 scale=1.0000 norm=3.7269\n",
      "[iter 300] loss=2.8407 val_loss=0.0000 scale=1.0000 norm=3.3496\n",
      "[iter 400] loss=2.7986 val_loss=0.0000 scale=1.0000 norm=3.2614\n",
      "[iter 500] loss=2.8332 val_loss=0.0000 scale=0.5000 norm=1.7308\n",
      "21.313669680506564\n"
     ]
    },
    {
     "name": "stderr",
     "output_type": "stream",
     "text": [
      "[I 2019-12-15 01:41:12,378] Finished trial#7 resulted in value: 21.313669680506564. Current best value is 6.058323070248742 with parameters: {'Base': <function default_tree_learner at 0x0000013D0EA41E58>, 'n_estimators': 567, 'minibatch_frac': 0.9}.\n"
     ]
    },
    {
     "name": "stdout",
     "output_type": "stream",
     "text": [
      "[iter 0] loss=3.6769 val_loss=0.0000 scale=0.5000 norm=3.5010\n",
      "[iter 100] loss=3.0503 val_loss=0.0000 scale=1.0000 norm=3.6513\n",
      "[iter 200] loss=2.7300 val_loss=0.0000 scale=1.0000 norm=2.8393\n",
      "14.964761046938948\n"
     ]
    },
    {
     "name": "stderr",
     "output_type": "stream",
     "text": [
      "[I 2019-12-15 01:41:13,419] Finished trial#8 resulted in value: 14.964761046938948. Current best value is 6.058323070248742 with parameters: {'Base': <function default_tree_learner at 0x0000013D0EA41E58>, 'n_estimators': 567, 'minibatch_frac': 0.9}.\n"
     ]
    },
    {
     "name": "stdout",
     "output_type": "stream",
     "text": [
      "[iter 0] loss=3.6415 val_loss=0.0000 scale=0.5000 norm=3.2843\n",
      "[iter 100] loss=3.1718 val_loss=0.0000 scale=1.0000 norm=4.3080\n",
      "[iter 200] loss=2.9422 val_loss=0.0000 scale=1.0000 norm=3.4417\n",
      "[iter 300] loss=2.8481 val_loss=0.0000 scale=1.0000 norm=3.4777\n",
      "[iter 400] loss=2.8057 val_loss=0.0000 scale=0.5000 norm=1.6570\n",
      "24.760698221577833\n"
     ]
    },
    {
     "name": "stderr",
     "output_type": "stream",
     "text": [
      "[I 2019-12-15 01:41:15,028] Finished trial#9 resulted in value: 24.760698221577833. Current best value is 6.058323070248742 with parameters: {'Base': <function default_tree_learner at 0x0000013D0EA41E58>, 'n_estimators': 567, 'minibatch_frac': 0.9}.\n"
     ]
    }
   ],
   "source": [
    "# optunaによる最適化呼び出し\n",
    "f = partial(objectives, X_train, Y_train)\n",
    "opt = optuna.create_study(direction='minimize')# scoreの最小化を目指す。\n",
    "opt.optimize(f, n_trials=10)"
   ]
  },
  {
   "cell_type": "code",
   "execution_count": 79,
   "metadata": {},
   "outputs": [
    {
     "name": "stdout",
     "output_type": "stream",
     "text": [
      "最終トライアル回数: 10\n",
      "ベストトライアル:\n",
      "値: 6.058323070248742\n",
      "パラメータ:\n",
      "Base: <function default_tree_learner at 0x0000013D0EA41E58>\n",
      "n_estimators: 567\n",
      "minibatch_frac: 0.9\n"
     ]
    }
   ],
   "source": [
    "# 実行結果表示 最適パラメータ格納\n",
    "params_best = {\n",
    "        # 固定パラメータ\n",
    "        'Dist':Normal,\n",
    "        'Score':MLE(),\n",
    "        'Base':default_tree_learner,\n",
    "        'natural_gradient':True,\n",
    "        'learning_rate':0.01,\n",
    "        'verbose':True,\n",
    "        'verbose_eval':100,\n",
    "        'tol':1e-4,\n",
    "        \n",
    "        # サーチパラメータ\n",
    "        'n_estimators':1,\n",
    "        'minibatch_frac':1,    \n",
    "    }\n",
    "\n",
    "print('最終トライアル回数: {}'.format(len(opt.trials)))\n",
    "print('ベストトライアル:')\n",
    "trial = opt.best_trial\n",
    "print('値: {}'.format(trial.value))\n",
    "print('パラメータ:')\n",
    "for key, value in trial.params.items():\n",
    "    params_best[key] = value\n",
    "    print('{}: {}'.format(key, value))"
   ]
  },
  {
   "cell_type": "code",
   "execution_count": 80,
   "metadata": {},
   "outputs": [
    {
     "name": "stdout",
     "output_type": "stream",
     "text": [
      "[iter 0] loss=3.6183 val_loss=0.0000 scale=0.5000 norm=3.3180\n",
      "[iter 100] loss=3.0721 val_loss=0.0000 scale=1.0000 norm=3.7667\n",
      "[iter 200] loss=2.6900 val_loss=0.0000 scale=1.0000 norm=2.4780\n",
      "[iter 300] loss=2.3912 val_loss=0.0000 scale=1.0000 norm=2.0075\n",
      "[iter 400] loss=2.1644 val_loss=0.0000 scale=1.0000 norm=1.7488\n",
      "[iter 500] loss=1.9856 val_loss=0.0000 scale=1.0000 norm=1.5696\n",
      "Test MSE 6.816194258393561\n",
      "Test NLL 2.401987849219012\n"
     ]
    }
   ],
   "source": [
    "ngb = NGBRegressor(**params_best).fit(X_train, Y_train)\n",
    "Y_preds = ngb.predict(X_test)\n",
    "Y_dists = ngb.pred_dist(X_test)\n",
    "\n",
    "# test Mean Squared Error\n",
    "test_MSE = mean_squared_error(Y_preds, Y_test)\n",
    "print('Test MSE', test_MSE)\n",
    "\n",
    "# test Negative Log Likelihood\n",
    "test_NLL = -Y_dists.logpdf(Y_test.flatten()).mean()\n",
    "print('Test NLL', test_NLL)"
   ]
  },
  {
   "cell_type": "code",
   "execution_count": null,
   "metadata": {},
   "outputs": [],
   "source": []
  }
 ],
 "metadata": {
  "kernelspec": {
   "display_name": "Python 3",
   "language": "python",
   "name": "python3"
  },
  "language_info": {
   "codemirror_mode": {
    "name": "ipython",
    "version": 3
   },
   "file_extension": ".py",
   "mimetype": "text/x-python",
   "name": "python",
   "nbconvert_exporter": "python",
   "pygments_lexer": "ipython3",
   "version": "3.7.5"
  }
 },
 "nbformat": 4,
 "nbformat_minor": 4
}
