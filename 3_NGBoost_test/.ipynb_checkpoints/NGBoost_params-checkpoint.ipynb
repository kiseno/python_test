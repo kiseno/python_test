{
 "cells": [
  {
   "cell_type": "code",
   "execution_count": 3,
   "metadata": {},
   "outputs": [],
   "source": [
    "from ngboost import NGBRegressor\n",
    "from ngboost.learners import default_tree_learner, default_linear_learner\n",
    "from ngboost.scores import MLE,CRPS\n",
    "from ngboost.distns import Normal\n",
    "\n",
    "from sklearn.datasets import load_boston\n",
    "from sklearn.model_selection import train_test_split\n",
    "from sklearn.metrics import mean_squared_error\n",
    "\n",
    "import numpy as np\n",
    "import matplotlib.pyplot as plt\n",
    "import optuna \n",
    "from functools import partial"
   ]
  },
  {
   "cell_type": "markdown",
   "metadata": {},
   "source": [
    "### データの準備"
   ]
  },
  {
   "cell_type": "code",
   "execution_count": 4,
   "metadata": {},
   "outputs": [],
   "source": [
    "# データのロード\n",
    "X, Y = load_boston(True)\n",
    "X_train, X_test, Y_train, Y_test = train_test_split(X, Y, test_size=0.2)"
   ]
  },
  {
   "cell_type": "markdown",
   "metadata": {},
   "source": [
    "### Baseの選択"
   ]
  },
  {
   "cell_type": "code",
   "execution_count": 5,
   "metadata": {},
   "outputs": [
    {
     "name": "stdout",
     "output_type": "stream",
     "text": [
      "[iter 0] loss=3.6473 val_loss=0.0000 scale=0.5000 norm=3.3993\n",
      "[iter 100] loss=3.0924 val_loss=0.0000 scale=1.0000 norm=3.8255\n",
      "[iter 200] loss=2.7095 val_loss=0.0000 scale=1.0000 norm=2.4677\n",
      "[iter 300] loss=2.4011 val_loss=0.0000 scale=1.0000 norm=1.9740\n",
      "[iter 400] loss=2.1658 val_loss=0.0000 scale=1.0000 norm=1.7118\n",
      "Test MSE 11.145476068287891\n",
      "Test NLL 2.711066381967899\n",
      "Wall time: 2.31 s\n"
     ]
    }
   ],
   "source": [
    "%%time\n",
    "# 決定木\n",
    "ngb = NGBRegressor(Base=default_tree_learner).fit(X_train, Y_train)\n",
    "Y_preds = ngb.predict(X_test)\n",
    "Y_dists = ngb.pred_dist(X_test)\n",
    "\n",
    "# test Mean Squared Error\n",
    "test_MSE = mean_squared_error(Y_preds, Y_test)\n",
    "print('Test MSE', test_MSE)\n",
    "\n",
    "# test Negative Log Likelihood\n",
    "test_NLL = -Y_dists.logpdf(Y_test.flatten()).mean()\n",
    "print('Test NLL', test_NLL)"
   ]
  },
  {
   "cell_type": "code",
   "execution_count": 6,
   "metadata": {},
   "outputs": [
    {
     "data": {
      "image/png": "[encoded data removed]",
      "text/plain": [
       "<Figure size 432x288 with 1 Axes>"
      ]
     },
     "metadata": {
      "needs_background": "light"
     },
     "output_type": "display_data"
    }
   ],
   "source": [
    "y_range = np.linspace(min(Y_test), max(Y_test)).reshape((-1, 1))\n",
    "dist_values = Y_dists.pdf(y_range).transpose()\n",
    "\n",
    "no = 8\n",
    "plt.plot(y_range,dist_values[no])\n",
    "plt.vlines(Y_preds[no],0,max(dist_values[no]))\n",
    "\n",
    "plt.show()"
   ]
  },
  {
   "cell_type": "code",
   "execution_count": 7,
   "metadata": {},
   "outputs": [
    {
     "name": "stdout",
     "output_type": "stream",
     "text": [
      "[iter 0] loss=3.6473 val_loss=0.0000 scale=0.5000 norm=3.3993\n",
      "[iter 100] loss=3.1850 val_loss=0.0000 scale=1.0000 norm=4.2187\n",
      "[iter 200] loss=2.9176 val_loss=0.0000 scale=1.0000 norm=3.4413\n",
      "[iter 300] loss=2.8299 val_loss=0.0000 scale=1.0000 norm=3.3688\n",
      "[iter 400] loss=2.8134 val_loss=0.0000 scale=0.5000 norm=1.6883\n",
      "Test MSE 25.243566950761732\n",
      "Test NLL 3.0080796511247194\n",
      "Wall time: 1.9 s\n"
     ]
    }
   ],
   "source": [
    "%%time\n",
    "# Ridge\n",
    "ngb = NGBRegressor(Base=default_linear_learner).fit(X_train, Y_train)\n",
    "Y_preds = ngb.predict(X_test)\n",
    "Y_dists = ngb.pred_dist(X_test)\n",
    "\n",
    "# test Mean Squared Error\n",
    "test_MSE = mean_squared_error(Y_preds, Y_test)\n",
    "print('Test MSE', test_MSE)\n",
    "\n",
    "# test Negative Log Likelihood\n",
    "test_NLL = -Y_dists.logpdf(Y_test.flatten()).mean()\n",
    "print('Test NLL', test_NLL)"
   ]
  },
  {
   "cell_type": "code",
   "execution_count": 8,
   "metadata": {},
   "outputs": [
    {
     "data": {
      "image/png": "[encoded data removed]",
      "text/plain": [
       "<Figure size 432x288 with 1 Axes>"
      ]
     },
     "metadata": {
      "needs_background": "light"
     },
     "output_type": "display_data"
    }
   ],
   "source": [
    "y_range = np.linspace(min(Y_test), max(Y_test)).reshape((-1, 1))\n",
    "dist_values = Y_dists.pdf(y_range).transpose()\n",
    "\n",
    "no = 8\n",
    "plt.plot(y_range,dist_values[no])\n",
    "plt.vlines(Y_preds[no],0,max(dist_values[no]))\n",
    "\n",
    "plt.show()"
   ]
  },
  {
   "cell_type": "markdown",
   "metadata": {},
   "source": [
    "### ハイパーパラメータを色々回してみる"
   ]
  },
  {
   "cell_type": "code",
   "execution_count": 23,
   "metadata": {},
   "outputs": [],
   "source": [
    "# optunaで最適化のために一連の処理を関数化\n",
    "def objectives(X_train, Y_train, trial):\n",
    "    # scikit-learnでお試しデータの準備\n",
    "    X, Y = load_boston(True)\n",
    "    X_train, X_test, y_train, y_test = train_test_split(X, Y, test_size=0.2)\n",
    "    # optunaでのハイパーパラメータサーチ範囲の設定\n",
    "    \n",
    "    params = {\n",
    "        # 固定パラメータ\n",
    "        'Base':default_tree_learner,#決定木。Ridge回帰の場合は、default_linear_learner\n",
    "        'Dist':Normal,\n",
    "        'Score':CRPS(),#MLE()も可\n",
    "        'natural_gradient':True,\n",
    "        'learning_rate':0.01,\n",
    "        'verbose':True,\n",
    "        'verbose_eval':100,\n",
    "        'tol':1e-4,\n",
    "        \n",
    "        # サーチパラメータ\n",
    "        'n_estimators': trial.suggest_int('n_estimators', 100,800),\n",
    "        'minibatch_frac':trial.suggest_discrete_uniform('minibatch_frac', 0.1, 1.0, 0.1),\n",
    "    }\n",
    " \n",
    "\n",
    "    # 学習+予測\n",
    "    model = NGBRegressor(**params)# 検討するハイパーパラメータを指定\n",
    "    model.fit(X_train, y_train)\n",
    "    Y_dists = ngb.pred_dist(X_test)\n",
    "    # テストデータを用いた評価\n",
    "    score = -Y_dists.logpdf(Y_test.flatten()).mean()\n",
    "    \n",
    "    print(score)\n",
    "    \n",
    "    return score"
   ]
  },
  {
   "cell_type": "code",
   "execution_count": 24,
   "metadata": {},
   "outputs": [
    {
     "name": "stdout",
     "output_type": "stream",
     "text": [
      "[iter 0] loss=5.1377 val_loss=0.0000 scale=1.0000 norm=0.7615\n",
      "[iter 100] loss=5.1692 val_loss=0.0000 scale=1.0000 norm=0.7929\n",
      "[iter 200] loss=4.3500 val_loss=0.0000 scale=1.0000 norm=0.7097\n",
      "[iter 300] loss=4.0722 val_loss=0.0000 scale=1.0000 norm=0.7126\n",
      "[iter 400] loss=3.6608 val_loss=0.0000 scale=1.0000 norm=0.6367\n",
      "[iter 500] loss=3.0986 val_loss=0.0000 scale=1.0000 norm=0.6544\n",
      "[iter 600] loss=2.9026 val_loss=0.0000 scale=1.0000 norm=0.5981\n",
      "4.0412278121040455\n"
     ]
    },
    {
     "name": "stderr",
     "output_type": "stream",
     "text": [
      "[I 2019-12-15 19:13:32,793] Finished trial#0 resulted in value: 4.0412278121040455. Current best value is 4.0412278121040455 with parameters: {'n_estimators': 668, 'minibatch_frac': 0.30000000000000004}.\n"
     ]
    },
    {
     "name": "stdout",
     "output_type": "stream",
     "text": [
      "[iter 0] loss=4.8940 val_loss=0.0000 scale=1.0000 norm=0.7634\n",
      "[iter 100] loss=4.5206 val_loss=0.0000 scale=1.0000 norm=0.7268\n",
      "4.5885179591413365\n"
     ]
    },
    {
     "name": "stderr",
     "output_type": "stream",
     "text": [
      "[I 2019-12-15 19:13:33,435] Finished trial#1 resulted in value: 4.5885179591413365. Current best value is 4.0412278121040455 with parameters: {'n_estimators': 668, 'minibatch_frac': 0.30000000000000004}.\n"
     ]
    },
    {
     "name": "stdout",
     "output_type": "stream",
     "text": [
      "[iter 0] loss=4.9917 val_loss=0.0000 scale=1.0000 norm=0.8053\n",
      "[iter 100] loss=4.7818 val_loss=0.0000 scale=1.0000 norm=0.7441\n",
      "[iter 200] loss=3.5868 val_loss=0.0000 scale=1.0000 norm=0.6174\n",
      "[iter 300] loss=3.8734 val_loss=0.0000 scale=1.0000 norm=0.7008\n",
      "[iter 400] loss=3.4615 val_loss=0.0000 scale=1.0000 norm=0.6082\n",
      "[iter 500] loss=3.4276 val_loss=0.0000 scale=1.0000 norm=0.6344\n",
      "[iter 600] loss=3.0459 val_loss=0.0000 scale=1.0000 norm=0.6407\n",
      "[iter 700] loss=3.1333 val_loss=0.0000 scale=1.0000 norm=0.6832\n",
      "4.186618527109072\n"
     ]
    },
    {
     "name": "stderr",
     "output_type": "stream",
     "text": [
      "[I 2019-12-15 19:13:36,467] Finished trial#2 resulted in value: 4.186618527109072. Current best value is 4.0412278121040455 with parameters: {'n_estimators': 668, 'minibatch_frac': 0.30000000000000004}.\n"
     ]
    },
    {
     "name": "stdout",
     "output_type": "stream",
     "text": [
      "[iter 0] loss=4.9251 val_loss=0.0000 scale=1.0000 norm=0.8094\n",
      "[iter 100] loss=4.1103 val_loss=0.0000 scale=1.0000 norm=0.6961\n",
      "[iter 200] loss=4.2828 val_loss=0.0000 scale=1.0000 norm=0.7097\n",
      "[iter 300] loss=3.7587 val_loss=0.0000 scale=1.0000 norm=0.6709\n",
      "[iter 400] loss=3.2848 val_loss=0.0000 scale=1.0000 norm=0.6605\n",
      "[iter 500] loss=3.4654 val_loss=0.0000 scale=1.0000 norm=0.6535\n",
      "[iter 600] loss=2.4894 val_loss=0.0000 scale=1.0000 norm=0.5704\n",
      "[iter 700] loss=2.5514 val_loss=0.0000 scale=1.0000 norm=0.6478\n",
      "4.263302916537333\n"
     ]
    },
    {
     "name": "stderr",
     "output_type": "stream",
     "text": [
      "[I 2019-12-15 19:13:39,612] Finished trial#3 resulted in value: 4.263302916537333. Current best value is 4.0412278121040455 with parameters: {'n_estimators': 668, 'minibatch_frac': 0.30000000000000004}.\n"
     ]
    },
    {
     "name": "stdout",
     "output_type": "stream",
     "text": [
      "[iter 0] loss=5.0172 val_loss=0.0000 scale=1.0000 norm=0.7932\n",
      "[iter 100] loss=4.4971 val_loss=0.0000 scale=1.0000 norm=0.7492\n",
      "[iter 200] loss=4.2961 val_loss=0.0000 scale=1.0000 norm=0.7369\n",
      "[iter 300] loss=3.7798 val_loss=0.0000 scale=1.0000 norm=0.6766\n",
      "[iter 400] loss=3.5550 val_loss=0.0000 scale=1.0000 norm=0.6620\n",
      "[iter 500] loss=3.2201 val_loss=0.0000 scale=1.0000 norm=0.6472\n",
      "4.067628977573544\n"
     ]
    },
    {
     "name": "stderr",
     "output_type": "stream",
     "text": [
      "[I 2019-12-15 19:13:42,547] Finished trial#4 resulted in value: 4.067628977573544. Current best value is 4.0412278121040455 with parameters: {'n_estimators': 668, 'minibatch_frac': 0.30000000000000004}.\n"
     ]
    },
    {
     "name": "stdout",
     "output_type": "stream",
     "text": [
      "[iter 0] loss=5.2661 val_loss=0.0000 scale=1.0000 norm=0.7949\n",
      "[iter 100] loss=4.7311 val_loss=0.0000 scale=1.0000 norm=0.7668\n",
      "[iter 200] loss=4.3425 val_loss=0.0000 scale=1.0000 norm=0.7078\n",
      "[iter 300] loss=3.8243 val_loss=0.0000 scale=1.0000 norm=0.6789\n",
      "[iter 400] loss=3.4524 val_loss=0.0000 scale=1.0000 norm=0.6398\n",
      "4.643069232613399\n"
     ]
    },
    {
     "name": "stderr",
     "output_type": "stream",
     "text": [
      "[I 2019-12-15 19:13:44,637] Finished trial#5 resulted in value: 4.643069232613399. Current best value is 4.0412278121040455 with parameters: {'n_estimators': 668, 'minibatch_frac': 0.30000000000000004}.\n"
     ]
    },
    {
     "name": "stdout",
     "output_type": "stream",
     "text": [
      "[iter 0] loss=5.0325 val_loss=0.0000 scale=1.0000 norm=0.7870\n",
      "[iter 100] loss=4.5338 val_loss=0.0000 scale=1.0000 norm=0.7459\n",
      "[iter 200] loss=4.1132 val_loss=0.0000 scale=1.0000 norm=0.7092\n",
      "4.461767806754371\n"
     ]
    },
    {
     "name": "stderr",
     "output_type": "stream",
     "text": [
      "[I 2019-12-15 19:13:45,754] Finished trial#6 resulted in value: 4.461767806754371. Current best value is 4.0412278121040455 with parameters: {'n_estimators': 668, 'minibatch_frac': 0.30000000000000004}.\n"
     ]
    },
    {
     "name": "stdout",
     "output_type": "stream",
     "text": [
      "[iter 0] loss=4.2745 val_loss=0.0000 scale=1.0000 norm=0.6780\n",
      "[iter 100] loss=3.7377 val_loss=0.0000 scale=1.0000 norm=0.6559\n",
      "4.611547465064887\n"
     ]
    },
    {
     "name": "stderr",
     "output_type": "stream",
     "text": [
      "[I 2019-12-15 19:13:46,433] Finished trial#7 resulted in value: 4.611547465064887. Current best value is 4.0412278121040455 with parameters: {'n_estimators': 668, 'minibatch_frac': 0.30000000000000004}.\n"
     ]
    },
    {
     "name": "stdout",
     "output_type": "stream",
     "text": [
      "[iter 0] loss=5.3254 val_loss=0.0000 scale=1.0000 norm=0.8480\n",
      "[iter 100] loss=4.8108 val_loss=0.0000 scale=1.0000 norm=0.7569\n",
      "[iter 200] loss=4.1948 val_loss=0.0000 scale=1.0000 norm=0.7272\n",
      "[iter 300] loss=4.0337 val_loss=0.0000 scale=1.0000 norm=0.7081\n",
      "4.086621597461244\n"
     ]
    },
    {
     "name": "stderr",
     "output_type": "stream",
     "text": [
      "[I 2019-12-15 19:13:48,317] Finished trial#8 resulted in value: 4.086621597461244. Current best value is 4.0412278121040455 with parameters: {'n_estimators': 668, 'minibatch_frac': 0.30000000000000004}.\n"
     ]
    },
    {
     "name": "stdout",
     "output_type": "stream",
     "text": [
      "[iter 0] loss=5.0397 val_loss=0.0000 scale=1.0000 norm=0.7704\n",
      "[iter 100] loss=4.4256 val_loss=0.0000 scale=1.0000 norm=0.7196\n",
      "[iter 200] loss=4.1378 val_loss=0.0000 scale=1.0000 norm=0.7136\n",
      "4.275933556949135\n"
     ]
    },
    {
     "name": "stderr",
     "output_type": "stream",
     "text": [
      "[I 2019-12-15 19:13:49,724] Finished trial#9 resulted in value: 4.275933556949135. Current best value is 4.0412278121040455 with parameters: {'n_estimators': 668, 'minibatch_frac': 0.30000000000000004}.\n"
     ]
    }
   ],
   "source": [
    "# optunaによる最適化呼び出し\n",
    "f = partial(objectives, X_train, Y_train)\n",
    "opt = optuna.create_study(direction='minimize')# scoreの最小化を目指す。\n",
    "opt.optimize(f, n_trials=10)"
   ]
  },
  {
   "cell_type": "code",
   "execution_count": 25,
   "metadata": {},
   "outputs": [
    {
     "name": "stdout",
     "output_type": "stream",
     "text": [
      "最終トライアル回数: 10\n",
      "ベストトライアル:\n",
      "値: 4.0412278121040455\n",
      "パラメータ:\n",
      "n_estimators: 668\n",
      "minibatch_frac: 0.30000000000000004\n"
     ]
    }
   ],
   "source": [
    "# 実行結果表示 最適パラメータ格納\n",
    "params_best = {\n",
    "        # 固定パラメータ\n",
    "        'Dist':Normal,\n",
    "        'Score':MLE(),\n",
    "        'Base':default_tree_learner,\n",
    "        'natural_gradient':True,\n",
    "        'learning_rate':0.01,\n",
    "        'verbose':True,\n",
    "        'verbose_eval':100,\n",
    "        'tol':1e-4,\n",
    "        \n",
    "        # サーチパラメータ\n",
    "        'n_estimators':1,\n",
    "        'minibatch_frac':1,    \n",
    "    }\n",
    "\n",
    "print('最終トライアル回数: {}'.format(len(opt.trials)))\n",
    "print('ベストトライアル:')\n",
    "trial = opt.best_trial\n",
    "print('値: {}'.format(trial.value))\n",
    "print('パラメータ:')\n",
    "for key, value in trial.params.items():\n",
    "    params_best[key] = value\n",
    "    print('{}: {}'.format(key, value))"
   ]
  },
  {
   "cell_type": "code",
   "execution_count": 26,
   "metadata": {},
   "outputs": [
    {
     "name": "stdout",
     "output_type": "stream",
     "text": [
      "[iter 0] loss=3.5696 val_loss=0.0000 scale=0.5000 norm=3.1748\n",
      "[iter 100] loss=3.1162 val_loss=0.0000 scale=1.0000 norm=3.9068\n",
      "[iter 200] loss=2.7327 val_loss=0.0000 scale=1.0000 norm=2.5890\n",
      "[iter 300] loss=2.4569 val_loss=0.0000 scale=1.0000 norm=2.1964\n",
      "[iter 400] loss=2.2823 val_loss=0.0000 scale=1.0000 norm=2.0554\n",
      "[iter 500] loss=2.1079 val_loss=0.0000 scale=1.0000 norm=1.7532\n",
      "[iter 600] loss=2.0238 val_loss=0.0000 scale=1.0000 norm=1.7707\n",
      "Test MSE 10.062616100535932\n",
      "Test NLL 2.5598964048109587\n"
     ]
    }
   ],
   "source": [
    "ngb = NGBRegressor(**params_best).fit(X_train, Y_train)\n",
    "Y_preds = ngb.predict(X_test)\n",
    "Y_dists = ngb.pred_dist(X_test)\n",
    "\n",
    "# test Mean Squared Error\n",
    "test_MSE = mean_squared_error(Y_preds, Y_test)\n",
    "print('Test MSE', test_MSE)\n",
    "\n",
    "# test Negative Log Likelihood\n",
    "test_NLL = -Y_dists.logpdf(Y_test.flatten()).mean()\n",
    "print('Test NLL', test_NLL)"
   ]
  },
  {
   "cell_type": "code",
   "execution_count": null,
   "metadata": {},
   "outputs": [],
   "source": []
  }
 ],
 "metadata": {
  "kernelspec": {
   "display_name": "Python 3",
   "language": "python",
   "name": "python3"
  },
  "language_info": {
   "codemirror_mode": {
    "name": "ipython",
    "version": 3
   },
   "file_extension": ".py",
   "mimetype": "text/x-python",
   "name": "python",
   "nbconvert_exporter": "python",
   "pygments_lexer": "ipython3",
   "version": "3.7.5"
  }
 },
 "nbformat": 4,
 "nbformat_minor": 4
}
